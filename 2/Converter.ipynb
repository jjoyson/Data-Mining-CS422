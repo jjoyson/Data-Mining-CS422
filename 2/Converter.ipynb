{
 "cells": [
  {
   "cell_type": "code",
   "execution_count": 44,
   "metadata": {},
   "outputs": [],
   "source": [
    "dic = {}\n",
    "products = open(\"products.csv\", \"r\")\n",
    "lst = products.read().split('\\n')\n",
    "for l in lst:\n",
    "    temp = l.split(',')\n",
    "    dic[temp[0]] = temp[1]\n",
    "rfiles = [\"tr-1k.csv\",\"tr-5k.csv\",\"tr-20k.csv\",\"tr-75k.csv\"]\n",
    "wfiles = [\"tr-1k-canonical.csv\",\"tr-5k-canonical.csv\",\"tr-20k-canonical.csv\",\"tr-75k-canonical.csv\"]"
   ]
  },
  {
   "cell_type": "code",
   "execution_count": 45,
   "metadata": {},
   "outputs": [],
   "source": [
    "for f in range(len(rfiles)):\n",
    "    rfile = open(rfiles[f],\"r\")\n",
    "    wfile = open(wfiles[f],\"w\")\n",
    "    lst = rfile.read().split('\\n')\n",
    "    for l in lst:\n",
    "        temp = l.split(',')\n",
    "        string = \"\"\n",
    "        for t in range(len(temp)):\n",
    "            if not t == 0:\n",
    "                string += dic[temp[t].replace(\" \",\"\")] + \",\"\n",
    "        wfile.write(string[:-1]+\"\\n\")"
   ]
  },
  {
   "cell_type": "code",
   "execution_count": 2,
   "metadata": {},
   "outputs": [],
   "source": [
    "import numpy as np"
   ]
  },
  {
   "cell_type": "code",
   "execution_count": 3,
   "metadata": {},
   "outputs": [
    {
     "data": {
      "text/plain": [
       "0.9709505944546686"
      ]
     },
     "execution_count": 3,
     "metadata": {},
     "output_type": "execute_result"
    }
   ],
   "source": [
    "c = -1*((4/10) * np.log2(4/10) + (6/10) * np.log2(6/10))\n",
    "c"
   ]
  },
  {
   "cell_type": "code",
   "execution_count": 8,
   "metadata": {},
   "outputs": [
    {
     "data": {
      "text/plain": [
       "0.8112781244591328"
      ]
     },
     "execution_count": 8,
     "metadata": {},
     "output_type": "execute_result"
    }
   ],
   "source": [
    "a = -1*((3/4) * np.log2(3/4) + (1/4) * np.log2(1/4))\n",
    "a"
   ]
  },
  {
   "cell_type": "code",
   "execution_count": 9,
   "metadata": {},
   "outputs": [
    {
     "data": {
      "text/plain": [
       "0.6500224216483541"
      ]
     },
     "execution_count": 9,
     "metadata": {},
     "output_type": "execute_result"
    }
   ],
   "source": [
    "b = -1*((1/6) * np.log2(1/6) + (5/6) * np.log2(5/6))\n",
    "b"
   ]
  },
  {
   "cell_type": "code",
   "execution_count": 10,
   "metadata": {},
   "outputs": [
    {
     "data": {
      "text/plain": [
       "0.7145247027726656"
      ]
     },
     "execution_count": 10,
     "metadata": {},
     "output_type": "execute_result"
    }
   ],
   "source": [
    "d = (4/10) * a + b * (6/10)\n",
    "d"
   ]
  },
  {
   "cell_type": "code",
   "execution_count": 11,
   "metadata": {},
   "outputs": [
    {
     "data": {
      "text/plain": [
       "0.256425891682003"
      ]
     },
     "execution_count": 11,
     "metadata": {},
     "output_type": "execute_result"
    }
   ],
   "source": [
    "c - d"
   ]
  },
  {
   "cell_type": "code",
   "execution_count": null,
   "metadata": {},
   "outputs": [],
   "source": []
  }
 ],
 "metadata": {
  "kernelspec": {
   "display_name": "Python 3",
   "language": "python",
   "name": "python3"
  },
  "language_info": {
   "codemirror_mode": {
    "name": "ipython",
    "version": 3
   },
   "file_extension": ".py",
   "mimetype": "text/x-python",
   "name": "python",
   "nbconvert_exporter": "python",
   "pygments_lexer": "ipython3",
   "version": "3.6.8"
  },
  "toc": {
   "base_numbering": 1,
   "nav_menu": {},
   "number_sections": true,
   "sideBar": true,
   "skip_h1_title": false,
   "title_cell": "Table of Contents",
   "title_sidebar": "Contents",
   "toc_cell": false,
   "toc_position": {},
   "toc_section_display": true,
   "toc_window_display": false
  }
 },
 "nbformat": 4,
 "nbformat_minor": 2
}
