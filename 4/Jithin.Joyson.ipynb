{
 "cells": [
  {
   "cell_type": "markdown",
   "metadata": {},
   "source": [
    "# CS 422 Section 01\n",
    "<p>Department of Computer Science</p>\n",
    "<p>Illinois Institute of Technology</p>\n",
    "<p>Jithin Joyson</p>\n",
    "<p>Spring 2019: Homework 4</p>"
   ]
  },
  {
   "cell_type": "markdown",
   "metadata": {},
   "source": [
    "## Part 2.1"
   ]
  },
  {
   "cell_type": "code",
   "execution_count": 2,
   "metadata": {},
   "outputs": [],
   "source": [
    "library(textreuse)"
   ]
  },
  {
   "cell_type": "code",
   "execution_count": 3,
   "metadata": {},
   "outputs": [],
   "source": [
    "files <- list.files(\"/Users/Jithin/OneDrive - hawk.iit.edu/Lenovo/School/2019 Spring/CS 422/Homework/4/corpus\", full.names=T) "
   ]
  },
  {
   "cell_type": "markdown",
   "metadata": {},
   "source": [
    "### Part 2.1-A"
   ]
  },
  {
   "cell_type": "code",
   "execution_count": 4,
   "metadata": {},
   "outputs": [],
   "source": [
    "corpus <- TextReuseCorpus(files,tokenizer = tokenize_ngrams, keep_tokens = TRUE)"
   ]
  },
  {
   "cell_type": "code",
   "execution_count": 5,
   "metadata": {},
   "outputs": [
    {
     "data": {
      "text/html": [
       "'There are 22275 tokens'"
      ],
      "text/latex": [
       "'There are 22275 tokens'"
      ],
      "text/markdown": [
       "'There are 22275 tokens'"
      ],
      "text/plain": [
       "[1] \"There are 22275 tokens\""
      ]
     },
     "metadata": {},
     "output_type": "display_data"
    }
   ],
   "source": [
    "total = 0\n",
    "for (i in tokens(corpus)){total <- total + length(i)}\n",
    "paste('There are',total,'tokens')"
   ]
  },
  {
   "cell_type": "markdown",
   "metadata": {},
   "source": [
    "### Part 2.1-B"
   ]
  },
  {
   "cell_type": "markdown",
   "metadata": {},
   "source": [
    "The dimesions of the characteristic matrix is documents x shingles"
   ]
  },
  {
   "cell_type": "code",
   "execution_count": 6,
   "metadata": {},
   "outputs": [
    {
     "data": {
      "text/html": [
       "'There are 100 documents'"
      ],
      "text/latex": [
       "'There are 100 documents'"
      ],
      "text/markdown": [
       "'There are 100 documents'"
      ],
      "text/plain": [
       "[1] \"There are 100 documents\""
      ]
     },
     "metadata": {},
     "output_type": "display_data"
    },
    {
     "data": {
      "text/html": [
       "'There are 22275 shingles'"
      ],
      "text/latex": [
       "'There are 22275 shingles'"
      ],
      "text/markdown": [
       "'There are 22275 shingles'"
      ],
      "text/plain": [
       "[1] \"There are 22275 shingles\""
      ]
     },
     "metadata": {},
     "output_type": "display_data"
    },
    {
     "data": {
      "text/html": [
       "'Thus the dimensions are row x columns 100 X 22275'"
      ],
      "text/latex": [
       "'Thus the dimensions are row x columns 100 X 22275'"
      ],
      "text/markdown": [
       "'Thus the dimensions are row x columns 100 X 22275'"
      ],
      "text/plain": [
       "[1] \"Thus the dimensions are row x columns 100 X 22275\""
      ]
     },
     "metadata": {},
     "output_type": "display_data"
    }
   ],
   "source": [
    "paste('There are',length(files),'documents')\n",
    "paste('There are',total,'shingles')\n",
    "paste('Thus the dimensions are row x columns',length(files),'X',total)"
   ]
  },
  {
   "cell_type": "markdown",
   "metadata": {},
   "source": [
    "### Part 2.1-C"
   ]
  },
  {
   "cell_type": "code",
   "execution_count": 7,
   "metadata": {},
   "outputs": [],
   "source": [
    "doc <- corpus[['orig_taske']]"
   ]
  },
  {
   "cell_type": "code",
   "execution_count": 8,
   "metadata": {},
   "outputs": [
    {
     "data": {
      "text/html": [
       "<ol class=list-inline>\n",
       "\t<li>'in mathematics and'</li>\n",
       "\t<li>'mathematics and computer'</li>\n",
       "\t<li>'and computer science'</li>\n",
       "\t<li>'computer science dynamic'</li>\n",
       "\t<li>'science dynamic programming'</li>\n",
       "</ol>\n"
      ],
      "text/latex": [
       "\\begin{enumerate*}\n",
       "\\item 'in mathematics and'\n",
       "\\item 'mathematics and computer'\n",
       "\\item 'and computer science'\n",
       "\\item 'computer science dynamic'\n",
       "\\item 'science dynamic programming'\n",
       "\\end{enumerate*}\n"
      ],
      "text/markdown": [
       "1. 'in mathematics and'\n",
       "2. 'mathematics and computer'\n",
       "3. 'and computer science'\n",
       "4. 'computer science dynamic'\n",
       "5. 'science dynamic programming'\n",
       "\n",
       "\n"
      ],
      "text/plain": [
       "[1] \"in mathematics and\"          \"mathematics and computer\"   \n",
       "[3] \"and computer science\"        \"computer science dynamic\"   \n",
       "[5] \"science dynamic programming\""
      ]
     },
     "metadata": {},
     "output_type": "display_data"
    }
   ],
   "source": [
    "tokens(doc)[1:5]"
   ]
  },
  {
   "cell_type": "markdown",
   "metadata": {},
   "source": [
    "## Part 2.1-D"
   ]
  },
  {
   "cell_type": "code",
   "execution_count": 9,
   "metadata": {},
   "outputs": [
    {
     "data": {
      "text/html": [
       "'There is a 98.9225589225589 % of reduction in size'"
      ],
      "text/latex": [
       "'There is a 98.9225589225589 \\% of reduction in size'"
      ],
      "text/markdown": [
       "'There is a 98.9225589225589 % of reduction in size'"
      ],
      "text/plain": [
       "[1] \"There is a 98.9225589225589 % of reduction in size\""
      ]
     },
     "metadata": {},
     "output_type": "display_data"
    }
   ],
   "source": [
    "reduction <- (total - 240)/total *100\n",
    "paste('There is a',reduction,'% of reduction in size')"
   ]
  },
  {
   "cell_type": "markdown",
   "metadata": {},
   "source": [
    "## Part 2.1-E"
   ]
  },
  {
   "cell_type": "code",
   "execution_count": 10,
   "metadata": {},
   "outputs": [],
   "source": [
    "signature <- 240\n",
    "sim <- .23"
   ]
  },
  {
   "cell_type": "code",
   "execution_count": 11,
   "metadata": {},
   "outputs": [],
   "source": [
    "bands = 0\n",
    "cur_sim = 1.0\n",
    "for (i in 1:signature) {\n",
    "    if (signature %% i == 0){\n",
    "        check <- lsh_threshold(h=signature, b=i)\n",
    "        if ((check > sim) & (check < cur_sim)){\n",
    "            cur_sim = check\n",
    "            bands = i\n",
    "        }\n",
    "    }\n",
    "}"
   ]
  },
  {
   "cell_type": "code",
   "execution_count": 12,
   "metadata": {},
   "outputs": [
    {
     "data": {
      "text/html": [
       "'There should be 80 bands'"
      ],
      "text/latex": [
       "'There should be 80 bands'"
      ],
      "text/markdown": [
       "'There should be 80 bands'"
      ],
      "text/plain": [
       "[1] \"There should be 80 bands\""
      ]
     },
     "metadata": {},
     "output_type": "display_data"
    }
   ],
   "source": [
    "paste('There should be',bands,'bands')"
   ]
  },
  {
   "cell_type": "markdown",
   "metadata": {},
   "source": [
    "## Part 2.1-F"
   ]
  },
  {
   "cell_type": "code",
   "execution_count": 13,
   "metadata": {},
   "outputs": [],
   "source": [
    "prob <- lsh_probability(h=signature,  b=bands, s=sim)"
   ]
  },
  {
   "cell_type": "code",
   "execution_count": 14,
   "metadata": {},
   "outputs": [
    {
     "data": {
      "text/html": [
       "'The probability is 0.624437324241221 for catching similar documents'"
      ],
      "text/latex": [
       "'The probability is 0.624437324241221 for catching similar documents'"
      ],
      "text/markdown": [
       "'The probability is 0.624437324241221 for catching similar documents'"
      ],
      "text/plain": [
       "[1] \"The probability is 0.624437324241221 for catching similar documents\""
      ]
     },
     "metadata": {},
     "output_type": "display_data"
    }
   ],
   "source": [
    "paste('The probability is',prob,'for catching similar documents')"
   ]
  },
  {
   "cell_type": "markdown",
   "metadata": {},
   "source": [
    "## Part 2.1-G"
   ]
  },
  {
   "cell_type": "code",
   "execution_count": 15,
   "metadata": {},
   "outputs": [],
   "source": [
    "pc <- pairwise_candidates(pairwise_compare(corpus, jaccard_similarity))"
   ]
  },
  {
   "cell_type": "markdown",
   "metadata": {},
   "source": [
    "### Part 2.1-G-I"
   ]
  },
  {
   "cell_type": "code",
   "execution_count": 16,
   "metadata": {},
   "outputs": [],
   "source": [
    "obs_pc <- length(pc[[1]])"
   ]
  },
  {
   "cell_type": "code",
   "execution_count": 17,
   "metadata": {},
   "outputs": [
    {
     "data": {
      "text/html": [
       "'There were 4950 comparision'"
      ],
      "text/latex": [
       "'There were 4950 comparision'"
      ],
      "text/markdown": [
       "'There were 4950 comparision'"
      ],
      "text/plain": [
       "[1] \"There were 4950 comparision\""
      ]
     },
     "metadata": {},
     "output_type": "display_data"
    }
   ],
   "source": [
    "paste('There were',obs_pc,'comparision')"
   ]
  },
  {
   "cell_type": "markdown",
   "metadata": {},
   "source": [
    "### Part 2.1-G-II"
   ]
  },
  {
   "cell_type": "code",
   "execution_count": 18,
   "metadata": {},
   "outputs": [],
   "source": [
    "jsim <- subset(pc, score >= .23)\n",
    "count <- length(jsim[[1]])"
   ]
  },
  {
   "cell_type": "code",
   "execution_count": 19,
   "metadata": {},
   "outputs": [
    {
     "data": {
      "text/html": [
       "'There were 37 observations that had a jacard similarity of atleast 0.23'"
      ],
      "text/latex": [
       "'There were 37 observations that had a jacard similarity of atleast 0.23'"
      ],
      "text/markdown": [
       "'There were 37 observations that had a jacard similarity of atleast 0.23'"
      ],
      "text/plain": [
       "[1] \"There were 37 observations that had a jacard similarity of atleast 0.23\""
      ]
     },
     "metadata": {},
     "output_type": "display_data"
    }
   ],
   "source": [
    "paste('There were',count,'observations that had a jacard similarity of atleast',sim)"
   ]
  },
  {
   "cell_type": "markdown",
   "metadata": {},
   "source": [
    "### Part 2.1-G-III"
   ]
  },
  {
   "cell_type": "code",
   "execution_count": 20,
   "metadata": {},
   "outputs": [
    {
     "data": {
      "text/html": [
       "<table>\n",
       "<thead><tr><th></th><th scope=col>a</th><th scope=col>b</th><th scope=col>score</th></tr></thead>\n",
       "<tbody>\n",
       "\t<tr><th scope=row>4546</th><td>g4pC_taska</td><td>orig_taska</td><td>0.8431953 </td></tr>\n",
       "\t<tr><th scope=row>4817</th><td>g3pA_taskd</td><td>orig_taskd</td><td>0.7987805 </td></tr>\n",
       "\t<tr><th scope=row>3467</th><td>g3pA_taskd</td><td>g4pC_taskd</td><td>0.5461957 </td></tr>\n",
       "\t<tr><th scope=row>4837</th><td>g4pC_taskd</td><td>orig_taskd</td><td>0.5280000 </td></tr>\n",
       "\t<tr><th scope=row>4931</th><td>g4pB_taske</td><td>orig_taske</td><td>0.5008606 </td></tr>\n",
       "\t<tr><th scope=row>4486</th><td>g0pE_taska</td><td>orig_taska</td><td>0.4809524 </td></tr>\n",
       "\t<tr><th scope=row>2002</th><td>g2pB_taskd</td><td>g3pA_taskd</td><td>0.4406332 </td></tr>\n",
       "\t<tr><th scope=row>4901</th><td>g2pB_taske</td><td>orig_taske</td><td>0.4387211 </td></tr>\n",
       "\t<tr><th scope=row>4664</th><td>g0pB_taskc</td><td>orig_taskc</td><td>0.4308094 </td></tr>\n",
       "\t<tr><th scope=row>4802</th><td>g2pB_taskd</td><td>orig_taskd</td><td>0.4285714 </td></tr>\n",
       "\t<tr><th scope=row>3181</th><td>g0pE_taska</td><td>g4pC_taska</td><td>0.4221698 </td></tr>\n",
       "\t<tr><th scope=row>3452</th><td>g2pB_taskd</td><td>g4pC_taskd</td><td>0.3529412 </td></tr>\n",
       "\t<tr><th scope=row>1967</th><td>g0pC_taskd</td><td>g3pA_taskd</td><td>0.3095238 </td></tr>\n",
       "\t<tr><th scope=row>3231</th><td>g3pC_taska</td><td>g4pC_taska</td><td>0.3088685 </td></tr>\n",
       "\t<tr><th scope=row>2431</th><td>g0pD_taska</td><td>g3pC_taska</td><td>0.3083333 </td></tr>\n",
       "\t<tr><th scope=row>4767</th><td>g0pC_taskd</td><td>orig_taskd</td><td>0.3058824 </td></tr>\n",
       "\t<tr><th scope=row>4699</th><td>g2pA_taskc</td><td>orig_taskc</td><td>0.2994792 </td></tr>\n",
       "\t<tr><th scope=row>3131</th><td>g2pB_taske</td><td>g4pB_taske</td><td>0.2948454 </td></tr>\n",
       "\t<tr><th scope=row>3417</th><td>g0pC_taskd</td><td>g4pC_taskd</td><td>0.2935780 </td></tr>\n",
       "\t<tr><th scope=row>4536</th><td>g3pC_taska</td><td>orig_taska</td><td>0.2919075 </td></tr>\n",
       "\t<tr><th scope=row>2436</th><td>g0pE_taska</td><td>g3pC_taska</td><td>0.2900302 </td></tr>\n",
       "\t<tr><th scope=row>3176</th><td>g0pD_taska</td><td>g4pC_taska</td><td>0.2894737 </td></tr>\n",
       "\t<tr><th scope=row>4652</th><td>g4pE_taskb</td><td>orig_taskb</td><td>0.2869128 </td></tr>\n",
       "\t<tr><th scope=row>3536</th><td>g2pB_taske</td><td>g4pC_taske</td><td>0.2857143 </td></tr>\n",
       "\t<tr><th scope=row>2371</th><td>g0pE_taske</td><td>g3pB_taske</td><td>0.2849462 </td></tr>\n",
       "\t<tr><th scope=row>4659</th><td>g0pA_taskc</td><td>orig_taskc</td><td>0.2788204 </td></tr>\n",
       "\t<tr><th scope=row>4481</th><td>g0pD_taska</td><td>orig_taska</td><td>0.2756892 </td></tr>\n",
       "\t<tr><th scope=row>4562</th><td>g0pA_taskb</td><td>orig_taskb</td><td>0.2727273 </td></tr>\n",
       "\t<tr><th scope=row>3211</th><td>g2pC_taska</td><td>g4pC_taska</td><td>0.2722772 </td></tr>\n",
       "\t<tr><th scope=row>4516</th><td>g2pC_taska</td><td>orig_taska</td><td>0.2600473 </td></tr>\n",
       "\t<tr><th scope=row>1142</th><td>g0pC_taskd</td><td>g2pB_taskd</td><td>0.2500000 </td></tr>\n",
       "\t<tr><th scope=row>4194</th><td>g0pB_taskc</td><td>g4pE_taskc</td><td>0.2419753 </td></tr>\n",
       "\t<tr><th scope=row>4936</th><td>g4pC_taske</td><td>orig_taske</td><td>0.2410016 </td></tr>\n",
       "\t<tr><th scope=row>3692</th><td>g1pD_taskb</td><td>g4pD_taskb</td><td>0.2394366 </td></tr>\n",
       "\t<tr><th scope=row>2726</th><td>g0pE_taske</td><td>g3pC_taske</td><td>0.2389937 </td></tr>\n",
       "\t<tr><th scope=row>206</th><td>g0pD_taska</td><td>g0pE_taska</td><td>0.2379747 </td></tr>\n",
       "\t<tr><th scope=row>24</th><td>g0pA_taskc</td><td>g0pB_taskc</td><td>0.2337963 </td></tr>\n",
       "</tbody>\n",
       "</table>\n"
      ],
      "text/latex": [
       "\\begin{tabular}{r|lll}\n",
       "  & a & b & score\\\\\n",
       "\\hline\n",
       "\t4546 & g4pC\\_taska & orig\\_taska & 0.8431953   \\\\\n",
       "\t4817 & g3pA\\_taskd & orig\\_taskd & 0.7987805   \\\\\n",
       "\t3467 & g3pA\\_taskd & g4pC\\_taskd & 0.5461957   \\\\\n",
       "\t4837 & g4pC\\_taskd & orig\\_taskd & 0.5280000   \\\\\n",
       "\t4931 & g4pB\\_taske & orig\\_taske & 0.5008606   \\\\\n",
       "\t4486 & g0pE\\_taska & orig\\_taska & 0.4809524   \\\\\n",
       "\t2002 & g2pB\\_taskd & g3pA\\_taskd & 0.4406332   \\\\\n",
       "\t4901 & g2pB\\_taske & orig\\_taske & 0.4387211   \\\\\n",
       "\t4664 & g0pB\\_taskc & orig\\_taskc & 0.4308094   \\\\\n",
       "\t4802 & g2pB\\_taskd & orig\\_taskd & 0.4285714   \\\\\n",
       "\t3181 & g0pE\\_taska & g4pC\\_taska & 0.4221698   \\\\\n",
       "\t3452 & g2pB\\_taskd & g4pC\\_taskd & 0.3529412   \\\\\n",
       "\t1967 & g0pC\\_taskd & g3pA\\_taskd & 0.3095238   \\\\\n",
       "\t3231 & g3pC\\_taska & g4pC\\_taska & 0.3088685   \\\\\n",
       "\t2431 & g0pD\\_taska & g3pC\\_taska & 0.3083333   \\\\\n",
       "\t4767 & g0pC\\_taskd & orig\\_taskd & 0.3058824   \\\\\n",
       "\t4699 & g2pA\\_taskc & orig\\_taskc & 0.2994792   \\\\\n",
       "\t3131 & g2pB\\_taske & g4pB\\_taske & 0.2948454   \\\\\n",
       "\t3417 & g0pC\\_taskd & g4pC\\_taskd & 0.2935780   \\\\\n",
       "\t4536 & g3pC\\_taska & orig\\_taska & 0.2919075   \\\\\n",
       "\t2436 & g0pE\\_taska & g3pC\\_taska & 0.2900302   \\\\\n",
       "\t3176 & g0pD\\_taska & g4pC\\_taska & 0.2894737   \\\\\n",
       "\t4652 & g4pE\\_taskb & orig\\_taskb & 0.2869128   \\\\\n",
       "\t3536 & g2pB\\_taske & g4pC\\_taske & 0.2857143   \\\\\n",
       "\t2371 & g0pE\\_taske & g3pB\\_taske & 0.2849462   \\\\\n",
       "\t4659 & g0pA\\_taskc & orig\\_taskc & 0.2788204   \\\\\n",
       "\t4481 & g0pD\\_taska & orig\\_taska & 0.2756892   \\\\\n",
       "\t4562 & g0pA\\_taskb & orig\\_taskb & 0.2727273   \\\\\n",
       "\t3211 & g2pC\\_taska & g4pC\\_taska & 0.2722772   \\\\\n",
       "\t4516 & g2pC\\_taska & orig\\_taska & 0.2600473   \\\\\n",
       "\t1142 & g0pC\\_taskd & g2pB\\_taskd & 0.2500000   \\\\\n",
       "\t4194 & g0pB\\_taskc & g4pE\\_taskc & 0.2419753   \\\\\n",
       "\t4936 & g4pC\\_taske & orig\\_taske & 0.2410016   \\\\\n",
       "\t3692 & g1pD\\_taskb & g4pD\\_taskb & 0.2394366   \\\\\n",
       "\t2726 & g0pE\\_taske & g3pC\\_taske & 0.2389937   \\\\\n",
       "\t206 & g0pD\\_taska & g0pE\\_taska & 0.2379747   \\\\\n",
       "\t24 & g0pA\\_taskc & g0pB\\_taskc & 0.2337963   \\\\\n",
       "\\end{tabular}\n"
      ],
      "text/markdown": [
       "\n",
       "| <!--/--> | a | b | score |\n",
       "|---|---|---|---|\n",
       "| 4546 | g4pC_taska | orig_taska | 0.8431953  |\n",
       "| 4817 | g3pA_taskd | orig_taskd | 0.7987805  |\n",
       "| 3467 | g3pA_taskd | g4pC_taskd | 0.5461957  |\n",
       "| 4837 | g4pC_taskd | orig_taskd | 0.5280000  |\n",
       "| 4931 | g4pB_taske | orig_taske | 0.5008606  |\n",
       "| 4486 | g0pE_taska | orig_taska | 0.4809524  |\n",
       "| 2002 | g2pB_taskd | g3pA_taskd | 0.4406332  |\n",
       "| 4901 | g2pB_taske | orig_taske | 0.4387211  |\n",
       "| 4664 | g0pB_taskc | orig_taskc | 0.4308094  |\n",
       "| 4802 | g2pB_taskd | orig_taskd | 0.4285714  |\n",
       "| 3181 | g0pE_taska | g4pC_taska | 0.4221698  |\n",
       "| 3452 | g2pB_taskd | g4pC_taskd | 0.3529412  |\n",
       "| 1967 | g0pC_taskd | g3pA_taskd | 0.3095238  |\n",
       "| 3231 | g3pC_taska | g4pC_taska | 0.3088685  |\n",
       "| 2431 | g0pD_taska | g3pC_taska | 0.3083333  |\n",
       "| 4767 | g0pC_taskd | orig_taskd | 0.3058824  |\n",
       "| 4699 | g2pA_taskc | orig_taskc | 0.2994792  |\n",
       "| 3131 | g2pB_taske | g4pB_taske | 0.2948454  |\n",
       "| 3417 | g0pC_taskd | g4pC_taskd | 0.2935780  |\n",
       "| 4536 | g3pC_taska | orig_taska | 0.2919075  |\n",
       "| 2436 | g0pE_taska | g3pC_taska | 0.2900302  |\n",
       "| 3176 | g0pD_taska | g4pC_taska | 0.2894737  |\n",
       "| 4652 | g4pE_taskb | orig_taskb | 0.2869128  |\n",
       "| 3536 | g2pB_taske | g4pC_taske | 0.2857143  |\n",
       "| 2371 | g0pE_taske | g3pB_taske | 0.2849462  |\n",
       "| 4659 | g0pA_taskc | orig_taskc | 0.2788204  |\n",
       "| 4481 | g0pD_taska | orig_taska | 0.2756892  |\n",
       "| 4562 | g0pA_taskb | orig_taskb | 0.2727273  |\n",
       "| 3211 | g2pC_taska | g4pC_taska | 0.2722772  |\n",
       "| 4516 | g2pC_taska | orig_taska | 0.2600473  |\n",
       "| 1142 | g0pC_taskd | g2pB_taskd | 0.2500000  |\n",
       "| 4194 | g0pB_taskc | g4pE_taskc | 0.2419753  |\n",
       "| 4936 | g4pC_taske | orig_taske | 0.2410016  |\n",
       "| 3692 | g1pD_taskb | g4pD_taskb | 0.2394366  |\n",
       "| 2726 | g0pE_taske | g3pC_taske | 0.2389937  |\n",
       "| 206 | g0pD_taska | g0pE_taska | 0.2379747  |\n",
       "| 24 | g0pA_taskc | g0pB_taskc | 0.2337963  |\n",
       "\n"
      ],
      "text/plain": [
       "     a          b          score    \n",
       "4546 g4pC_taska orig_taska 0.8431953\n",
       "4817 g3pA_taskd orig_taskd 0.7987805\n",
       "3467 g3pA_taskd g4pC_taskd 0.5461957\n",
       "4837 g4pC_taskd orig_taskd 0.5280000\n",
       "4931 g4pB_taske orig_taske 0.5008606\n",
       "4486 g0pE_taska orig_taska 0.4809524\n",
       "2002 g2pB_taskd g3pA_taskd 0.4406332\n",
       "4901 g2pB_taske orig_taske 0.4387211\n",
       "4664 g0pB_taskc orig_taskc 0.4308094\n",
       "4802 g2pB_taskd orig_taskd 0.4285714\n",
       "3181 g0pE_taska g4pC_taska 0.4221698\n",
       "3452 g2pB_taskd g4pC_taskd 0.3529412\n",
       "1967 g0pC_taskd g3pA_taskd 0.3095238\n",
       "3231 g3pC_taska g4pC_taska 0.3088685\n",
       "2431 g0pD_taska g3pC_taska 0.3083333\n",
       "4767 g0pC_taskd orig_taskd 0.3058824\n",
       "4699 g2pA_taskc orig_taskc 0.2994792\n",
       "3131 g2pB_taske g4pB_taske 0.2948454\n",
       "3417 g0pC_taskd g4pC_taskd 0.2935780\n",
       "4536 g3pC_taska orig_taska 0.2919075\n",
       "2436 g0pE_taska g3pC_taska 0.2900302\n",
       "3176 g0pD_taska g4pC_taska 0.2894737\n",
       "4652 g4pE_taskb orig_taskb 0.2869128\n",
       "3536 g2pB_taske g4pC_taske 0.2857143\n",
       "2371 g0pE_taske g3pB_taske 0.2849462\n",
       "4659 g0pA_taskc orig_taskc 0.2788204\n",
       "4481 g0pD_taska orig_taska 0.2756892\n",
       "4562 g0pA_taskb orig_taskb 0.2727273\n",
       "3211 g2pC_taska g4pC_taska 0.2722772\n",
       "4516 g2pC_taska orig_taska 0.2600473\n",
       "1142 g0pC_taskd g2pB_taskd 0.2500000\n",
       "4194 g0pB_taskc g4pE_taskc 0.2419753\n",
       "4936 g4pC_taske orig_taske 0.2410016\n",
       "3692 g1pD_taskb g4pD_taskb 0.2394366\n",
       "2726 g0pE_taske g3pC_taske 0.2389937\n",
       "206  g0pD_taska g0pE_taska 0.2379747\n",
       "24   g0pA_taskc g0pB_taskc 0.2337963"
      ]
     },
     "metadata": {},
     "output_type": "display_data"
    }
   ],
   "source": [
    "jsim[order(-jsim$score),]"
   ]
  },
  {
   "cell_type": "markdown",
   "metadata": {},
   "source": [
    "## Part 2.1-H"
   ]
  },
  {
   "cell_type": "code",
   "execution_count": 21,
   "metadata": {},
   "outputs": [],
   "source": [
    "seed = 100\n",
    "minhash <- minhash_generator(seed = seed, n = signature)\n",
    "rm(corpus)\n",
    "corpus <- TextReuseCorpus(files,tokenizer = tokenize_ngrams, keep_tokens = TRUE, minhash_func = minhash)"
   ]
  },
  {
   "cell_type": "code",
   "execution_count": 22,
   "metadata": {},
   "outputs": [],
   "source": [
    "ls <- lsh_compare(lsh_candidates(lsh(corpus, bands = bands)), corpus, jaccard_similarity)"
   ]
  },
  {
   "cell_type": "markdown",
   "metadata": {},
   "source": [
    "### Part 2.1-H-I"
   ]
  },
  {
   "cell_type": "code",
   "execution_count": 23,
   "metadata": {},
   "outputs": [
    {
     "data": {
      "text/html": [
       "'There were 69 comparision'"
      ],
      "text/latex": [
       "'There were 69 comparision'"
      ],
      "text/markdown": [
       "'There were 69 comparision'"
      ],
      "text/plain": [
       "[1] \"There were 69 comparision\""
      ]
     },
     "metadata": {},
     "output_type": "display_data"
    }
   ],
   "source": [
    "obs_ls <- length(ls[[1]])\n",
    "paste('There were',obs_ls,'comparision')"
   ]
  },
  {
   "cell_type": "markdown",
   "metadata": {},
   "source": [
    "### Part 2.1-H-II"
   ]
  },
  {
   "cell_type": "code",
   "execution_count": 24,
   "metadata": {},
   "outputs": [],
   "source": [
    "decrease <- (obs_pc - obs_ls)/obs_pc *100"
   ]
  },
  {
   "cell_type": "code",
   "execution_count": 25,
   "metadata": {
    "scrolled": true
   },
   "outputs": [
    {
     "data": {
      "text/html": [
       "'There was a 98.6060606060606 % decrease'"
      ],
      "text/latex": [
       "'There was a 98.6060606060606 \\% decrease'"
      ],
      "text/markdown": [
       "'There was a 98.6060606060606 % decrease'"
      ],
      "text/plain": [
       "[1] \"There was a 98.6060606060606 % decrease\""
      ]
     },
     "metadata": {},
     "output_type": "display_data"
    }
   ],
   "source": [
    "paste('There was a',decrease,'% decrease')"
   ]
  },
  {
   "cell_type": "markdown",
   "metadata": {},
   "source": [
    "### Part 2.1-H-III"
   ]
  },
  {
   "cell_type": "code",
   "execution_count": 26,
   "metadata": {},
   "outputs": [
    {
     "data": {
      "text/html": [
       "<table>\n",
       "<thead><tr><th scope=col>a</th><th scope=col>b</th><th scope=col>score</th></tr></thead>\n",
       "<tbody>\n",
       "\t<tr><td>g4pC_taska</td><td>orig_taska</td><td>0.8431953 </td></tr>\n",
       "\t<tr><td>g3pA_taskd</td><td>orig_taskd</td><td>0.7987805 </td></tr>\n",
       "\t<tr><td>g3pA_taskd</td><td>g4pC_taskd</td><td>0.5461957 </td></tr>\n",
       "\t<tr><td>g4pC_taskd</td><td>orig_taskd</td><td>0.5280000 </td></tr>\n",
       "\t<tr><td>g4pB_taske</td><td>orig_taske</td><td>0.5008606 </td></tr>\n",
       "\t<tr><td>g0pE_taska</td><td>orig_taska</td><td>0.4809524 </td></tr>\n",
       "\t<tr><td>g2pB_taskd</td><td>g3pA_taskd</td><td>0.4406332 </td></tr>\n",
       "\t<tr><td>g2pB_taske</td><td>orig_taske</td><td>0.4387211 </td></tr>\n",
       "\t<tr><td>g0pB_taskc</td><td>orig_taskc</td><td>0.4308094 </td></tr>\n",
       "\t<tr><td>g2pB_taskd</td><td>orig_taskd</td><td>0.4285714 </td></tr>\n",
       "\t<tr><td>g0pE_taska</td><td>g4pC_taska</td><td>0.4221698 </td></tr>\n",
       "\t<tr><td>g2pB_taskd</td><td>g4pC_taskd</td><td>0.3529412 </td></tr>\n",
       "\t<tr><td>g0pC_taskd</td><td>g3pA_taskd</td><td>0.3095238 </td></tr>\n",
       "\t<tr><td>g3pC_taska</td><td>g4pC_taska</td><td>0.3088685 </td></tr>\n",
       "\t<tr><td>g0pD_taska</td><td>g3pC_taska</td><td>0.3083333 </td></tr>\n",
       "\t<tr><td>g0pC_taskd</td><td>orig_taskd</td><td>0.3058824 </td></tr>\n",
       "\t<tr><td>g2pA_taskc</td><td>orig_taskc</td><td>0.2994792 </td></tr>\n",
       "\t<tr><td>g2pB_taske</td><td>g4pB_taske</td><td>0.2948454 </td></tr>\n",
       "\t<tr><td>g0pC_taskd</td><td>g4pC_taskd</td><td>0.2935780 </td></tr>\n",
       "\t<tr><td>g3pC_taska</td><td>orig_taska</td><td>0.2919075 </td></tr>\n",
       "\t<tr><td>g0pD_taska</td><td>g4pC_taska</td><td>0.2894737 </td></tr>\n",
       "\t<tr><td>g4pE_taskb</td><td>orig_taskb</td><td>0.2869128 </td></tr>\n",
       "\t<tr><td>g2pB_taske</td><td>g4pC_taske</td><td>0.2857143 </td></tr>\n",
       "\t<tr><td>g0pE_taske</td><td>g3pB_taske</td><td>0.2849462 </td></tr>\n",
       "\t<tr><td>g0pA_taskc</td><td>orig_taskc</td><td>0.2788204 </td></tr>\n",
       "\t<tr><td>g0pD_taska</td><td>orig_taska</td><td>0.2756892 </td></tr>\n",
       "\t<tr><td>g0pA_taskb</td><td>orig_taskb</td><td>0.2727273 </td></tr>\n",
       "\t<tr><td>g2pC_taska</td><td>g4pC_taska</td><td>0.2722772 </td></tr>\n",
       "\t<tr><td>g2pC_taska</td><td>orig_taska</td><td>0.2600473 </td></tr>\n",
       "\t<tr><td>g4pC_taske</td><td>orig_taske</td><td>0.2410016 </td></tr>\n",
       "\t<tr><td>...</td><td>...</td><td>...</td></tr>\n",
       "\t<tr><td>g2pA_taskd</td><td>g3pA_taskd</td><td>0.20120724</td></tr>\n",
       "\t<tr><td>g0pD_taska</td><td>g2pC_taska</td><td>0.19402985</td></tr>\n",
       "\t<tr><td>g0pC_taskd</td><td>g2pA_taskd</td><td>0.18997361</td></tr>\n",
       "\t<tr><td>g2pE_taska</td><td>g4pC_taska</td><td>0.18165468</td></tr>\n",
       "\t<tr><td>g0pB_taskd</td><td>g4pC_taskd</td><td>0.17961165</td></tr>\n",
       "\t<tr><td>g0pE_taska</td><td>g2pC_taska</td><td>0.17931034</td></tr>\n",
       "\t<tr><td>g0pB_taskd</td><td>orig_taskd</td><td>0.17906977</td></tr>\n",
       "\t<tr><td>g2pA_taskd</td><td>orig_taskd</td><td>0.17612524</td></tr>\n",
       "\t<tr><td>g0pB_taskd</td><td>g3pA_taskd</td><td>0.17249417</td></tr>\n",
       "\t<tr><td>g3pB_taske</td><td>g3pC_taske</td><td>0.17241379</td></tr>\n",
       "\t<tr><td>g0pC_taskd</td><td>g1pA_taskd</td><td>0.16863905</td></tr>\n",
       "\t<tr><td>g2pE_taska</td><td>g3pC_taska</td><td>0.16464891</td></tr>\n",
       "\t<tr><td>g1pB_taske</td><td>g2pB_taske</td><td>0.15340909</td></tr>\n",
       "\t<tr><td>g0pA_taskc</td><td>g4pB_taskc</td><td>0.15089514</td></tr>\n",
       "\t<tr><td>g3pB_taske</td><td>g4pC_taske</td><td>0.15014164</td></tr>\n",
       "\t<tr><td>g1pB_taske</td><td>orig_taske</td><td>0.14190094</td></tr>\n",
       "\t<tr><td>g2pA_taskd</td><td>g4pC_taskd</td><td>0.13948919</td></tr>\n",
       "\t<tr><td>g2pC_taskd</td><td>g3pC_taskd</td><td>0.13058419</td></tr>\n",
       "\t<tr><td>g1pA_taskd</td><td>g3pA_taskd</td><td>0.12008282</td></tr>\n",
       "\t<tr><td>g1pA_taskd</td><td>g4pC_taskd</td><td>0.11727079</td></tr>\n",
       "\t<tr><td>g1pA_taskd</td><td>orig_taskd</td><td>0.11680328</td></tr>\n",
       "\t<tr><td>g0pE_taske</td><td>g4pC_taske</td><td>0.11280488</td></tr>\n",
       "\t<tr><td>g3pA_taskc</td><td>g4pB_taskc</td><td>0.10079051</td></tr>\n",
       "\t<tr><td>g0pC_taskd</td><td>g3pB_taskd</td><td>0.09727626</td></tr>\n",
       "\t<tr><td>g2pB_taskd</td><td>g2pC_taskd</td><td>0.09633028</td></tr>\n",
       "\t<tr><td>g0pA_taske</td><td>g2pE_taske</td><td>0.08732394</td></tr>\n",
       "\t<tr><td>g1pB_taske</td><td>g4pB_taske</td><td>0.07877814</td></tr>\n",
       "\t<tr><td>g2pB_taskd</td><td>g3pC_taskd</td><td>0.07854985</td></tr>\n",
       "\t<tr><td>g1pA_taskd</td><td>g2pA_taskd</td><td>0.06563707</td></tr>\n",
       "\t<tr><td>g2pB_taskb</td><td>g2pC_taskb</td><td>0.01530612</td></tr>\n",
       "</tbody>\n",
       "</table>\n"
      ],
      "text/latex": [
       "\\begin{tabular}{r|lll}\n",
       " a & b & score\\\\\n",
       "\\hline\n",
       "\t g4pC\\_taska & orig\\_taska & 0.8431953   \\\\\n",
       "\t g3pA\\_taskd & orig\\_taskd & 0.7987805   \\\\\n",
       "\t g3pA\\_taskd & g4pC\\_taskd & 0.5461957   \\\\\n",
       "\t g4pC\\_taskd & orig\\_taskd & 0.5280000   \\\\\n",
       "\t g4pB\\_taske & orig\\_taske & 0.5008606   \\\\\n",
       "\t g0pE\\_taska & orig\\_taska & 0.4809524   \\\\\n",
       "\t g2pB\\_taskd & g3pA\\_taskd & 0.4406332   \\\\\n",
       "\t g2pB\\_taske & orig\\_taske & 0.4387211   \\\\\n",
       "\t g0pB\\_taskc & orig\\_taskc & 0.4308094   \\\\\n",
       "\t g2pB\\_taskd & orig\\_taskd & 0.4285714   \\\\\n",
       "\t g0pE\\_taska & g4pC\\_taska & 0.4221698   \\\\\n",
       "\t g2pB\\_taskd & g4pC\\_taskd & 0.3529412   \\\\\n",
       "\t g0pC\\_taskd & g3pA\\_taskd & 0.3095238   \\\\\n",
       "\t g3pC\\_taska & g4pC\\_taska & 0.3088685   \\\\\n",
       "\t g0pD\\_taska & g3pC\\_taska & 0.3083333   \\\\\n",
       "\t g0pC\\_taskd & orig\\_taskd & 0.3058824   \\\\\n",
       "\t g2pA\\_taskc & orig\\_taskc & 0.2994792   \\\\\n",
       "\t g2pB\\_taske & g4pB\\_taske & 0.2948454   \\\\\n",
       "\t g0pC\\_taskd & g4pC\\_taskd & 0.2935780   \\\\\n",
       "\t g3pC\\_taska & orig\\_taska & 0.2919075   \\\\\n",
       "\t g0pD\\_taska & g4pC\\_taska & 0.2894737   \\\\\n",
       "\t g4pE\\_taskb & orig\\_taskb & 0.2869128   \\\\\n",
       "\t g2pB\\_taske & g4pC\\_taske & 0.2857143   \\\\\n",
       "\t g0pE\\_taske & g3pB\\_taske & 0.2849462   \\\\\n",
       "\t g0pA\\_taskc & orig\\_taskc & 0.2788204   \\\\\n",
       "\t g0pD\\_taska & orig\\_taska & 0.2756892   \\\\\n",
       "\t g0pA\\_taskb & orig\\_taskb & 0.2727273   \\\\\n",
       "\t g2pC\\_taska & g4pC\\_taska & 0.2722772   \\\\\n",
       "\t g2pC\\_taska & orig\\_taska & 0.2600473   \\\\\n",
       "\t g4pC\\_taske & orig\\_taske & 0.2410016   \\\\\n",
       "\t ... & ... & ...\\\\\n",
       "\t g2pA\\_taskd & g3pA\\_taskd & 0.20120724  \\\\\n",
       "\t g0pD\\_taska & g2pC\\_taska & 0.19402985  \\\\\n",
       "\t g0pC\\_taskd & g2pA\\_taskd & 0.18997361  \\\\\n",
       "\t g2pE\\_taska & g4pC\\_taska & 0.18165468  \\\\\n",
       "\t g0pB\\_taskd & g4pC\\_taskd & 0.17961165  \\\\\n",
       "\t g0pE\\_taska & g2pC\\_taska & 0.17931034  \\\\\n",
       "\t g0pB\\_taskd & orig\\_taskd & 0.17906977  \\\\\n",
       "\t g2pA\\_taskd & orig\\_taskd & 0.17612524  \\\\\n",
       "\t g0pB\\_taskd & g3pA\\_taskd & 0.17249417  \\\\\n",
       "\t g3pB\\_taske & g3pC\\_taske & 0.17241379  \\\\\n",
       "\t g0pC\\_taskd & g1pA\\_taskd & 0.16863905  \\\\\n",
       "\t g2pE\\_taska & g3pC\\_taska & 0.16464891  \\\\\n",
       "\t g1pB\\_taske & g2pB\\_taske & 0.15340909  \\\\\n",
       "\t g0pA\\_taskc & g4pB\\_taskc & 0.15089514  \\\\\n",
       "\t g3pB\\_taske & g4pC\\_taske & 0.15014164  \\\\\n",
       "\t g1pB\\_taske & orig\\_taske & 0.14190094  \\\\\n",
       "\t g2pA\\_taskd & g4pC\\_taskd & 0.13948919  \\\\\n",
       "\t g2pC\\_taskd & g3pC\\_taskd & 0.13058419  \\\\\n",
       "\t g1pA\\_taskd & g3pA\\_taskd & 0.12008282  \\\\\n",
       "\t g1pA\\_taskd & g4pC\\_taskd & 0.11727079  \\\\\n",
       "\t g1pA\\_taskd & orig\\_taskd & 0.11680328  \\\\\n",
       "\t g0pE\\_taske & g4pC\\_taske & 0.11280488  \\\\\n",
       "\t g3pA\\_taskc & g4pB\\_taskc & 0.10079051  \\\\\n",
       "\t g0pC\\_taskd & g3pB\\_taskd & 0.09727626  \\\\\n",
       "\t g2pB\\_taskd & g2pC\\_taskd & 0.09633028  \\\\\n",
       "\t g0pA\\_taske & g2pE\\_taske & 0.08732394  \\\\\n",
       "\t g1pB\\_taske & g4pB\\_taske & 0.07877814  \\\\\n",
       "\t g2pB\\_taskd & g3pC\\_taskd & 0.07854985  \\\\\n",
       "\t g1pA\\_taskd & g2pA\\_taskd & 0.06563707  \\\\\n",
       "\t g2pB\\_taskb & g2pC\\_taskb & 0.01530612  \\\\\n",
       "\\end{tabular}\n"
      ],
      "text/markdown": [
       "\n",
       "| a | b | score |\n",
       "|---|---|---|\n",
       "| g4pC_taska | orig_taska | 0.8431953  |\n",
       "| g3pA_taskd | orig_taskd | 0.7987805  |\n",
       "| g3pA_taskd | g4pC_taskd | 0.5461957  |\n",
       "| g4pC_taskd | orig_taskd | 0.5280000  |\n",
       "| g4pB_taske | orig_taske | 0.5008606  |\n",
       "| g0pE_taska | orig_taska | 0.4809524  |\n",
       "| g2pB_taskd | g3pA_taskd | 0.4406332  |\n",
       "| g2pB_taske | orig_taske | 0.4387211  |\n",
       "| g0pB_taskc | orig_taskc | 0.4308094  |\n",
       "| g2pB_taskd | orig_taskd | 0.4285714  |\n",
       "| g0pE_taska | g4pC_taska | 0.4221698  |\n",
       "| g2pB_taskd | g4pC_taskd | 0.3529412  |\n",
       "| g0pC_taskd | g3pA_taskd | 0.3095238  |\n",
       "| g3pC_taska | g4pC_taska | 0.3088685  |\n",
       "| g0pD_taska | g3pC_taska | 0.3083333  |\n",
       "| g0pC_taskd | orig_taskd | 0.3058824  |\n",
       "| g2pA_taskc | orig_taskc | 0.2994792  |\n",
       "| g2pB_taske | g4pB_taske | 0.2948454  |\n",
       "| g0pC_taskd | g4pC_taskd | 0.2935780  |\n",
       "| g3pC_taska | orig_taska | 0.2919075  |\n",
       "| g0pD_taska | g4pC_taska | 0.2894737  |\n",
       "| g4pE_taskb | orig_taskb | 0.2869128  |\n",
       "| g2pB_taske | g4pC_taske | 0.2857143  |\n",
       "| g0pE_taske | g3pB_taske | 0.2849462  |\n",
       "| g0pA_taskc | orig_taskc | 0.2788204  |\n",
       "| g0pD_taska | orig_taska | 0.2756892  |\n",
       "| g0pA_taskb | orig_taskb | 0.2727273  |\n",
       "| g2pC_taska | g4pC_taska | 0.2722772  |\n",
       "| g2pC_taska | orig_taska | 0.2600473  |\n",
       "| g4pC_taske | orig_taske | 0.2410016  |\n",
       "| ... | ... | ... |\n",
       "| g2pA_taskd | g3pA_taskd | 0.20120724 |\n",
       "| g0pD_taska | g2pC_taska | 0.19402985 |\n",
       "| g0pC_taskd | g2pA_taskd | 0.18997361 |\n",
       "| g2pE_taska | g4pC_taska | 0.18165468 |\n",
       "| g0pB_taskd | g4pC_taskd | 0.17961165 |\n",
       "| g0pE_taska | g2pC_taska | 0.17931034 |\n",
       "| g0pB_taskd | orig_taskd | 0.17906977 |\n",
       "| g2pA_taskd | orig_taskd | 0.17612524 |\n",
       "| g0pB_taskd | g3pA_taskd | 0.17249417 |\n",
       "| g3pB_taske | g3pC_taske | 0.17241379 |\n",
       "| g0pC_taskd | g1pA_taskd | 0.16863905 |\n",
       "| g2pE_taska | g3pC_taska | 0.16464891 |\n",
       "| g1pB_taske | g2pB_taske | 0.15340909 |\n",
       "| g0pA_taskc | g4pB_taskc | 0.15089514 |\n",
       "| g3pB_taske | g4pC_taske | 0.15014164 |\n",
       "| g1pB_taske | orig_taske | 0.14190094 |\n",
       "| g2pA_taskd | g4pC_taskd | 0.13948919 |\n",
       "| g2pC_taskd | g3pC_taskd | 0.13058419 |\n",
       "| g1pA_taskd | g3pA_taskd | 0.12008282 |\n",
       "| g1pA_taskd | g4pC_taskd | 0.11727079 |\n",
       "| g1pA_taskd | orig_taskd | 0.11680328 |\n",
       "| g0pE_taske | g4pC_taske | 0.11280488 |\n",
       "| g3pA_taskc | g4pB_taskc | 0.10079051 |\n",
       "| g0pC_taskd | g3pB_taskd | 0.09727626 |\n",
       "| g2pB_taskd | g2pC_taskd | 0.09633028 |\n",
       "| g0pA_taske | g2pE_taske | 0.08732394 |\n",
       "| g1pB_taske | g4pB_taske | 0.07877814 |\n",
       "| g2pB_taskd | g3pC_taskd | 0.07854985 |\n",
       "| g1pA_taskd | g2pA_taskd | 0.06563707 |\n",
       "| g2pB_taskb | g2pC_taskb | 0.01530612 |\n",
       "\n"
      ],
      "text/plain": [
       "    a          b          score     \n",
       "1   g4pC_taska orig_taska 0.8431953 \n",
       "2   g3pA_taskd orig_taskd 0.7987805 \n",
       "3   g3pA_taskd g4pC_taskd 0.5461957 \n",
       "4   g4pC_taskd orig_taskd 0.5280000 \n",
       "5   g4pB_taske orig_taske 0.5008606 \n",
       "6   g0pE_taska orig_taska 0.4809524 \n",
       "7   g2pB_taskd g3pA_taskd 0.4406332 \n",
       "8   g2pB_taske orig_taske 0.4387211 \n",
       "9   g0pB_taskc orig_taskc 0.4308094 \n",
       "10  g2pB_taskd orig_taskd 0.4285714 \n",
       "11  g0pE_taska g4pC_taska 0.4221698 \n",
       "12  g2pB_taskd g4pC_taskd 0.3529412 \n",
       "13  g0pC_taskd g3pA_taskd 0.3095238 \n",
       "14  g3pC_taska g4pC_taska 0.3088685 \n",
       "15  g0pD_taska g3pC_taska 0.3083333 \n",
       "16  g0pC_taskd orig_taskd 0.3058824 \n",
       "17  g2pA_taskc orig_taskc 0.2994792 \n",
       "18  g2pB_taske g4pB_taske 0.2948454 \n",
       "19  g0pC_taskd g4pC_taskd 0.2935780 \n",
       "20  g3pC_taska orig_taska 0.2919075 \n",
       "21  g0pD_taska g4pC_taska 0.2894737 \n",
       "22  g4pE_taskb orig_taskb 0.2869128 \n",
       "23  g2pB_taske g4pC_taske 0.2857143 \n",
       "24  g0pE_taske g3pB_taske 0.2849462 \n",
       "25  g0pA_taskc orig_taskc 0.2788204 \n",
       "26  g0pD_taska orig_taska 0.2756892 \n",
       "27  g0pA_taskb orig_taskb 0.2727273 \n",
       "28  g2pC_taska g4pC_taska 0.2722772 \n",
       "29  g2pC_taska orig_taska 0.2600473 \n",
       "30  g4pC_taske orig_taske 0.2410016 \n",
       "... ...        ...        ...       \n",
       "40  g2pA_taskd g3pA_taskd 0.20120724\n",
       "41  g0pD_taska g2pC_taska 0.19402985\n",
       "42  g0pC_taskd g2pA_taskd 0.18997361\n",
       "43  g2pE_taska g4pC_taska 0.18165468\n",
       "44  g0pB_taskd g4pC_taskd 0.17961165\n",
       "45  g0pE_taska g2pC_taska 0.17931034\n",
       "46  g0pB_taskd orig_taskd 0.17906977\n",
       "47  g2pA_taskd orig_taskd 0.17612524\n",
       "48  g0pB_taskd g3pA_taskd 0.17249417\n",
       "49  g3pB_taske g3pC_taske 0.17241379\n",
       "50  g0pC_taskd g1pA_taskd 0.16863905\n",
       "51  g2pE_taska g3pC_taska 0.16464891\n",
       "52  g1pB_taske g2pB_taske 0.15340909\n",
       "53  g0pA_taskc g4pB_taskc 0.15089514\n",
       "54  g3pB_taske g4pC_taske 0.15014164\n",
       "55  g1pB_taske orig_taske 0.14190094\n",
       "56  g2pA_taskd g4pC_taskd 0.13948919\n",
       "57  g2pC_taskd g3pC_taskd 0.13058419\n",
       "58  g1pA_taskd g3pA_taskd 0.12008282\n",
       "59  g1pA_taskd g4pC_taskd 0.11727079\n",
       "60  g1pA_taskd orig_taskd 0.11680328\n",
       "61  g0pE_taske g4pC_taske 0.11280488\n",
       "62  g3pA_taskc g4pB_taskc 0.10079051\n",
       "63  g0pC_taskd g3pB_taskd 0.09727626\n",
       "64  g2pB_taskd g2pC_taskd 0.09633028\n",
       "65  g0pA_taske g2pE_taske 0.08732394\n",
       "66  g1pB_taske g4pB_taske 0.07877814\n",
       "67  g2pB_taskd g3pC_taskd 0.07854985\n",
       "68  g1pA_taskd g2pA_taskd 0.06563707\n",
       "69  g2pB_taskb g2pC_taskb 0.01530612"
      ]
     },
     "metadata": {},
     "output_type": "display_data"
    }
   ],
   "source": [
    "ls[order(-ls$score),]"
   ]
  },
  {
   "cell_type": "markdown",
   "metadata": {},
   "source": [
    "### Part 2.1-H-IV"
   ]
  },
  {
   "cell_type": "code",
   "execution_count": 27,
   "metadata": {},
   "outputs": [],
   "source": [
    "jsim1 <- subset(ls, score >= .23)\n",
    "count <- length(jsim1[[1]])"
   ]
  },
  {
   "cell_type": "code",
   "execution_count": 28,
   "metadata": {},
   "outputs": [
    {
     "data": {
      "text/html": [
       "'There were 34 observations that had a jacard similarity of atleast 0.23'"
      ],
      "text/latex": [
       "'There were 34 observations that had a jacard similarity of atleast 0.23'"
      ],
      "text/markdown": [
       "'There were 34 observations that had a jacard similarity of atleast 0.23'"
      ],
      "text/plain": [
       "[1] \"There were 34 observations that had a jacard similarity of atleast 0.23\""
      ]
     },
     "metadata": {},
     "output_type": "display_data"
    }
   ],
   "source": [
    "paste('There were',count,'observations that had a jacard similarity of atleast',sim)"
   ]
  },
  {
   "cell_type": "markdown",
   "metadata": {},
   "source": [
    "### Part 2.1-H-V"
   ]
  },
  {
   "cell_type": "code",
   "execution_count": 29,
   "metadata": {},
   "outputs": [
    {
     "data": {
      "text/html": [
       "<table>\n",
       "<thead><tr><th scope=col>a</th><th scope=col>b</th><th scope=col>score</th></tr></thead>\n",
       "<tbody>\n",
       "\t<tr><td>g4pC_taska</td><td>orig_taska</td><td>0.8431953 </td></tr>\n",
       "\t<tr><td>g3pA_taskd</td><td>orig_taskd</td><td>0.7987805 </td></tr>\n",
       "\t<tr><td>g3pA_taskd</td><td>g4pC_taskd</td><td>0.5461957 </td></tr>\n",
       "\t<tr><td>g4pC_taskd</td><td>orig_taskd</td><td>0.5280000 </td></tr>\n",
       "\t<tr><td>g4pB_taske</td><td>orig_taske</td><td>0.5008606 </td></tr>\n",
       "\t<tr><td>g0pE_taska</td><td>orig_taska</td><td>0.4809524 </td></tr>\n",
       "\t<tr><td>g2pB_taskd</td><td>g3pA_taskd</td><td>0.4406332 </td></tr>\n",
       "\t<tr><td>g2pB_taske</td><td>orig_taske</td><td>0.4387211 </td></tr>\n",
       "\t<tr><td>g0pB_taskc</td><td>orig_taskc</td><td>0.4308094 </td></tr>\n",
       "\t<tr><td>g2pB_taskd</td><td>orig_taskd</td><td>0.4285714 </td></tr>\n",
       "\t<tr><td>g0pE_taska</td><td>g4pC_taska</td><td>0.4221698 </td></tr>\n",
       "\t<tr><td>g2pB_taskd</td><td>g4pC_taskd</td><td>0.3529412 </td></tr>\n",
       "\t<tr><td>g0pC_taskd</td><td>g3pA_taskd</td><td>0.3095238 </td></tr>\n",
       "\t<tr><td>g3pC_taska</td><td>g4pC_taska</td><td>0.3088685 </td></tr>\n",
       "\t<tr><td>g0pD_taska</td><td>g3pC_taska</td><td>0.3083333 </td></tr>\n",
       "\t<tr><td>g0pC_taskd</td><td>orig_taskd</td><td>0.3058824 </td></tr>\n",
       "\t<tr><td>g2pA_taskc</td><td>orig_taskc</td><td>0.2994792 </td></tr>\n",
       "\t<tr><td>g2pB_taske</td><td>g4pB_taske</td><td>0.2948454 </td></tr>\n",
       "\t<tr><td>g0pC_taskd</td><td>g4pC_taskd</td><td>0.2935780 </td></tr>\n",
       "\t<tr><td>g3pC_taska</td><td>orig_taska</td><td>0.2919075 </td></tr>\n",
       "\t<tr><td>g0pD_taska</td><td>g4pC_taska</td><td>0.2894737 </td></tr>\n",
       "\t<tr><td>g4pE_taskb</td><td>orig_taskb</td><td>0.2869128 </td></tr>\n",
       "\t<tr><td>g2pB_taske</td><td>g4pC_taske</td><td>0.2857143 </td></tr>\n",
       "\t<tr><td>g0pE_taske</td><td>g3pB_taske</td><td>0.2849462 </td></tr>\n",
       "\t<tr><td>g0pA_taskc</td><td>orig_taskc</td><td>0.2788204 </td></tr>\n",
       "\t<tr><td>g0pD_taska</td><td>orig_taska</td><td>0.2756892 </td></tr>\n",
       "\t<tr><td>g0pA_taskb</td><td>orig_taskb</td><td>0.2727273 </td></tr>\n",
       "\t<tr><td>g2pC_taska</td><td>g4pC_taska</td><td>0.2722772 </td></tr>\n",
       "\t<tr><td>g2pC_taska</td><td>orig_taska</td><td>0.2600473 </td></tr>\n",
       "\t<tr><td>g4pC_taske</td><td>orig_taske</td><td>0.2410016 </td></tr>\n",
       "\t<tr><td>g1pD_taskb</td><td>g4pD_taskb</td><td>0.2394366 </td></tr>\n",
       "\t<tr><td>g0pE_taske</td><td>g3pC_taske</td><td>0.2389937 </td></tr>\n",
       "\t<tr><td>g0pD_taska</td><td>g0pE_taska</td><td>0.2379747 </td></tr>\n",
       "\t<tr><td>g0pA_taskc</td><td>g0pB_taskc</td><td>0.2337963 </td></tr>\n",
       "</tbody>\n",
       "</table>\n"
      ],
      "text/latex": [
       "\\begin{tabular}{r|lll}\n",
       " a & b & score\\\\\n",
       "\\hline\n",
       "\t g4pC\\_taska & orig\\_taska & 0.8431953   \\\\\n",
       "\t g3pA\\_taskd & orig\\_taskd & 0.7987805   \\\\\n",
       "\t g3pA\\_taskd & g4pC\\_taskd & 0.5461957   \\\\\n",
       "\t g4pC\\_taskd & orig\\_taskd & 0.5280000   \\\\\n",
       "\t g4pB\\_taske & orig\\_taske & 0.5008606   \\\\\n",
       "\t g0pE\\_taska & orig\\_taska & 0.4809524   \\\\\n",
       "\t g2pB\\_taskd & g3pA\\_taskd & 0.4406332   \\\\\n",
       "\t g2pB\\_taske & orig\\_taske & 0.4387211   \\\\\n",
       "\t g0pB\\_taskc & orig\\_taskc & 0.4308094   \\\\\n",
       "\t g2pB\\_taskd & orig\\_taskd & 0.4285714   \\\\\n",
       "\t g0pE\\_taska & g4pC\\_taska & 0.4221698   \\\\\n",
       "\t g2pB\\_taskd & g4pC\\_taskd & 0.3529412   \\\\\n",
       "\t g0pC\\_taskd & g3pA\\_taskd & 0.3095238   \\\\\n",
       "\t g3pC\\_taska & g4pC\\_taska & 0.3088685   \\\\\n",
       "\t g0pD\\_taska & g3pC\\_taska & 0.3083333   \\\\\n",
       "\t g0pC\\_taskd & orig\\_taskd & 0.3058824   \\\\\n",
       "\t g2pA\\_taskc & orig\\_taskc & 0.2994792   \\\\\n",
       "\t g2pB\\_taske & g4pB\\_taske & 0.2948454   \\\\\n",
       "\t g0pC\\_taskd & g4pC\\_taskd & 0.2935780   \\\\\n",
       "\t g3pC\\_taska & orig\\_taska & 0.2919075   \\\\\n",
       "\t g0pD\\_taska & g4pC\\_taska & 0.2894737   \\\\\n",
       "\t g4pE\\_taskb & orig\\_taskb & 0.2869128   \\\\\n",
       "\t g2pB\\_taske & g4pC\\_taske & 0.2857143   \\\\\n",
       "\t g0pE\\_taske & g3pB\\_taske & 0.2849462   \\\\\n",
       "\t g0pA\\_taskc & orig\\_taskc & 0.2788204   \\\\\n",
       "\t g0pD\\_taska & orig\\_taska & 0.2756892   \\\\\n",
       "\t g0pA\\_taskb & orig\\_taskb & 0.2727273   \\\\\n",
       "\t g2pC\\_taska & g4pC\\_taska & 0.2722772   \\\\\n",
       "\t g2pC\\_taska & orig\\_taska & 0.2600473   \\\\\n",
       "\t g4pC\\_taske & orig\\_taske & 0.2410016   \\\\\n",
       "\t g1pD\\_taskb & g4pD\\_taskb & 0.2394366   \\\\\n",
       "\t g0pE\\_taske & g3pC\\_taske & 0.2389937   \\\\\n",
       "\t g0pD\\_taska & g0pE\\_taska & 0.2379747   \\\\\n",
       "\t g0pA\\_taskc & g0pB\\_taskc & 0.2337963   \\\\\n",
       "\\end{tabular}\n"
      ],
      "text/markdown": [
       "\n",
       "| a | b | score |\n",
       "|---|---|---|\n",
       "| g4pC_taska | orig_taska | 0.8431953  |\n",
       "| g3pA_taskd | orig_taskd | 0.7987805  |\n",
       "| g3pA_taskd | g4pC_taskd | 0.5461957  |\n",
       "| g4pC_taskd | orig_taskd | 0.5280000  |\n",
       "| g4pB_taske | orig_taske | 0.5008606  |\n",
       "| g0pE_taska | orig_taska | 0.4809524  |\n",
       "| g2pB_taskd | g3pA_taskd | 0.4406332  |\n",
       "| g2pB_taske | orig_taske | 0.4387211  |\n",
       "| g0pB_taskc | orig_taskc | 0.4308094  |\n",
       "| g2pB_taskd | orig_taskd | 0.4285714  |\n",
       "| g0pE_taska | g4pC_taska | 0.4221698  |\n",
       "| g2pB_taskd | g4pC_taskd | 0.3529412  |\n",
       "| g0pC_taskd | g3pA_taskd | 0.3095238  |\n",
       "| g3pC_taska | g4pC_taska | 0.3088685  |\n",
       "| g0pD_taska | g3pC_taska | 0.3083333  |\n",
       "| g0pC_taskd | orig_taskd | 0.3058824  |\n",
       "| g2pA_taskc | orig_taskc | 0.2994792  |\n",
       "| g2pB_taske | g4pB_taske | 0.2948454  |\n",
       "| g0pC_taskd | g4pC_taskd | 0.2935780  |\n",
       "| g3pC_taska | orig_taska | 0.2919075  |\n",
       "| g0pD_taska | g4pC_taska | 0.2894737  |\n",
       "| g4pE_taskb | orig_taskb | 0.2869128  |\n",
       "| g2pB_taske | g4pC_taske | 0.2857143  |\n",
       "| g0pE_taske | g3pB_taske | 0.2849462  |\n",
       "| g0pA_taskc | orig_taskc | 0.2788204  |\n",
       "| g0pD_taska | orig_taska | 0.2756892  |\n",
       "| g0pA_taskb | orig_taskb | 0.2727273  |\n",
       "| g2pC_taska | g4pC_taska | 0.2722772  |\n",
       "| g2pC_taska | orig_taska | 0.2600473  |\n",
       "| g4pC_taske | orig_taske | 0.2410016  |\n",
       "| g1pD_taskb | g4pD_taskb | 0.2394366  |\n",
       "| g0pE_taske | g3pC_taske | 0.2389937  |\n",
       "| g0pD_taska | g0pE_taska | 0.2379747  |\n",
       "| g0pA_taskc | g0pB_taskc | 0.2337963  |\n",
       "\n"
      ],
      "text/plain": [
       "   a          b          score    \n",
       "1  g4pC_taska orig_taska 0.8431953\n",
       "2  g3pA_taskd orig_taskd 0.7987805\n",
       "3  g3pA_taskd g4pC_taskd 0.5461957\n",
       "4  g4pC_taskd orig_taskd 0.5280000\n",
       "5  g4pB_taske orig_taske 0.5008606\n",
       "6  g0pE_taska orig_taska 0.4809524\n",
       "7  g2pB_taskd g3pA_taskd 0.4406332\n",
       "8  g2pB_taske orig_taske 0.4387211\n",
       "9  g0pB_taskc orig_taskc 0.4308094\n",
       "10 g2pB_taskd orig_taskd 0.4285714\n",
       "11 g0pE_taska g4pC_taska 0.4221698\n",
       "12 g2pB_taskd g4pC_taskd 0.3529412\n",
       "13 g0pC_taskd g3pA_taskd 0.3095238\n",
       "14 g3pC_taska g4pC_taska 0.3088685\n",
       "15 g0pD_taska g3pC_taska 0.3083333\n",
       "16 g0pC_taskd orig_taskd 0.3058824\n",
       "17 g2pA_taskc orig_taskc 0.2994792\n",
       "18 g2pB_taske g4pB_taske 0.2948454\n",
       "19 g0pC_taskd g4pC_taskd 0.2935780\n",
       "20 g3pC_taska orig_taska 0.2919075\n",
       "21 g0pD_taska g4pC_taska 0.2894737\n",
       "22 g4pE_taskb orig_taskb 0.2869128\n",
       "23 g2pB_taske g4pC_taske 0.2857143\n",
       "24 g0pE_taske g3pB_taske 0.2849462\n",
       "25 g0pA_taskc orig_taskc 0.2788204\n",
       "26 g0pD_taska orig_taska 0.2756892\n",
       "27 g0pA_taskb orig_taskb 0.2727273\n",
       "28 g2pC_taska g4pC_taska 0.2722772\n",
       "29 g2pC_taska orig_taska 0.2600473\n",
       "30 g4pC_taske orig_taske 0.2410016\n",
       "31 g1pD_taskb g4pD_taskb 0.2394366\n",
       "32 g0pE_taske g3pC_taske 0.2389937\n",
       "33 g0pD_taska g0pE_taska 0.2379747\n",
       "34 g0pA_taskc g0pB_taskc 0.2337963"
      ]
     },
     "metadata": {},
     "output_type": "display_data"
    }
   ],
   "source": [
    "jsim1[order(-jsim1$score),]"
   ]
  },
  {
   "cell_type": "markdown",
   "metadata": {},
   "source": [
    "### Part 2.1-H-VI"
   ]
  },
  {
   "cell_type": "code",
   "execution_count": 30,
   "metadata": {
    "scrolled": false
   },
   "outputs": [
    {
     "data": {
      "text/plain": [
       "\n",
       "g0pA_taskb g0pA_taskc g0pB_taskc g0pC_taskd g0pD_taska g0pE_taska g0pE_taske \n",
       "         1          2          2          4          4          3          2 \n",
       "g1pD_taskb g2pA_taskc g2pB_taskd g2pB_taske g2pC_taska g3pA_taskd g3pC_taska \n",
       "         1          1          3          3          2          2          2 \n",
       "g4pB_taske g4pC_taska g4pC_taskd g4pC_taske g4pE_taskb \n",
       "         1          1          1          1          1 "
      ]
     },
     "metadata": {},
     "output_type": "display_data"
    }
   ],
   "source": [
    "table(jsim$a)"
   ]
  },
  {
   "cell_type": "code",
   "execution_count": 31,
   "metadata": {
    "scrolled": true
   },
   "outputs": [
    {
     "data": {
      "text/plain": [
       "\n",
       "g0pA_taskb g0pA_taskc g0pB_taskc g0pC_taskd g0pD_taska g0pE_taska g0pE_taske \n",
       "         1          2          1          3          4          2          2 \n",
       "g1pD_taskb g2pA_taskc g2pB_taskd g2pB_taske g2pC_taska g3pA_taskd g3pC_taska \n",
       "         1          1          3          3          2          2          2 \n",
       "g4pB_taske g4pC_taska g4pC_taskd g4pC_taske g4pE_taskb \n",
       "         1          1          1          1          1 "
      ]
     },
     "metadata": {},
     "output_type": "display_data"
    }
   ],
   "source": [
    "table(jsim1$a)"
   ]
  },
  {
   "cell_type": "markdown",
   "metadata": {},
   "source": [
    "Looking at the object count on the a column, it is apparent that the counts have gone down, there are less duplicates (even though exist) in lsh than the jaccard similarity"
   ]
  },
  {
   "cell_type": "code",
   "execution_count": 32,
   "metadata": {},
   "outputs": [
    {
     "data": {
      "text/plain": [
       "\n",
       "g0pB_taskc g0pE_taska g2pB_taskd g3pA_taskd g3pB_taske g3pC_taska g3pC_taske \n",
       "         1          1          1          2          1          2          1 \n",
       "g4pB_taske g4pC_taska g4pC_taskd g4pC_taske g4pD_taskb g4pE_taskc orig_taska \n",
       "         1          4          3          1          1          1          5 \n",
       "orig_taskb orig_taskc orig_taskd orig_taske \n",
       "         2          3          4          3 "
      ]
     },
     "metadata": {},
     "output_type": "display_data"
    }
   ],
   "source": [
    "table(jsim$b)"
   ]
  },
  {
   "cell_type": "code",
   "execution_count": 33,
   "metadata": {},
   "outputs": [
    {
     "data": {
      "text/plain": [
       "\n",
       "g0pB_taskc g0pE_taska g3pA_taskd g3pB_taske g3pC_taska g3pC_taske g4pB_taske \n",
       "         1          1          2          1          1          1          1 \n",
       "g4pC_taska g4pC_taskd g4pC_taske g4pD_taskb orig_taska orig_taskb orig_taskc \n",
       "         4          3          1          1          5          2          3 \n",
       "orig_taskd orig_taske \n",
       "         4          3 "
      ]
     },
     "metadata": {},
     "output_type": "display_data"
    }
   ],
   "source": [
    "table(jsim1$b)"
   ]
  },
  {
   "cell_type": "markdown",
   "metadata": {},
   "source": [
    "Once again, looking at the object count on the b column, it is apparent that the counts have gone down, there are less duplicates (even though exist) in lsh than the jaccard similarity. Unique counts have also gone down such as 'g2pB_taskd'. This might be due to the decrease in duplicate objects present in column a."
   ]
  },
  {
   "cell_type": "markdown",
   "metadata": {},
   "source": [
    "## Part 2.2"
   ]
  },
  {
   "cell_type": "code",
   "execution_count": 34,
   "metadata": {},
   "outputs": [],
   "source": [
    "users <- 671\n",
    "id <- 20349472"
   ]
  },
  {
   "cell_type": "code",
   "execution_count": 35,
   "metadata": {},
   "outputs": [],
   "source": [
    "user_Id <- id %% users"
   ]
  },
  {
   "cell_type": "code",
   "execution_count": 37,
   "metadata": {},
   "outputs": [],
   "source": [
    "library('dplyr')\n",
    "library('stringr')"
   ]
  },
  {
   "cell_type": "markdown",
   "metadata": {},
   "source": [
    "Reading in data files"
   ]
  },
  {
   "cell_type": "code",
   "execution_count": 38,
   "metadata": {},
   "outputs": [],
   "source": [
    "df.ratings <- read.csv(\"ml-latest-small/ratings.csv\", sep=\",\", header=T)"
   ]
  },
  {
   "cell_type": "code",
   "execution_count": 39,
   "metadata": {},
   "outputs": [],
   "source": [
    "df.movies <- read.csv(\"ml-latest-small/movies.csv\", sep=\",\", header=T)"
   ]
  },
  {
   "cell_type": "markdown",
   "metadata": {},
   "source": [
    "Filtering only chosen user's ratings and creating the label for the columns of the utility matrix"
   ]
  },
  {
   "cell_type": "code",
   "execution_count": 40,
   "metadata": {},
   "outputs": [],
   "source": [
    "user.ratings <- filter(df.ratings, userId == user_Id)"
   ]
  },
  {
   "cell_type": "code",
   "execution_count": 41,
   "metadata": {},
   "outputs": [],
   "source": [
    "labels <- c(\"Action\", \"Adventure\", \"Animation\", \"Children\", \"Comedy\", \"Crime\", \"Documentary\", \"Drama\", \"Fantasy\", \"Film-Noir\", \"Horror\", \"IMAX\", \"Musical\", \"Mystery\", \"Romance\", \"Sci-Fi\", \"Thriller\", \"War\", \"Western\", \"(no genres listed)\")"
   ]
  },
  {
   "cell_type": "markdown",
   "metadata": {},
   "source": [
    "Dataframe consisting of movies(with attributes) and ratings for chosen user"
   ]
  },
  {
   "cell_type": "code",
   "execution_count": 42,
   "metadata": {},
   "outputs": [],
   "source": [
    "user_prof <- merge(user.ratings, df.movies)"
   ]
  },
  {
   "cell_type": "markdown",
   "metadata": {},
   "source": [
    "Tokenizing genres"
   ]
  },
  {
   "cell_type": "code",
   "execution_count": 43,
   "metadata": {},
   "outputs": [],
   "source": [
    "l = c()\n",
    "index <- 1\n",
    "for (m in user_prof$genres){\n",
    "    l[[index]] <- strsplit(m,\"\\\\|\")\n",
    "    index = index + 1\n",
    "}\n",
    "user_prof$tokens <- l"
   ]
  },
  {
   "cell_type": "markdown",
   "metadata": {},
   "source": [
    "Creating utility matrix"
   ]
  },
  {
   "cell_type": "code",
   "execution_count": 44,
   "metadata": {},
   "outputs": [],
   "source": [
    "for (la in labels){\n",
    "    temp <- c()\n",
    "    index <- 1\n",
    "    for (m in user_prof$tokens){\n",
    "        if(la %in% m[[1]]){\n",
    "            temp[[index]] <- 1\n",
    "        }\n",
    "        else{\n",
    "            temp[[index]] <- 0\n",
    "        }\n",
    "        index = index + 1\n",
    "    }\n",
    "    user_prof[get('la')] <- temp\n",
    "}"
   ]
  },
  {
   "cell_type": "markdown",
   "metadata": {},
   "source": [
    "Removing unecessary columns"
   ]
  },
  {
   "cell_type": "code",
   "execution_count": 45,
   "metadata": {},
   "outputs": [],
   "source": [
    "user_prof <- user_prof[c(-2,-3,-4,-5,-6,-7)] "
   ]
  },
  {
   "cell_type": "code",
   "execution_count": 46,
   "metadata": {},
   "outputs": [
    {
     "data": {
      "text/html": [
       "<table>\n",
       "<thead><tr><th scope=col>movieId</th><th scope=col>Action</th><th scope=col>Adventure</th><th scope=col>Animation</th><th scope=col>Children</th><th scope=col>Comedy</th><th scope=col>Crime</th><th scope=col>Documentary</th><th scope=col>Drama</th><th scope=col>Fantasy</th><th scope=col>...</th><th scope=col>Horror</th><th scope=col>IMAX</th><th scope=col>Musical</th><th scope=col>Mystery</th><th scope=col>Romance</th><th scope=col>Sci-Fi</th><th scope=col>Thriller</th><th scope=col>War</th><th scope=col>Western</th><th scope=col>(no genres listed)</th></tr></thead>\n",
       "<tbody>\n",
       "\t<tr><td> 1 </td><td>0  </td><td>1  </td><td>1  </td><td>1  </td><td>1  </td><td>0  </td><td>0  </td><td>0  </td><td>1  </td><td>...</td><td>0  </td><td>0  </td><td>0  </td><td>0  </td><td>0  </td><td>0  </td><td>0  </td><td>0  </td><td>0  </td><td>0  </td></tr>\n",
       "\t<tr><td> 5 </td><td>0  </td><td>0  </td><td>0  </td><td>0  </td><td>1  </td><td>0  </td><td>0  </td><td>0  </td><td>0  </td><td>...</td><td>0  </td><td>0  </td><td>0  </td><td>0  </td><td>0  </td><td>0  </td><td>0  </td><td>0  </td><td>0  </td><td>0  </td></tr>\n",
       "\t<tr><td> 6 </td><td>1  </td><td>0  </td><td>0  </td><td>0  </td><td>0  </td><td>1  </td><td>0  </td><td>0  </td><td>0  </td><td>...</td><td>0  </td><td>0  </td><td>0  </td><td>0  </td><td>0  </td><td>0  </td><td>1  </td><td>0  </td><td>0  </td><td>0  </td></tr>\n",
       "\t<tr><td> 7 </td><td>0  </td><td>0  </td><td>0  </td><td>0  </td><td>1  </td><td>0  </td><td>0  </td><td>0  </td><td>0  </td><td>...</td><td>0  </td><td>0  </td><td>0  </td><td>0  </td><td>1  </td><td>0  </td><td>0  </td><td>0  </td><td>0  </td><td>0  </td></tr>\n",
       "\t<tr><td> 9 </td><td>1  </td><td>0  </td><td>0  </td><td>0  </td><td>0  </td><td>0  </td><td>0  </td><td>0  </td><td>0  </td><td>...</td><td>0  </td><td>0  </td><td>0  </td><td>0  </td><td>0  </td><td>0  </td><td>0  </td><td>0  </td><td>0  </td><td>0  </td></tr>\n",
       "\t<tr><td>32 </td><td>0  </td><td>0  </td><td>0  </td><td>0  </td><td>0  </td><td>0  </td><td>0  </td><td>0  </td><td>0  </td><td>...</td><td>0  </td><td>0  </td><td>0  </td><td>1  </td><td>0  </td><td>1  </td><td>1  </td><td>0  </td><td>0  </td><td>0  </td></tr>\n",
       "</tbody>\n",
       "</table>\n"
      ],
      "text/latex": [
       "\\begin{tabular}{r|lllllllllllllllllllll}\n",
       " movieId & Action & Adventure & Animation & Children & Comedy & Crime & Documentary & Drama & Fantasy & ... & Horror & IMAX & Musical & Mystery & Romance & Sci-Fi & Thriller & War & Western & (no genres listed)\\\\\n",
       "\\hline\n",
       "\t  1  & 0   & 1   & 1   & 1   & 1   & 0   & 0   & 0   & 1   & ... & 0   & 0   & 0   & 0   & 0   & 0   & 0   & 0   & 0   & 0  \\\\\n",
       "\t  5  & 0   & 0   & 0   & 0   & 1   & 0   & 0   & 0   & 0   & ... & 0   & 0   & 0   & 0   & 0   & 0   & 0   & 0   & 0   & 0  \\\\\n",
       "\t  6  & 1   & 0   & 0   & 0   & 0   & 1   & 0   & 0   & 0   & ... & 0   & 0   & 0   & 0   & 0   & 0   & 1   & 0   & 0   & 0  \\\\\n",
       "\t  7  & 0   & 0   & 0   & 0   & 1   & 0   & 0   & 0   & 0   & ... & 0   & 0   & 0   & 0   & 1   & 0   & 0   & 0   & 0   & 0  \\\\\n",
       "\t  9  & 1   & 0   & 0   & 0   & 0   & 0   & 0   & 0   & 0   & ... & 0   & 0   & 0   & 0   & 0   & 0   & 0   & 0   & 0   & 0  \\\\\n",
       "\t 32  & 0   & 0   & 0   & 0   & 0   & 0   & 0   & 0   & 0   & ... & 0   & 0   & 0   & 1   & 0   & 1   & 1   & 0   & 0   & 0  \\\\\n",
       "\\end{tabular}\n"
      ],
      "text/markdown": [
       "\n",
       "| movieId | Action | Adventure | Animation | Children | Comedy | Crime | Documentary | Drama | Fantasy | ... | Horror | IMAX | Musical | Mystery | Romance | Sci-Fi | Thriller | War | Western | (no genres listed) |\n",
       "|---|---|---|---|---|---|---|---|---|---|---|---|---|---|---|---|---|---|---|---|---|\n",
       "|  1  | 0   | 1   | 1   | 1   | 1   | 0   | 0   | 0   | 1   | ... | 0   | 0   | 0   | 0   | 0   | 0   | 0   | 0   | 0   | 0   |\n",
       "|  5  | 0   | 0   | 0   | 0   | 1   | 0   | 0   | 0   | 0   | ... | 0   | 0   | 0   | 0   | 0   | 0   | 0   | 0   | 0   | 0   |\n",
       "|  6  | 1   | 0   | 0   | 0   | 0   | 1   | 0   | 0   | 0   | ... | 0   | 0   | 0   | 0   | 0   | 0   | 1   | 0   | 0   | 0   |\n",
       "|  7  | 0   | 0   | 0   | 0   | 1   | 0   | 0   | 0   | 0   | ... | 0   | 0   | 0   | 0   | 1   | 0   | 0   | 0   | 0   | 0   |\n",
       "|  9  | 1   | 0   | 0   | 0   | 0   | 0   | 0   | 0   | 0   | ... | 0   | 0   | 0   | 0   | 0   | 0   | 0   | 0   | 0   | 0   |\n",
       "| 32  | 0   | 0   | 0   | 0   | 0   | 0   | 0   | 0   | 0   | ... | 0   | 0   | 0   | 1   | 0   | 1   | 1   | 0   | 0   | 0   |\n",
       "\n"
      ],
      "text/plain": [
       "  movieId Action Adventure Animation Children Comedy Crime Documentary Drama\n",
       "1  1      0      1         1         1        1      0     0           0    \n",
       "2  5      0      0         0         0        1      0     0           0    \n",
       "3  6      1      0         0         0        0      1     0           0    \n",
       "4  7      0      0         0         0        1      0     0           0    \n",
       "5  9      1      0         0         0        0      0     0           0    \n",
       "6 32      0      0         0         0        0      0     0           0    \n",
       "  Fantasy ... Horror IMAX Musical Mystery Romance Sci-Fi Thriller War Western\n",
       "1 1       ... 0      0    0       0       0       0      0        0   0      \n",
       "2 0       ... 0      0    0       0       0       0      0        0   0      \n",
       "3 0       ... 0      0    0       0       0       0      1        0   0      \n",
       "4 0       ... 0      0    0       0       1       0      0        0   0      \n",
       "5 0       ... 0      0    0       0       0       0      0        0   0      \n",
       "6 0       ... 0      0    0       1       0       1      1        0   0      \n",
       "  (no genres listed)\n",
       "1 0                 \n",
       "2 0                 \n",
       "3 0                 \n",
       "4 0                 \n",
       "5 0                 \n",
       "6 0                 "
      ]
     },
     "metadata": {},
     "output_type": "display_data"
    }
   ],
   "source": [
    "head(user_prof)"
   ]
  },
  {
   "cell_type": "markdown",
   "metadata": {},
   "source": [
    "Finding averages"
   ]
  },
  {
   "cell_type": "code",
   "execution_count": 47,
   "metadata": {},
   "outputs": [],
   "source": [
    "user_prof_avg <- c()\n",
    "index <- 1\n",
    "for( c in colnames(user_prof)){\n",
    "    if (c != 'movieId'){\n",
    "        user_prof_avg[[index]] <- sum(user_prof[get('c')])/nrow(user_prof)\n",
    "        index = index + 1\n",
    "    }\n",
    "}"
   ]
  },
  {
   "cell_type": "code",
   "execution_count": 48,
   "metadata": {
    "scrolled": true
   },
   "outputs": [
    {
     "data": {
      "text/html": [
       "<ol class=list-inline>\n",
       "\t<li>0.394736842105263</li>\n",
       "\t<li>0.315789473684211</li>\n",
       "\t<li>0.0263157894736842</li>\n",
       "\t<li>0.0789473684210526</li>\n",
       "\t<li>0.368421052631579</li>\n",
       "\t<li>0.131578947368421</li>\n",
       "\t<li>0</li>\n",
       "\t<li>0.236842105263158</li>\n",
       "\t<li>0.131578947368421</li>\n",
       "\t<li>0</li>\n",
       "\t<li>0.0263157894736842</li>\n",
       "\t<li>0</li>\n",
       "\t<li>0.0263157894736842</li>\n",
       "\t<li>0.0526315789473684</li>\n",
       "\t<li>0.157894736842105</li>\n",
       "\t<li>0.131578947368421</li>\n",
       "\t<li>0.473684210526316</li>\n",
       "\t<li>0</li>\n",
       "\t<li>0</li>\n",
       "\t<li>0</li>\n",
       "</ol>\n"
      ],
      "text/latex": [
       "\\begin{enumerate*}\n",
       "\\item 0.394736842105263\n",
       "\\item 0.315789473684211\n",
       "\\item 0.0263157894736842\n",
       "\\item 0.0789473684210526\n",
       "\\item 0.368421052631579\n",
       "\\item 0.131578947368421\n",
       "\\item 0\n",
       "\\item 0.236842105263158\n",
       "\\item 0.131578947368421\n",
       "\\item 0\n",
       "\\item 0.0263157894736842\n",
       "\\item 0\n",
       "\\item 0.0263157894736842\n",
       "\\item 0.0526315789473684\n",
       "\\item 0.157894736842105\n",
       "\\item 0.131578947368421\n",
       "\\item 0.473684210526316\n",
       "\\item 0\n",
       "\\item 0\n",
       "\\item 0\n",
       "\\end{enumerate*}\n"
      ],
      "text/markdown": [
       "1. 0.394736842105263\n",
       "2. 0.315789473684211\n",
       "3. 0.0263157894736842\n",
       "4. 0.0789473684210526\n",
       "5. 0.368421052631579\n",
       "6. 0.131578947368421\n",
       "7. 0\n",
       "8. 0.236842105263158\n",
       "9. 0.131578947368421\n",
       "10. 0\n",
       "11. 0.0263157894736842\n",
       "12. 0\n",
       "13. 0.0263157894736842\n",
       "14. 0.0526315789473684\n",
       "15. 0.157894736842105\n",
       "16. 0.131578947368421\n",
       "17. 0.473684210526316\n",
       "18. 0\n",
       "19. 0\n",
       "20. 0\n",
       "\n",
       "\n"
      ],
      "text/plain": [
       " [1] 0.39473684 0.31578947 0.02631579 0.07894737 0.36842105 0.13157895\n",
       " [7] 0.00000000 0.23684211 0.13157895 0.00000000 0.02631579 0.00000000\n",
       "[13] 0.02631579 0.05263158 0.15789474 0.13157895 0.47368421 0.00000000\n",
       "[19] 0.00000000 0.00000000"
      ]
     },
     "metadata": {},
     "output_type": "display_data"
    }
   ],
   "source": [
    "user_prof_avg"
   ]
  },
  {
   "cell_type": "markdown",
   "metadata": {},
   "source": [
    "Creating new movie Profile"
   ]
  },
  {
   "cell_type": "code",
   "execution_count": 49,
   "metadata": {},
   "outputs": [],
   "source": [
    "movies <- 10\n",
    "#set.seed(seed)\n",
    "movieId <- sample(df.movies$movieId, movies)\n",
    "movie_prof <- data.frame(movieId)"
   ]
  },
  {
   "cell_type": "code",
   "execution_count": 50,
   "metadata": {},
   "outputs": [],
   "source": [
    "movie_prof <- merge(movie_prof, df.movies)"
   ]
  },
  {
   "cell_type": "code",
   "execution_count": 51,
   "metadata": {},
   "outputs": [],
   "source": [
    "title <- movie_prof$title"
   ]
  },
  {
   "cell_type": "code",
   "execution_count": 52,
   "metadata": {},
   "outputs": [],
   "source": [
    "l = c()\n",
    "index <- 1\n",
    "for (m in movie_prof$genres){\n",
    "    l[[index]] <- strsplit(m,\"\\\\|\")\n",
    "    index = index + 1\n",
    "}\n",
    "movie_prof$tokens <- l"
   ]
  },
  {
   "cell_type": "code",
   "execution_count": 53,
   "metadata": {},
   "outputs": [],
   "source": [
    "for (la in labels){\n",
    "    temp <- c()\n",
    "    index <- 1\n",
    "    for (m in movie_prof$tokens){\n",
    "        if(la %in% m[[1]]){\n",
    "            temp[[index]] <- 1\n",
    "        }\n",
    "        else{\n",
    "            temp[[index]] <- 0\n",
    "        }\n",
    "        index = index + 1\n",
    "    }\n",
    "    movie_prof[get('la')] <- temp\n",
    "}"
   ]
  },
  {
   "cell_type": "code",
   "execution_count": 54,
   "metadata": {},
   "outputs": [],
   "source": [
    "movie_prof <- movie_prof[c(-2,-3,-4)]"
   ]
  },
  {
   "cell_type": "code",
   "execution_count": 55,
   "metadata": {},
   "outputs": [],
   "source": [
    "movie_list <- movie_prof$movieId\n",
    "movie_prof <- movie_prof[c(-1)]"
   ]
  },
  {
   "cell_type": "code",
   "execution_count": 56,
   "metadata": {},
   "outputs": [
    {
     "data": {
      "text/html": [
       "<table>\n",
       "<thead><tr><th scope=col>Action</th><th scope=col>Adventure</th><th scope=col>Animation</th><th scope=col>Children</th><th scope=col>Comedy</th><th scope=col>Crime</th><th scope=col>Documentary</th><th scope=col>Drama</th><th scope=col>Fantasy</th><th scope=col>Film-Noir</th><th scope=col>Horror</th><th scope=col>IMAX</th><th scope=col>Musical</th><th scope=col>Mystery</th><th scope=col>Romance</th><th scope=col>Sci-Fi</th><th scope=col>Thriller</th><th scope=col>War</th><th scope=col>Western</th><th scope=col>(no genres listed)</th></tr></thead>\n",
       "<tbody>\n",
       "\t<tr><td>1</td><td>0</td><td>0</td><td>0</td><td>0</td><td>0</td><td>0</td><td>0</td><td>0</td><td>0</td><td>0</td><td>0</td><td>0</td><td>0</td><td>0</td><td>0</td><td>1</td><td>0</td><td>0</td><td>0</td></tr>\n",
       "\t<tr><td>0</td><td>0</td><td>0</td><td>0</td><td>0</td><td>0</td><td>0</td><td>0</td><td>0</td><td>0</td><td>0</td><td>0</td><td>0</td><td>0</td><td>1</td><td>0</td><td>0</td><td>0</td><td>0</td><td>0</td></tr>\n",
       "\t<tr><td>0</td><td>0</td><td>0</td><td>0</td><td>0</td><td>0</td><td>0</td><td>1</td><td>0</td><td>0</td><td>0</td><td>0</td><td>0</td><td>0</td><td>0</td><td>0</td><td>0</td><td>0</td><td>0</td><td>0</td></tr>\n",
       "\t<tr><td>0</td><td>0</td><td>0</td><td>0</td><td>0</td><td>0</td><td>0</td><td>1</td><td>0</td><td>0</td><td>0</td><td>0</td><td>0</td><td>0</td><td>0</td><td>0</td><td>0</td><td>0</td><td>0</td><td>0</td></tr>\n",
       "\t<tr><td>0</td><td>0</td><td>0</td><td>0</td><td>0</td><td>0</td><td>0</td><td>1</td><td>0</td><td>0</td><td>0</td><td>0</td><td>0</td><td>0</td><td>0</td><td>0</td><td>0</td><td>1</td><td>0</td><td>0</td></tr>\n",
       "\t<tr><td>0</td><td>0</td><td>0</td><td>0</td><td>0</td><td>0</td><td>0</td><td>1</td><td>0</td><td>0</td><td>0</td><td>0</td><td>0</td><td>0</td><td>0</td><td>0</td><td>0</td><td>0</td><td>0</td><td>0</td></tr>\n",
       "</tbody>\n",
       "</table>\n"
      ],
      "text/latex": [
       "\\begin{tabular}{r|llllllllllllllllllll}\n",
       " Action & Adventure & Animation & Children & Comedy & Crime & Documentary & Drama & Fantasy & Film-Noir & Horror & IMAX & Musical & Mystery & Romance & Sci-Fi & Thriller & War & Western & (no genres listed)\\\\\n",
       "\\hline\n",
       "\t 1 & 0 & 0 & 0 & 0 & 0 & 0 & 0 & 0 & 0 & 0 & 0 & 0 & 0 & 0 & 0 & 1 & 0 & 0 & 0\\\\\n",
       "\t 0 & 0 & 0 & 0 & 0 & 0 & 0 & 0 & 0 & 0 & 0 & 0 & 0 & 0 & 1 & 0 & 0 & 0 & 0 & 0\\\\\n",
       "\t 0 & 0 & 0 & 0 & 0 & 0 & 0 & 1 & 0 & 0 & 0 & 0 & 0 & 0 & 0 & 0 & 0 & 0 & 0 & 0\\\\\n",
       "\t 0 & 0 & 0 & 0 & 0 & 0 & 0 & 1 & 0 & 0 & 0 & 0 & 0 & 0 & 0 & 0 & 0 & 0 & 0 & 0\\\\\n",
       "\t 0 & 0 & 0 & 0 & 0 & 0 & 0 & 1 & 0 & 0 & 0 & 0 & 0 & 0 & 0 & 0 & 0 & 1 & 0 & 0\\\\\n",
       "\t 0 & 0 & 0 & 0 & 0 & 0 & 0 & 1 & 0 & 0 & 0 & 0 & 0 & 0 & 0 & 0 & 0 & 0 & 0 & 0\\\\\n",
       "\\end{tabular}\n"
      ],
      "text/markdown": [
       "\n",
       "| Action | Adventure | Animation | Children | Comedy | Crime | Documentary | Drama | Fantasy | Film-Noir | Horror | IMAX | Musical | Mystery | Romance | Sci-Fi | Thriller | War | Western | (no genres listed) |\n",
       "|---|---|---|---|---|---|---|---|---|---|---|---|---|---|---|---|---|---|---|---|\n",
       "| 1 | 0 | 0 | 0 | 0 | 0 | 0 | 0 | 0 | 0 | 0 | 0 | 0 | 0 | 0 | 0 | 1 | 0 | 0 | 0 |\n",
       "| 0 | 0 | 0 | 0 | 0 | 0 | 0 | 0 | 0 | 0 | 0 | 0 | 0 | 0 | 1 | 0 | 0 | 0 | 0 | 0 |\n",
       "| 0 | 0 | 0 | 0 | 0 | 0 | 0 | 1 | 0 | 0 | 0 | 0 | 0 | 0 | 0 | 0 | 0 | 0 | 0 | 0 |\n",
       "| 0 | 0 | 0 | 0 | 0 | 0 | 0 | 1 | 0 | 0 | 0 | 0 | 0 | 0 | 0 | 0 | 0 | 0 | 0 | 0 |\n",
       "| 0 | 0 | 0 | 0 | 0 | 0 | 0 | 1 | 0 | 0 | 0 | 0 | 0 | 0 | 0 | 0 | 0 | 1 | 0 | 0 |\n",
       "| 0 | 0 | 0 | 0 | 0 | 0 | 0 | 1 | 0 | 0 | 0 | 0 | 0 | 0 | 0 | 0 | 0 | 0 | 0 | 0 |\n",
       "\n"
      ],
      "text/plain": [
       "  Action Adventure Animation Children Comedy Crime Documentary Drama Fantasy\n",
       "1 1      0         0         0        0      0     0           0     0      \n",
       "2 0      0         0         0        0      0     0           0     0      \n",
       "3 0      0         0         0        0      0     0           1     0      \n",
       "4 0      0         0         0        0      0     0           1     0      \n",
       "5 0      0         0         0        0      0     0           1     0      \n",
       "6 0      0         0         0        0      0     0           1     0      \n",
       "  Film-Noir Horror IMAX Musical Mystery Romance Sci-Fi Thriller War Western\n",
       "1 0         0      0    0       0       0       0      1        0   0      \n",
       "2 0         0      0    0       0       1       0      0        0   0      \n",
       "3 0         0      0    0       0       0       0      0        0   0      \n",
       "4 0         0      0    0       0       0       0      0        0   0      \n",
       "5 0         0      0    0       0       0       0      0        1   0      \n",
       "6 0         0      0    0       0       0       0      0        0   0      \n",
       "  (no genres listed)\n",
       "1 0                 \n",
       "2 0                 \n",
       "3 0                 \n",
       "4 0                 \n",
       "5 0                 \n",
       "6 0                 "
      ]
     },
     "metadata": {},
     "output_type": "display_data"
    }
   ],
   "source": [
    "head(movie_prof)"
   ]
  },
  {
   "cell_type": "markdown",
   "metadata": {},
   "source": [
    "Calculating cosine similarity (manual function)"
   ]
  },
  {
   "cell_type": "code",
   "execution_count": 57,
   "metadata": {},
   "outputs": [],
   "source": [
    "cosine_sim <- c()\n",
    "index = 1\n",
    "for (i in 1:nrow(movie_prof)){\n",
    "    numerator <- 0\n",
    "    denomenator_a <- 0\n",
    "    denomenator_b <- 0\n",
    "    test_movie <- movie_prof[i,]\n",
    "    for (d in 1:length(test_movie)){\n",
    "        numerator <- numerator + test_movie[d][[1]]*user_prof_avg[d]\n",
    "        denomenator_a <- denomenator_a + test_movie[d][[1]]**2\n",
    "        denomenator_b <- denomenator_b + user_prof_avg[d]**2\n",
    "    }\n",
    "    denomenator <- sqrt(denomenator_a) * sqrt(denomenator_b)\n",
    "    cosine_sim[[index]] <- numerator/denomenator\n",
    "    index <- index + 1\n",
    "}"
   ]
  },
  {
   "cell_type": "code",
   "execution_count": 58,
   "metadata": {},
   "outputs": [],
   "source": [
    "movie_prof$movieId <- movie_list\n",
    "movie_prof$cos_sim <- cosine_sim\n",
    "movie_prof$title <- title"
   ]
  },
  {
   "cell_type": "code",
   "execution_count": 59,
   "metadata": {},
   "outputs": [],
   "source": [
    "movie_prof <- movie_prof[order(-movie_prof$cos_sim),]"
   ]
  },
  {
   "cell_type": "code",
   "execution_count": 60,
   "metadata": {},
   "outputs": [
    {
     "name": "stdout",
     "output_type": "stream",
     "text": [
      "User ID 55 chose the following 10 movies:\n",
      "2501 48319 31930 45679 3173 47330 31410 423 638 162672\n",
      "Of these, the following 5 movies are recommended: \n",
      "MovieId\t\t\tMovieName\t\t\t\tSimilarity\n",
      "-------------------------------------------------------------------------------------------------\n",
      "423\t\t\tBlown Away (1994)\t\t\t0.704523734083504\n",
      "48319\t\t\tFlyboys (2006)\t\t\t0.543462010775252\n",
      "47330\t\t\tDirty Mary Crazy Larry (1974)\t\t\t0.528365843809272\n",
      "162672\t\t\tMohenjo Daro (2016)\t\t\t0.47065190732314\n",
      "2501\t\t\tOctober Sky (1999)\t\t\t0.271731005387626\n"
     ]
    }
   ],
   "source": [
    "cat(sprintf('User ID %s chose the following %s movies:\\n',user_Id,movies))\n",
    "cat(sprintf('%s',movieId))\n",
    "cat(sprintf('\\n'))\n",
    "cat(sprintf('Of these, the following 5 movies are recommended: \\n'))\n",
    "cat(sprintf('MovieId\\t\\t\\tMovieName\\t\\t\\t\\tSimilarity\\n'))\n",
    "cat(sprintf('-------------------------------------------------------------------------------------------------\\n'))\n",
    "for (i in 1:5){\n",
    "    cat(sprintf('%s\\t\\t\\t%s\\t\\t\\t%s\\n', movie_prof[i,]$movieId, movie_prof[i,]$title, movie_prof[i,]$cos_sim))\n",
    "}"
   ]
  },
  {
   "cell_type": "markdown",
   "metadata": {},
   "source": [
    "## Part 2.3"
   ]
  },
  {
   "cell_type": "code",
   "execution_count": 61,
   "metadata": {},
   "outputs": [],
   "source": [
    "user_Id <- 191\n",
    "movies <- c(10,34,47,110,150,153,161,165,185,208,231,292,296,300,318,339,344,349,356,380,434,454,457,480,588,590,592,593,595)\n",
    "test_Ids <- c(150, 296, 380, 590)\n",
    "userId <- c(513,317,415,375,64,556,82,225,657,266,568,50)\n",
    "Jacard_Similarity <- c(0.4358974,0.4033613,0.3255814,0.3049645,0.2753623,0.2727273,0.2527473,0.2420382,0.2262774,0.2216216,0.2105263,0.2009804)\n",
    "jacard <- data.frame(userId,Jacard_Similarity)"
   ]
  },
  {
   "cell_type": "markdown",
   "metadata": {},
   "source": [
    "### Part 2.3-A"
   ]
  },
  {
   "cell_type": "code",
   "execution_count": 62,
   "metadata": {},
   "outputs": [],
   "source": [
    "n <- 5\n",
    "#set.seed(seed)\n",
    "random_sample <- sample(jacard$userId, n)\n",
    "user_IDs <- random_sample"
   ]
  },
  {
   "cell_type": "markdown",
   "metadata": {},
   "source": [
    "Creating Dimensions of the Utility Matrix"
   ]
  },
  {
   "cell_type": "code",
   "execution_count": 63,
   "metadata": {},
   "outputs": [],
   "source": [
    "user_IDs[[6]] <- user_Id\n",
    "utility_matrix <- data.frame(userId = user_IDs)"
   ]
  },
  {
   "cell_type": "code",
   "execution_count": 64,
   "metadata": {},
   "outputs": [],
   "source": [
    "merged <- filter(df.ratings, userId %in% random_sample)"
   ]
  },
  {
   "cell_type": "code",
   "execution_count": 65,
   "metadata": {},
   "outputs": [
    {
     "data": {
      "text/html": [
       "29"
      ],
      "text/latex": [
       "29"
      ],
      "text/markdown": [
       "29"
      ],
      "text/plain": [
       "[1] 29"
      ]
     },
     "metadata": {},
     "output_type": "display_data"
    }
   ],
   "source": [
    "labels <- intersect(movies,merged$movieId)\n",
    "length(labels)"
   ]
  },
  {
   "cell_type": "code",
   "execution_count": 66,
   "metadata": {},
   "outputs": [
    {
     "data": {
      "text/html": [
       "29"
      ],
      "text/latex": [
       "29"
      ],
      "text/markdown": [
       "29"
      ],
      "text/plain": [
       "[1] 29"
      ]
     },
     "metadata": {},
     "output_type": "display_data"
    }
   ],
   "source": [
    "# making labels optimal length\n",
    "labels <- movies\n",
    "length(labels)"
   ]
  },
  {
   "cell_type": "markdown",
   "metadata": {},
   "source": [
    "Top 5 Jaccard Sim"
   ]
  },
  {
   "cell_type": "code",
   "execution_count": 67,
   "metadata": {},
   "outputs": [
    {
     "data": {
      "text/html": [
       "<table>\n",
       "<thead><tr><th></th><th scope=col>userId</th><th scope=col>Jacard_Similarity</th></tr></thead>\n",
       "<tbody>\n",
       "\t<tr><th scope=row>4</th><td>375      </td><td>0.3049645</td></tr>\n",
       "\t<tr><th scope=row>2</th><td> 82      </td><td>0.2527473</td></tr>\n",
       "\t<tr><th scope=row>3</th><td>266      </td><td>0.2216216</td></tr>\n",
       "\t<tr><th scope=row>5</th><td>568      </td><td>0.2105263</td></tr>\n",
       "\t<tr><th scope=row>1</th><td> 50      </td><td>0.2009804</td></tr>\n",
       "</tbody>\n",
       "</table>\n"
      ],
      "text/latex": [
       "\\begin{tabular}{r|ll}\n",
       "  & userId & Jacard\\_Similarity\\\\\n",
       "\\hline\n",
       "\t4 & 375       & 0.3049645\\\\\n",
       "\t2 &  82       & 0.2527473\\\\\n",
       "\t3 & 266       & 0.2216216\\\\\n",
       "\t5 & 568       & 0.2105263\\\\\n",
       "\t1 &  50       & 0.2009804\\\\\n",
       "\\end{tabular}\n"
      ],
      "text/markdown": [
       "\n",
       "| <!--/--> | userId | Jacard_Similarity |\n",
       "|---|---|---|\n",
       "| 4 | 375       | 0.3049645 |\n",
       "| 2 |  82       | 0.2527473 |\n",
       "| 3 | 266       | 0.2216216 |\n",
       "| 5 | 568       | 0.2105263 |\n",
       "| 1 |  50       | 0.2009804 |\n",
       "\n"
      ],
      "text/plain": [
       "  userId Jacard_Similarity\n",
       "4 375    0.3049645        \n",
       "2  82    0.2527473        \n",
       "3 266    0.2216216        \n",
       "5 568    0.2105263        \n",
       "1  50    0.2009804        "
      ]
     },
     "metadata": {},
     "output_type": "display_data"
    }
   ],
   "source": [
    "merged <- merge(jacard,utility_matrix)\n",
    "merged <- merged[order(-merged$Jacard_Similarity),]\n",
    "merged"
   ]
  },
  {
   "cell_type": "code",
   "execution_count": 68,
   "metadata": {},
   "outputs": [],
   "source": [
    "for (l in labels){\n",
    "    temp <- c()\n",
    "    index <- 1\n",
    "    for (u in utility_matrix$userId){\n",
    "        if(u == user_Id & l %in% test_Ids){\n",
    "            temp[[index]] <- NA\n",
    "        }\n",
    "        else{\n",
    "            selection <- filter(df.ratings, userId == u & movieId == l)\n",
    "            if(nrow(selection) == 1){\n",
    "                temp[[index]] <- selection$rating\n",
    "            }\n",
    "            else{\n",
    "                temp[[index]] <- NA\n",
    "            }\n",
    "        }\n",
    "        index <- index + 1\n",
    "    }\n",
    "    utility_matrix[paste(get('l'))] <- temp\n",
    "}"
   ]
  },
  {
   "cell_type": "code",
   "execution_count": 69,
   "metadata": {
    "scrolled": true
   },
   "outputs": [
    {
     "data": {
      "text/html": [
       "<table>\n",
       "<thead><tr><th scope=col>userId</th><th scope=col>10</th><th scope=col>34</th><th scope=col>47</th><th scope=col>110</th><th scope=col>150</th><th scope=col>153</th><th scope=col>161</th><th scope=col>165</th><th scope=col>185</th><th scope=col>...</th><th scope=col>380</th><th scope=col>434</th><th scope=col>454</th><th scope=col>457</th><th scope=col>480</th><th scope=col>588</th><th scope=col>590</th><th scope=col>592</th><th scope=col>593</th><th scope=col>595</th></tr></thead>\n",
       "<tbody>\n",
       "\t<tr><td>375</td><td> 4 </td><td>NA </td><td>NA </td><td> 3 </td><td> 5 </td><td>NA </td><td>NA </td><td> 3 </td><td>NA </td><td>...</td><td> 4 </td><td>3  </td><td> 5 </td><td>4  </td><td> 4 </td><td> 1 </td><td> 3 </td><td> 4 </td><td> 5 </td><td> 1 </td></tr>\n",
       "\t<tr><td>568</td><td> 4 </td><td>NA </td><td> 5 </td><td>NA </td><td> 3 </td><td> 5 </td><td> 4 </td><td> 4 </td><td>NA </td><td>...</td><td> 5 </td><td>5  </td><td>NA </td><td>5  </td><td> 5 </td><td> 4 </td><td> 2 </td><td> 5 </td><td> 5 </td><td> 4 </td></tr>\n",
       "\t<tr><td> 50</td><td> 4 </td><td>NA </td><td> 3 </td><td> 4 </td><td> 3 </td><td>NA </td><td> 4 </td><td> 4 </td><td> 3 </td><td>...</td><td> 3 </td><td>3  </td><td> 3 </td><td>3  </td><td> 4 </td><td>NA </td><td> 3 </td><td>NA </td><td>NA </td><td>NA </td></tr>\n",
       "\t<tr><td>266</td><td>NA </td><td> 3 </td><td>NA </td><td>NA </td><td> 5 </td><td>NA </td><td>NA </td><td>NA </td><td> 3 </td><td>...</td><td> 3 </td><td>2  </td><td> 3 </td><td>5  </td><td> 4 </td><td> 3 </td><td> 5 </td><td> 3 </td><td> 4 </td><td> 3 </td></tr>\n",
       "\t<tr><td> 82</td><td> 3 </td><td> 5 </td><td> 5 </td><td> 5 </td><td> 4 </td><td> 3 </td><td>NA </td><td> 3 </td><td>NA </td><td>...</td><td> 3 </td><td>3  </td><td> 3 </td><td>3  </td><td>NA </td><td> 4 </td><td> 4 </td><td> 3 </td><td> 4 </td><td> 5 </td></tr>\n",
       "\t<tr><td>191</td><td> 2 </td><td> 2 </td><td> 3 </td><td> 3 </td><td>NA </td><td> 2 </td><td> 4 </td><td> 3 </td><td> 3 </td><td>...</td><td>NA </td><td>2  </td><td> 3 </td><td>4  </td><td> 3 </td><td> 2 </td><td>NA </td><td> 2 </td><td> 4 </td><td> 2 </td></tr>\n",
       "</tbody>\n",
       "</table>\n"
      ],
      "text/latex": [
       "\\begin{tabular}{r|llllllllllllllllllllllllllllll}\n",
       " userId & 10 & 34 & 47 & 110 & 150 & 153 & 161 & 165 & 185 & ... & 380 & 434 & 454 & 457 & 480 & 588 & 590 & 592 & 593 & 595\\\\\n",
       "\\hline\n",
       "\t 375 &  4  & NA  & NA  &  3  &  5  & NA  & NA  &  3  & NA  & ... &  4  & 3   &  5  & 4   &  4  &  1  &  3  &  4  &  5  &  1 \\\\\n",
       "\t 568 &  4  & NA  &  5  & NA  &  3  &  5  &  4  &  4  & NA  & ... &  5  & 5   & NA  & 5   &  5  &  4  &  2  &  5  &  5  &  4 \\\\\n",
       "\t  50 &  4  & NA  &  3  &  4  &  3  & NA  &  4  &  4  &  3  & ... &  3  & 3   &  3  & 3   &  4  & NA  &  3  & NA  & NA  & NA \\\\\n",
       "\t 266 & NA  &  3  & NA  & NA  &  5  & NA  & NA  & NA  &  3  & ... &  3  & 2   &  3  & 5   &  4  &  3  &  5  &  3  &  4  &  3 \\\\\n",
       "\t  82 &  3  &  5  &  5  &  5  &  4  &  3  & NA  &  3  & NA  & ... &  3  & 3   &  3  & 3   & NA  &  4  &  4  &  3  &  4  &  5 \\\\\n",
       "\t 191 &  2  &  2  &  3  &  3  & NA  &  2  &  4  &  3  &  3  & ... & NA  & 2   &  3  & 4   &  3  &  2  & NA  &  2  &  4  &  2 \\\\\n",
       "\\end{tabular}\n"
      ],
      "text/markdown": [
       "\n",
       "| userId | 10 | 34 | 47 | 110 | 150 | 153 | 161 | 165 | 185 | ... | 380 | 434 | 454 | 457 | 480 | 588 | 590 | 592 | 593 | 595 |\n",
       "|---|---|---|---|---|---|---|---|---|---|---|---|---|---|---|---|---|---|---|---|---|\n",
       "| 375 |  4  | NA  | NA  |  3  |  5  | NA  | NA  |  3  | NA  | ... |  4  | 3   |  5  | 4   |  4  |  1  |  3  |  4  |  5  |  1  |\n",
       "| 568 |  4  | NA  |  5  | NA  |  3  |  5  |  4  |  4  | NA  | ... |  5  | 5   | NA  | 5   |  5  |  4  |  2  |  5  |  5  |  4  |\n",
       "|  50 |  4  | NA  |  3  |  4  |  3  | NA  |  4  |  4  |  3  | ... |  3  | 3   |  3  | 3   |  4  | NA  |  3  | NA  | NA  | NA  |\n",
       "| 266 | NA  |  3  | NA  | NA  |  5  | NA  | NA  | NA  |  3  | ... |  3  | 2   |  3  | 5   |  4  |  3  |  5  |  3  |  4  |  3  |\n",
       "|  82 |  3  |  5  |  5  |  5  |  4  |  3  | NA  |  3  | NA  | ... |  3  | 3   |  3  | 3   | NA  |  4  |  4  |  3  |  4  |  5  |\n",
       "| 191 |  2  |  2  |  3  |  3  | NA  |  2  |  4  |  3  |  3  | ... | NA  | 2   |  3  | 4   |  3  |  2  | NA  |  2  |  4  |  2  |\n",
       "\n"
      ],
      "text/plain": [
       "  userId 10 34 47 110 150 153 161 165 185 ... 380 434 454 457 480 588 590 592\n",
       "1 375     4 NA NA  3   5  NA  NA   3  NA  ...  4  3    5  4    4   1   3   4 \n",
       "2 568     4 NA  5 NA   3   5   4   4  NA  ...  5  5   NA  5    5   4   2   5 \n",
       "3  50     4 NA  3  4   3  NA   4   4   3  ...  3  3    3  3    4  NA   3  NA \n",
       "4 266    NA  3 NA NA   5  NA  NA  NA   3  ...  3  2    3  5    4   3   5   3 \n",
       "5  82     3  5  5  5   4   3  NA   3  NA  ...  3  3    3  3   NA   4   4   3 \n",
       "6 191     2  2  3  3  NA   2   4   3   3  ... NA  2    3  4    3   2  NA   2 \n",
       "  593 595\n",
       "1  5   1 \n",
       "2  5   4 \n",
       "3 NA  NA \n",
       "4  4   3 \n",
       "5  4   5 \n",
       "6  4   2 "
      ]
     },
     "metadata": {},
     "output_type": "display_data"
    }
   ],
   "source": [
    "utility_matrix"
   ]
  },
  {
   "cell_type": "code",
   "execution_count": 70,
   "metadata": {},
   "outputs": [],
   "source": [
    "test <- data.frame(test_Ids)\n",
    "ratings <- c()\n",
    "index <- 1\n",
    "neighborhood <- 3\n",
    "for (t in test_Ids){\n",
    "    sim_sum <- 0\n",
    "    rating_sum <- 0\n",
    "    for (user in 1:neighborhood){\n",
    "        sim_sum <- sim_sum + merged[user, ]$Jacard_Similarity\n",
    "        rating_sum <- rating_sum + merged[user, ]$Jacard_Similarity * filter(df.ratings, userId == merged[user, ]$userId & movieId == t)$rating\n",
    "    }\n",
    "    ratings[[index]] <- rating_sum/sim_sum\n",
    "    index <- index + 1\n",
    "}\n",
    "test$ratings <- ratings"
   ]
  },
  {
   "cell_type": "code",
   "execution_count": 71,
   "metadata": {},
   "outputs": [
    {
     "data": {
      "text/html": [
       "<table>\n",
       "<thead><tr><th scope=col>test_Ids</th><th scope=col>ratings</th></tr></thead>\n",
       "<tbody>\n",
       "\t<tr><td>150     </td><td>4.675688</td></tr>\n",
       "\t<tr><td>296     </td><td>4.039939</td></tr>\n",
       "\t<tr><td>380     </td><td>3.391315</td></tr>\n",
       "\t<tr><td>590     </td><td>3.893059</td></tr>\n",
       "</tbody>\n",
       "</table>\n"
      ],
      "text/latex": [
       "\\begin{tabular}{r|ll}\n",
       " test\\_Ids & ratings\\\\\n",
       "\\hline\n",
       "\t 150      & 4.675688\\\\\n",
       "\t 296      & 4.039939\\\\\n",
       "\t 380      & 3.391315\\\\\n",
       "\t 590      & 3.893059\\\\\n",
       "\\end{tabular}\n"
      ],
      "text/markdown": [
       "\n",
       "| test_Ids | ratings |\n",
       "|---|---|\n",
       "| 150      | 4.675688 |\n",
       "| 296      | 4.039939 |\n",
       "| 380      | 3.391315 |\n",
       "| 590      | 3.893059 |\n",
       "\n"
      ],
      "text/plain": [
       "  test_Ids ratings \n",
       "1 150      4.675688\n",
       "2 296      4.039939\n",
       "3 380      3.391315\n",
       "4 590      3.893059"
      ]
     },
     "metadata": {},
     "output_type": "display_data"
    }
   ],
   "source": [
    "test"
   ]
  },
  {
   "cell_type": "code",
   "execution_count": 72,
   "metadata": {},
   "outputs": [
    {
     "name": "stdout",
     "output_type": "stream",
     "text": [
      "User ID 191, 5 random user IDs:\n",
      "\n",
      "375 568 50 266 82\n",
      "\n",
      "Using user-user similarity, User ID 191 will rate the movies as follows:\n",
      "\n",
      "150: 4.6756878378368\n",
      "296: 4.03993887596759\n",
      "380: 3.39131455164118\n",
      "590: 3.89305873455443\n",
      "RSME: 0.621054532360119\n"
     ]
    }
   ],
   "source": [
    "cat(sprintf('User ID %s, %s random user IDs:\\n\\n',user_Id,n))\n",
    "cat(sprintf('%s',random_sample))\n",
    "cat(sprintf('\\n\\n'))\n",
    "cat(sprintf('Using user-user similarity, User ID %s will rate the movies as follows:\\n\\n',user_Id))\n",
    "for (t in 1:nrow(test)){\n",
    "    cat(sprintf('%s: %s\\n',test[t,]$test_Ids,test[t,]$ratings))\n",
    "}\n",
    "RSME <- 0\n",
    "for (i in 1:nrow(test)){\n",
    "    RSME <- (test[i,]$ratings - filter(df.ratings, userId == user_Id & movieId == test[i,]$test_Ids)$rating)**2 + RSME\n",
    "}\n",
    "RSME <- sqrt(RSME/nrow(test))\n",
    "cat(sprintf('RSME: %s\\n',RSME))"
   ]
  },
  {
   "cell_type": "markdown",
   "metadata": {},
   "source": [
    "### Part 2.3-B"
   ]
  },
  {
   "cell_type": "code",
   "execution_count": 73,
   "metadata": {},
   "outputs": [],
   "source": [
    "n = 5\n",
    "#set.seed(seed)\n",
    "random_sample <- sample(jacard$userId, n)\n",
    "user_IDs <- random_sample"
   ]
  },
  {
   "cell_type": "markdown",
   "metadata": {},
   "source": [
    "Creating Dimensions of the Utility Matrix"
   ]
  },
  {
   "cell_type": "code",
   "execution_count": 74,
   "metadata": {},
   "outputs": [],
   "source": [
    "user_IDs[[6]] <- user_Id"
   ]
  },
  {
   "cell_type": "code",
   "execution_count": 75,
   "metadata": {},
   "outputs": [],
   "source": [
    "merged <- filter(df.ratings, userId %in% random_sample)"
   ]
  },
  {
   "cell_type": "code",
   "execution_count": 76,
   "metadata": {},
   "outputs": [
    {
     "data": {
      "text/html": [
       "29"
      ],
      "text/latex": [
       "29"
      ],
      "text/markdown": [
       "29"
      ],
      "text/plain": [
       "[1] 29"
      ]
     },
     "metadata": {},
     "output_type": "display_data"
    }
   ],
   "source": [
    "labels <- intersect(movies,merged$movieId)\n",
    "length(labels)"
   ]
  },
  {
   "cell_type": "code",
   "execution_count": 77,
   "metadata": {},
   "outputs": [
    {
     "data": {
      "text/html": [
       "29"
      ],
      "text/latex": [
       "29"
      ],
      "text/markdown": [
       "29"
      ],
      "text/plain": [
       "[1] 29"
      ]
     },
     "metadata": {},
     "output_type": "display_data"
    }
   ],
   "source": [
    "# making labels optimal length\n",
    "labels <- movies\n",
    "length(labels)"
   ]
  },
  {
   "cell_type": "code",
   "execution_count": 78,
   "metadata": {},
   "outputs": [],
   "source": [
    "utility_matrix <- data.frame(movieId = labels)"
   ]
  },
  {
   "cell_type": "markdown",
   "metadata": {},
   "source": [
    "Setting NA to test movies and intializing utility matrix"
   ]
  },
  {
   "cell_type": "code",
   "execution_count": 79,
   "metadata": {},
   "outputs": [],
   "source": [
    "for (l in user_IDs){\n",
    "    temp <- c()\n",
    "    index <- 1\n",
    "    for (u in utility_matrix$movieId){\n",
    "        if(l == user_Id & u %in% test_Ids){\n",
    "            temp[[index]] <- NA\n",
    "        }\n",
    "        else{\n",
    "            selection <- filter(df.ratings, userId == l & movieId == u)\n",
    "            if(nrow(selection) == 1){\n",
    "                temp[[index]] <- selection$rating\n",
    "            }\n",
    "            else{\n",
    "                temp[[index]] <- NA\n",
    "            }\n",
    "        }\n",
    "        index <- index + 1\n",
    "    }\n",
    "    utility_matrix[paste(get('l'))] <- temp\n",
    "}"
   ]
  },
  {
   "cell_type": "code",
   "execution_count": 80,
   "metadata": {
    "scrolled": false
   },
   "outputs": [
    {
     "data": {
      "text/html": [
       "<table>\n",
       "<thead><tr><th scope=col>movieId</th><th scope=col>568</th><th scope=col>375</th><th scope=col>317</th><th scope=col>556</th><th scope=col>82</th><th scope=col>191</th></tr></thead>\n",
       "<tbody>\n",
       "\t<tr><td> 10</td><td> 4 </td><td> 4 </td><td>NA </td><td>NA </td><td> 3 </td><td> 2 </td></tr>\n",
       "\t<tr><td> 34</td><td>NA </td><td>NA </td><td>NA </td><td>NA </td><td> 5 </td><td> 2 </td></tr>\n",
       "\t<tr><td> 47</td><td> 5 </td><td>NA </td><td>NA </td><td>NA </td><td> 5 </td><td> 3 </td></tr>\n",
       "\t<tr><td>110</td><td>NA </td><td> 3 </td><td>NA </td><td>NA </td><td> 5 </td><td> 3 </td></tr>\n",
       "\t<tr><td>150</td><td> 3 </td><td> 5 </td><td> 4 </td><td> 5 </td><td> 4 </td><td>NA </td></tr>\n",
       "\t<tr><td>153</td><td> 5 </td><td>NA </td><td> 2 </td><td>NA </td><td> 3 </td><td> 2 </td></tr>\n",
       "\t<tr><td>161</td><td> 4 </td><td>NA </td><td>NA </td><td> 5 </td><td>NA </td><td> 4 </td></tr>\n",
       "\t<tr><td>165</td><td> 4 </td><td> 3 </td><td> 4 </td><td> 5 </td><td> 3 </td><td> 3 </td></tr>\n",
       "\t<tr><td>185</td><td>NA </td><td>NA </td><td> 4 </td><td>NA </td><td>NA </td><td> 3 </td></tr>\n",
       "\t<tr><td>208</td><td>NA </td><td>NA </td><td> 4 </td><td> 4 </td><td> 3 </td><td> 3 </td></tr>\n",
       "\t<tr><td>231</td><td> 3 </td><td> 1 </td><td> 3 </td><td> 3 </td><td> 4 </td><td> 2 </td></tr>\n",
       "\t<tr><td>292</td><td> 4 </td><td>NA </td><td> 3 </td><td> 5 </td><td> 3 </td><td> 2 </td></tr>\n",
       "\t<tr><td>296</td><td> 4 </td><td> 4 </td><td> 1 </td><td> 3 </td><td> 5 </td><td>NA </td></tr>\n",
       "\t<tr><td>300</td><td> 4 </td><td>NA </td><td>NA </td><td>NA </td><td> 4 </td><td> 4 </td></tr>\n",
       "\t<tr><td>318</td><td> 5 </td><td>NA </td><td> 4 </td><td> 5 </td><td> 5 </td><td> 5 </td></tr>\n",
       "\t<tr><td>339</td><td>NA </td><td>NA </td><td>NA </td><td>NA </td><td> 4 </td><td> 4 </td></tr>\n",
       "\t<tr><td>344</td><td> 3 </td><td> 2 </td><td> 2 </td><td> 4 </td><td> 3 </td><td> 1 </td></tr>\n",
       "\t<tr><td>349</td><td> 5 </td><td> 5 </td><td> 3 </td><td> 5 </td><td>NA </td><td> 3 </td></tr>\n",
       "\t<tr><td>356</td><td> 1 </td><td> 4 </td><td> 4 </td><td>NA </td><td> 5 </td><td> 4 </td></tr>\n",
       "\t<tr><td>380</td><td> 5 </td><td> 4 </td><td> 4 </td><td> 4 </td><td> 3 </td><td>NA </td></tr>\n",
       "\t<tr><td>434</td><td> 5 </td><td> 3 </td><td>NA </td><td> 4 </td><td> 3 </td><td> 2 </td></tr>\n",
       "\t<tr><td>454</td><td>NA </td><td> 5 </td><td> 4 </td><td> 5 </td><td> 3 </td><td> 3 </td></tr>\n",
       "\t<tr><td>457</td><td> 5 </td><td> 4 </td><td> 5 </td><td> 5 </td><td> 3 </td><td> 4 </td></tr>\n",
       "\t<tr><td>480</td><td> 5 </td><td> 4 </td><td> 4 </td><td> 5 </td><td>NA </td><td> 3 </td></tr>\n",
       "\t<tr><td>588</td><td> 4 </td><td> 1 </td><td> 3 </td><td>NA </td><td> 4 </td><td> 2 </td></tr>\n",
       "\t<tr><td>590</td><td> 2 </td><td> 3 </td><td> 3 </td><td> 5 </td><td> 4 </td><td>NA </td></tr>\n",
       "\t<tr><td>592</td><td> 5 </td><td> 4 </td><td> 3 </td><td> 3 </td><td> 3 </td><td> 2 </td></tr>\n",
       "\t<tr><td>593</td><td> 5 </td><td> 5 </td><td>NA </td><td> 5 </td><td> 4 </td><td> 4 </td></tr>\n",
       "\t<tr><td>595</td><td> 4 </td><td> 1 </td><td> 3 </td><td>NA </td><td> 5 </td><td> 2 </td></tr>\n",
       "</tbody>\n",
       "</table>\n"
      ],
      "text/latex": [
       "\\begin{tabular}{r|lllllll}\n",
       " movieId & 568 & 375 & 317 & 556 & 82 & 191\\\\\n",
       "\\hline\n",
       "\t  10 &  4  &  4  & NA  & NA  &  3  &  2 \\\\\n",
       "\t  34 & NA  & NA  & NA  & NA  &  5  &  2 \\\\\n",
       "\t  47 &  5  & NA  & NA  & NA  &  5  &  3 \\\\\n",
       "\t 110 & NA  &  3  & NA  & NA  &  5  &  3 \\\\\n",
       "\t 150 &  3  &  5  &  4  &  5  &  4  & NA \\\\\n",
       "\t 153 &  5  & NA  &  2  & NA  &  3  &  2 \\\\\n",
       "\t 161 &  4  & NA  & NA  &  5  & NA  &  4 \\\\\n",
       "\t 165 &  4  &  3  &  4  &  5  &  3  &  3 \\\\\n",
       "\t 185 & NA  & NA  &  4  & NA  & NA  &  3 \\\\\n",
       "\t 208 & NA  & NA  &  4  &  4  &  3  &  3 \\\\\n",
       "\t 231 &  3  &  1  &  3  &  3  &  4  &  2 \\\\\n",
       "\t 292 &  4  & NA  &  3  &  5  &  3  &  2 \\\\\n",
       "\t 296 &  4  &  4  &  1  &  3  &  5  & NA \\\\\n",
       "\t 300 &  4  & NA  & NA  & NA  &  4  &  4 \\\\\n",
       "\t 318 &  5  & NA  &  4  &  5  &  5  &  5 \\\\\n",
       "\t 339 & NA  & NA  & NA  & NA  &  4  &  4 \\\\\n",
       "\t 344 &  3  &  2  &  2  &  4  &  3  &  1 \\\\\n",
       "\t 349 &  5  &  5  &  3  &  5  & NA  &  3 \\\\\n",
       "\t 356 &  1  &  4  &  4  & NA  &  5  &  4 \\\\\n",
       "\t 380 &  5  &  4  &  4  &  4  &  3  & NA \\\\\n",
       "\t 434 &  5  &  3  & NA  &  4  &  3  &  2 \\\\\n",
       "\t 454 & NA  &  5  &  4  &  5  &  3  &  3 \\\\\n",
       "\t 457 &  5  &  4  &  5  &  5  &  3  &  4 \\\\\n",
       "\t 480 &  5  &  4  &  4  &  5  & NA  &  3 \\\\\n",
       "\t 588 &  4  &  1  &  3  & NA  &  4  &  2 \\\\\n",
       "\t 590 &  2  &  3  &  3  &  5  &  4  & NA \\\\\n",
       "\t 592 &  5  &  4  &  3  &  3  &  3  &  2 \\\\\n",
       "\t 593 &  5  &  5  & NA  &  5  &  4  &  4 \\\\\n",
       "\t 595 &  4  &  1  &  3  & NA  &  5  &  2 \\\\\n",
       "\\end{tabular}\n"
      ],
      "text/markdown": [
       "\n",
       "| movieId | 568 | 375 | 317 | 556 | 82 | 191 |\n",
       "|---|---|---|---|---|---|---|\n",
       "|  10 |  4  |  4  | NA  | NA  |  3  |  2  |\n",
       "|  34 | NA  | NA  | NA  | NA  |  5  |  2  |\n",
       "|  47 |  5  | NA  | NA  | NA  |  5  |  3  |\n",
       "| 110 | NA  |  3  | NA  | NA  |  5  |  3  |\n",
       "| 150 |  3  |  5  |  4  |  5  |  4  | NA  |\n",
       "| 153 |  5  | NA  |  2  | NA  |  3  |  2  |\n",
       "| 161 |  4  | NA  | NA  |  5  | NA  |  4  |\n",
       "| 165 |  4  |  3  |  4  |  5  |  3  |  3  |\n",
       "| 185 | NA  | NA  |  4  | NA  | NA  |  3  |\n",
       "| 208 | NA  | NA  |  4  |  4  |  3  |  3  |\n",
       "| 231 |  3  |  1  |  3  |  3  |  4  |  2  |\n",
       "| 292 |  4  | NA  |  3  |  5  |  3  |  2  |\n",
       "| 296 |  4  |  4  |  1  |  3  |  5  | NA  |\n",
       "| 300 |  4  | NA  | NA  | NA  |  4  |  4  |\n",
       "| 318 |  5  | NA  |  4  |  5  |  5  |  5  |\n",
       "| 339 | NA  | NA  | NA  | NA  |  4  |  4  |\n",
       "| 344 |  3  |  2  |  2  |  4  |  3  |  1  |\n",
       "| 349 |  5  |  5  |  3  |  5  | NA  |  3  |\n",
       "| 356 |  1  |  4  |  4  | NA  |  5  |  4  |\n",
       "| 380 |  5  |  4  |  4  |  4  |  3  | NA  |\n",
       "| 434 |  5  |  3  | NA  |  4  |  3  |  2  |\n",
       "| 454 | NA  |  5  |  4  |  5  |  3  |  3  |\n",
       "| 457 |  5  |  4  |  5  |  5  |  3  |  4  |\n",
       "| 480 |  5  |  4  |  4  |  5  | NA  |  3  |\n",
       "| 588 |  4  |  1  |  3  | NA  |  4  |  2  |\n",
       "| 590 |  2  |  3  |  3  |  5  |  4  | NA  |\n",
       "| 592 |  5  |  4  |  3  |  3  |  3  |  2  |\n",
       "| 593 |  5  |  5  | NA  |  5  |  4  |  4  |\n",
       "| 595 |  4  |  1  |  3  | NA  |  5  |  2  |\n",
       "\n"
      ],
      "text/plain": [
       "   movieId 568 375 317 556 82 191\n",
       "1   10      4   4  NA  NA   3  2 \n",
       "2   34     NA  NA  NA  NA   5  2 \n",
       "3   47      5  NA  NA  NA   5  3 \n",
       "4  110     NA   3  NA  NA   5  3 \n",
       "5  150      3   5   4   5   4 NA \n",
       "6  153      5  NA   2  NA   3  2 \n",
       "7  161      4  NA  NA   5  NA  4 \n",
       "8  165      4   3   4   5   3  3 \n",
       "9  185     NA  NA   4  NA  NA  3 \n",
       "10 208     NA  NA   4   4   3  3 \n",
       "11 231      3   1   3   3   4  2 \n",
       "12 292      4  NA   3   5   3  2 \n",
       "13 296      4   4   1   3   5 NA \n",
       "14 300      4  NA  NA  NA   4  4 \n",
       "15 318      5  NA   4   5   5  5 \n",
       "16 339     NA  NA  NA  NA   4  4 \n",
       "17 344      3   2   2   4   3  1 \n",
       "18 349      5   5   3   5  NA  3 \n",
       "19 356      1   4   4  NA   5  4 \n",
       "20 380      5   4   4   4   3 NA \n",
       "21 434      5   3  NA   4   3  2 \n",
       "22 454     NA   5   4   5   3  3 \n",
       "23 457      5   4   5   5   3  4 \n",
       "24 480      5   4   4   5  NA  3 \n",
       "25 588      4   1   3  NA   4  2 \n",
       "26 590      2   3   3   5   4 NA \n",
       "27 592      5   4   3   3   3  2 \n",
       "28 593      5   5  NA   5   4  4 \n",
       "29 595      4   1   3  NA   5  2 "
      ]
     },
     "metadata": {},
     "output_type": "display_data"
    }
   ],
   "source": [
    "utility_matrix"
   ]
  },
  {
   "cell_type": "markdown",
   "metadata": {},
   "source": [
    "Calculating means, new vectors, similarities, neighbors, and score"
   ]
  },
  {
   "cell_type": "code",
   "execution_count": 81,
   "metadata": {},
   "outputs": [],
   "source": [
    "test <- data.frame(test_Ids)\n",
    "neighborhood <- 3\n",
    "\n",
    "ratings <- c()\n",
    "index <- 1\n",
    "\n",
    "for (t in test_Ids){\n",
    "    movies <- c()\n",
    "    sim <- c()\n",
    "    index1 <- 1\n",
    "\n",
    "    #main mean calculation\n",
    "    sum <- 0\n",
    "    counter <- 0\n",
    "    data <- filter(utility_matrix, movieId == t)[c(-1)][1,]\n",
    "    for (f in data){\n",
    "        if (!is.na(f)){\n",
    "            sum <- f + sum\n",
    "            counter <- counter + 1\n",
    "        }\n",
    "    }\n",
    "    \n",
    "    if(counter == 0){\n",
    "        mean <- 0\n",
    "    }\n",
    "    else{\n",
    "        mean <- sum/counter\n",
    "    }\n",
    "    vector_a <- data - mean\n",
    "    for (um in utility_matrix$movieId){\n",
    "        if(um != t){\n",
    "            #secondary means calculation\n",
    "            sum <- 0\n",
    "            counter <- 0\n",
    "            data <- filter(utility_matrix, movieId == um)[c(-1)][1,]\n",
    "            \n",
    "            for (f in data){\n",
    "                if (!is.na(f)){\n",
    "                    sum <- f + sum\n",
    "                    counter <- counter + 1\n",
    "                }\n",
    "            }\n",
    "            if(counter == 0){\n",
    "                mean <- 0\n",
    "            }\n",
    "            else{\n",
    "                mean <- sum/counter\n",
    "            }\n",
    "            vector_b <- data - mean\n",
    "            \n",
    "            #cosine similarity\n",
    "            numerator <- 0\n",
    "            denomenator_a <- 0\n",
    "            denomenator_b <- 0\n",
    "            for (d in 1:length(vector_a)){\n",
    "                if(is.na(vector_a[d])){\n",
    "                    vector_a[d] <- 0\n",
    "                }\n",
    "                if(is.na(vector_b[d])){\n",
    "                    vector_b[d] <- 0\n",
    "                }\n",
    "                numerator <- numerator + vector_a[d]*vector_b[d]\n",
    "                denomenator_a <- denomenator_a + vector_a[d]**2\n",
    "                denomenator_b <- denomenator_b + vector_b[d]**2\n",
    "            }\n",
    "            denomenator = sqrt(denomenator_a) * sqrt(denomenator_b)\n",
    "            if(denomenator[[1]] != 0){\n",
    "                sim[[index1]] = numerator[[1]]/denomenator[[1]]\n",
    "                movies[[index1]] = um\n",
    "                index1 <- index1 + 1\n",
    "            }\n",
    "        }\n",
    "    }\n",
    "    \n",
    "    test2 <- data.frame(sim)\n",
    "    test2$movies <- movies\n",
    "    test2 <- test2[order(-test2$sim),]\n",
    "    \n",
    "    sim_sum <- 0\n",
    "    rating_sum <- 0\n",
    "    \n",
    "    #weighted average calculation\n",
    "    for (user in 1:neighborhood){\n",
    "        sim_sum <- sim_sum + test2[user, ]$sim\n",
    "        #rating <- filter(df.ratings, userId == user_Id & movieId == test2[user, ]$movies)\n",
    "        rating <- filter(utility_matrix, movieId == test2[user, ]$movies)[paste(user_Id)]\n",
    "        if(!is.na(rating[[1]])){\n",
    "            rating_sum <- rating_sum + test2[user, ]$sim * rating[[1]]\n",
    "        }\n",
    "        else{\n",
    "            rating_sum <- rating_sum + test2[user, ]$sim * 0\n",
    "        }\n",
    "    }\n",
    "    ratings[[index]] <- rating_sum/sim_sum\n",
    "    index <- index + 1\n",
    "}\n",
    "\n",
    "test$ratings <- ratings"
   ]
  },
  {
   "cell_type": "code",
   "execution_count": 82,
   "metadata": {},
   "outputs": [
    {
     "name": "stdout",
     "output_type": "stream",
     "text": [
      "User ID 191, 5 random user IDs:\n",
      "\n",
      "568 375 317 556 82\n",
      "\n",
      "Using item-item similarity, User ID 191 will rate the movies as follows:\n",
      "\n",
      "150: 2.61743147458308\n",
      "296: 3.64502075382822\n",
      "380: 3.39206633177718\n",
      "590: 2.70604531389424\n",
      "RSME: 1.18062475232798\n"
     ]
    }
   ],
   "source": [
    "cat(sprintf('User ID %s, %s random user IDs:\\n\\n',user_Id,n))\n",
    "cat(sprintf('%s',random_sample))\n",
    "cat(sprintf('\\n\\n'))\n",
    "cat(sprintf('Using item-item similarity, User ID %s will rate the movies as follows:\\n\\n',user_Id))\n",
    "for (t in 1:nrow(test)){\n",
    "    cat(sprintf('%s: %s\\n',test[t,]$test_Ids,test[t,]$ratings))\n",
    "}\n",
    "RSME <- 0\n",
    "for (i in 1:nrow(test)){\n",
    "    RSME <- (test[i,]$ratings - filter(df.ratings, userId == user_Id & movieId == test[i,]$test_Ids)$rating)**2 + RSME\n",
    "}\n",
    "RSME <- sqrt(RSME/nrow(test))\n",
    "cat(sprintf('RSME: %s\\n',RSME))"
   ]
  }
 ],
 "metadata": {
  "kernelspec": {
   "display_name": "R",
   "language": "R",
   "name": "ir"
  },
  "language_info": {
   "codemirror_mode": "r",
   "file_extension": ".r",
   "mimetype": "text/x-r-source",
   "name": "R",
   "pygments_lexer": "r",
   "version": "3.5.2"
  },
  "toc": {
   "base_numbering": 1,
   "nav_menu": {},
   "number_sections": false,
   "sideBar": true,
   "skip_h1_title": false,
   "title_cell": "Table of Contents",
   "title_sidebar": "Contents",
   "toc_cell": false,
   "toc_position": {
    "height": "calc(100% - 180px)",
    "left": "10px",
    "top": "150px",
    "width": "165px"
   },
   "toc_section_display": true,
   "toc_window_display": true
  }
 },
 "nbformat": 4,
 "nbformat_minor": 2
}
