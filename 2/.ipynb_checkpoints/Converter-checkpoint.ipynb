{
 "cells": [
  {
   "cell_type": "code",
   "execution_count": 44,
   "metadata": {},
   "outputs": [],
   "source": [
    "dic = {}\n",
    "products = open(\"products.csv\", \"r\")\n",
    "lst = products.read().split('\\n')\n",
    "for l in lst:\n",
    "    temp = l.split(',')\n",
    "    dic[temp[0]] = temp[1]\n",
    "rfiles = [\"tr-1k.csv\",\"tr-5k.csv\",\"tr-20k.csv\",\"tr-75k.csv\"]\n",
    "wfiles = [\"tr-1k-canonical.csv\",\"tr-5k-canonical.csv\",\"tr-20k-canonical.csv\",\"tr-75k-canonical.csv\"]"
   ]
  },
  {
   "cell_type": "code",
   "execution_count": 45,
   "metadata": {},
   "outputs": [],
   "source": [
    "for f in range(len(rfiles)):\n",
    "    rfile = open(rfiles[f],\"r\")\n",
    "    wfile = open(wfiles[f],\"w\")\n",
    "    lst = rfile.read().split('\\n')\n",
    "    for l in lst:\n",
    "        temp = l.split(',')\n",
    "        string = \"\"\n",
    "        for t in range(len(temp)):\n",
    "            if not t == 0:\n",
    "                string += dic[temp[t].replace(\" \",\"\")] + \",\"\n",
    "        wfile.write(string[:-1]+\"\\n\")"
   ]
  }
 ],
 "metadata": {
  "kernelspec": {
   "display_name": "Python 3",
   "language": "python",
   "name": "python3"
  },
  "language_info": {
   "codemirror_mode": {
    "name": "ipython",
    "version": 3
   },
   "file_extension": ".py",
   "mimetype": "text/x-python",
   "name": "python",
   "nbconvert_exporter": "python",
   "pygments_lexer": "ipython3",
   "version": "3.6.8"
  },
  "toc": {
   "base_numbering": 1,
   "nav_menu": {},
   "number_sections": true,
   "sideBar": true,
   "skip_h1_title": false,
   "title_cell": "Table of Contents",
   "title_sidebar": "Contents",
   "toc_cell": false,
   "toc_position": {},
   "toc_section_display": true,
   "toc_window_display": false
  }
 },
 "nbformat": 4,
 "nbformat_minor": 2
}
