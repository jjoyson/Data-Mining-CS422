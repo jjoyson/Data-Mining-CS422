{
 "cells": [
  {
   "cell_type": "markdown",
   "metadata": {},
   "source": [
    "# CS 422 Section 01\n",
    "<p>Department of Computer Science</p>\n",
    "<p>Illinois Institute of Technology</p>\n",
    "<p>Jithin Joyson</p>\n",
    "<p>Spring 2019: Homework 2</p>"
   ]
  },
  {
   "cell_type": "markdown",
   "metadata": {},
   "source": [
    "## Part 2.1"
   ]
  },
  {
   "cell_type": "code",
   "execution_count": 1,
   "metadata": {},
   "outputs": [
    {
     "name": "stderr",
     "output_type": "stream",
     "text": [
      "Loading required package: lattice\n",
      "Loading required package: ggplot2\n",
      "Loading required package: gplots\n",
      "\n",
      "Attaching package: 'gplots'\n",
      "\n",
      "The following object is masked from 'package:stats':\n",
      "\n",
      "    lowess\n",
      "\n",
      "\n",
      "Attaching package: 'dplyr'\n",
      "\n",
      "The following objects are masked from 'package:stats':\n",
      "\n",
      "    filter, lag\n",
      "\n",
      "The following objects are masked from 'package:base':\n",
      "\n",
      "    intersect, setdiff, setequal, union\n",
      "\n",
      "Loading required package: Matrix\n",
      "\n",
      "Attaching package: 'arules'\n",
      "\n",
      "The following object is masked from 'package:dplyr':\n",
      "\n",
      "    recode\n",
      "\n",
      "The following objects are masked from 'package:base':\n",
      "\n",
      "    abbreviate, write\n",
      "\n",
      "Loading required package: grid\n"
     ]
    }
   ],
   "source": [
    "library(rpart)\n",
    "library(caret)\n",
    "library(rpart.plot)\n",
    "library(ROCR)\n",
    "library('dplyr')\n",
    "library(arules)\n",
    "library(arulesViz)\n",
    "setwd(getwd())"
   ]
  },
  {
   "cell_type": "markdown",
   "metadata": {},
   "source": [
    "### Part 2.1-A"
   ]
  },
  {
   "cell_type": "code",
   "execution_count": 2,
   "metadata": {
    "scrolled": false
   },
   "outputs": [
    {
     "data": {
      "text/html": [
       "<span style=white-space:pre-wrap>'Test observations:  15060'</span>"
      ],
      "text/latex": [
       "'Test observations:  15060'"
      ],
      "text/markdown": [
       "<span style=white-space:pre-wrap>'Test observations:  15060'</span>"
      ],
      "text/plain": [
       "[1] \"Test observations:  15060\""
      ]
     },
     "metadata": {},
     "output_type": "display_data"
    },
    {
     "data": {
      "text/html": [
       "<span style=white-space:pre-wrap>'Train observations:  30161'</span>"
      ],
      "text/latex": [
       "'Train observations:  30161'"
      ],
      "text/markdown": [
       "<span style=white-space:pre-wrap>'Train observations:  30161'</span>"
      ],
      "text/plain": [
       "[1] \"Train observations:  30161\""
      ]
     },
     "metadata": {},
     "output_type": "display_data"
    }
   ],
   "source": [
    "adult_test.df <- read.csv(\"adult-test.csv\", sep = \",\", header = T)\n",
    "adult_train.df <- read.csv(\"adult-train.csv\", sep = \",\", header = T)\n",
    "for (i in names(adult_test.df)){\n",
    "    vec <- which(adult_test.df[i] == \"?\")\n",
    "    vec2 <- which(adult_train.df[i] == \"?\")\n",
    "    if(length(vec)){\n",
    "        adult_test.df <- adult_test.df[-vec,]\n",
    "        adult_train.df <- adult_train.df[-vec2,]\n",
    "    }\n",
    "}\n",
    "paste(\"Test observations: \", nrow(adult_test.df))\n",
    "paste(\"Train observations: \", nrow(adult_train.df))"
   ]
  },
  {
   "cell_type": "markdown",
   "metadata": {},
   "source": [
    "### Part 2.1-B"
   ]
  },
  {
   "cell_type": "code",
   "execution_count": 3,
   "metadata": {},
   "outputs": [],
   "source": [
    "model <- rpart(income ~ ., method=\"class\", data = adult_train.df)"
   ]
  },
  {
   "cell_type": "markdown",
   "metadata": {},
   "source": [
    "#### Part 2.1-B-I"
   ]
  },
  {
   "cell_type": "code",
   "execution_count": 4,
   "metadata": {
    "scrolled": false
   },
   "outputs": [
    {
     "name": "stdout",
     "output_type": "stream",
     "text": [
      "Call:\n",
      "rpart(formula = income ~ ., data = adult_train.df, method = \"class\")\n",
      "  n= 30161 \n",
      "\n",
      "          CP nsplit rel error    xerror        xstd\n",
      "1 0.12999467      0 1.0000000 1.0000000 0.010001793\n",
      "2 0.06419819      2 0.7400107 0.7400107 0.008966969\n",
      "3 0.03729355      3 0.6758125 0.6758125 0.008652716\n",
      "4 0.01000000      4 0.6385189 0.6385189 0.008457392\n",
      "\n",
      "Variable importance\n",
      "  relationship marital_status   capital_gain      education  education_num \n",
      "            24             23             10              9              9 \n",
      "           sex     occupation            age hours_per_week \n",
      "             8              7              5              3 \n",
      "\n",
      "Node number 1: 30161 observations,    complexity param=0.1299947\n",
      "  predicted class=<=50K  expected loss=0.2489307  P(node) =1\n",
      "    class counts: 22653  7508\n",
      "   probabilities: 0.751 0.249 \n",
      "  left son=2 (16292 obs) right son=3 (13869 obs)\n",
      "  Primary splits:\n",
      "      relationship   splits as  RLLLLR, improve=2277.164, (0 missing)\n",
      "      marital_status splits as  LRRLLLL, improve=2244.398, (0 missing)\n",
      "      capital_gain   < 5119   to the left,  improve=1540.825, (0 missing)\n",
      "      education      splits as  LLLLLLLLLRRLRLRL, improve=1193.769, (0 missing)\n",
      "      education_num  < 12.5   to the left,  improve=1193.769, (0 missing)\n",
      "  Surrogate splits:\n",
      "      marital_status splits as  LRRLLLL, agree=0.993, adj=0.984, (0 split)\n",
      "      sex            splits as  LR, agree=0.691, adj=0.328, (0 split)\n",
      "      age            < 33.5   to the left,  agree=0.645, adj=0.229, (0 split)\n",
      "      occupation     splits as  -LLRRRLLLLRRLLR, agree=0.620, adj=0.175, (0 split)\n",
      "      hours_per_week < 43.5   to the left,  agree=0.604, adj=0.138, (0 split)\n",
      "\n",
      "Node number 2: 16292 observations,    complexity param=0.03729355\n",
      "  predicted class=<=50K  expected loss=0.06966609  P(node) =0.5401678\n",
      "    class counts: 15157  1135\n",
      "   probabilities: 0.930 0.070 \n",
      "  left son=4 (15992 obs) right son=5 (300 obs)\n",
      "  Primary splits:\n",
      "      capital_gain   < 7073.5 to the left,  improve=491.8224, (0 missing)\n",
      "      education      splits as  LLLLLLLLLLRLRLRL, improve=142.9961, (0 missing)\n",
      "      education_num  < 13.5   to the left,  improve=142.9961, (0 missing)\n",
      "      occupation     splits as  -LLLRLLLLLRRLLL, improve=117.0150, (0 missing)\n",
      "      hours_per_week < 42.5   to the left,  improve=107.9941, (0 missing)\n",
      "\n",
      "Node number 3: 13869 observations,    complexity param=0.1299947\n",
      "  predicted class=<=50K  expected loss=0.459514  P(node) =0.4598322\n",
      "    class counts:  7496  6373\n",
      "   probabilities: 0.540 0.460 \n",
      "  left son=6 (9719 obs) right son=7 (4150 obs)\n",
      "  Primary splits:\n",
      "      education     splits as  LLLLLLLLLRRLRLRL, improve=900.0575, (0 missing)\n",
      "      education_num < 12.5   to the left,  improve=900.0575, (0 missing)\n",
      "      occupation    splits as  -LRLRLLLLLRRRRL, improve=841.3999, (0 missing)\n",
      "      capital_gain  < 5095.5 to the left,  improve=698.6333, (0 missing)\n",
      "      capital_loss  < 1782.5 to the left,  improve=240.6928, (0 missing)\n",
      "  Surrogate splits:\n",
      "      education_num  < 12.5   to the left,  agree=1.000, adj=1.000, (0 split)\n",
      "      occupation     splits as  -LLLRLLLLLRLLLL, agree=0.792, adj=0.306, (0 split)\n",
      "      capital_gain   < 7493   to the left,  agree=0.717, adj=0.054, (0 split)\n",
      "      native_country splits as  -LLRLLLLLRRLLLLRLLRRLLLRLLLLLRLLLLRRLLLLL, agree=0.709, adj=0.027, (0 split)\n",
      "      capital_loss   < 1894.5 to the left,  agree=0.706, adj=0.018, (0 split)\n",
      "\n",
      "Node number 4: 15992 observations\n",
      "  predicted class=<=50K  expected loss=0.05283892  P(node) =0.5302211\n",
      "    class counts: 15147   845\n",
      "   probabilities: 0.947 0.053 \n",
      "\n",
      "Node number 5: 300 observations\n",
      "  predicted class=>50K   expected loss=0.03333333  P(node) =0.00994662\n",
      "    class counts:    10   290\n",
      "   probabilities: 0.033 0.967 \n",
      "\n",
      "Node number 6: 9719 observations,    complexity param=0.06419819\n",
      "  predicted class=<=50K  expected loss=0.3418047  P(node) =0.3222373\n",
      "    class counts:  6397  3322\n",
      "   probabilities: 0.658 0.342 \n",
      "  left son=12 (9219 obs) right son=13 (500 obs)\n",
      "  Primary splits:\n",
      "      capital_gain  < 5095.5 to the left,  improve=432.0786, (0 missing)\n",
      "      occupation    splits as  -RLLRLLLLLRRRRL, improve=230.8277, (0 missing)\n",
      "      education     splits as  LLLLLLLRR--R-L-R, improve=164.3625, (0 missing)\n",
      "      education_num < 8.5    to the left,  improve=164.3625, (0 missing)\n",
      "      age           < 35.5   to the left,  improve=131.1760, (0 missing)\n",
      "\n",
      "Node number 7: 4150 observations\n",
      "  predicted class=>50K   expected loss=0.2648193  P(node) =0.1375949\n",
      "    class counts:  1099  3051\n",
      "   probabilities: 0.265 0.735 \n",
      "\n",
      "Node number 12: 9219 observations\n",
      "  predicted class=<=50K  expected loss=0.3070832  P(node) =0.3056596\n",
      "    class counts:  6388  2831\n",
      "   probabilities: 0.693 0.307 \n",
      "\n",
      "Node number 13: 500 observations\n",
      "  predicted class=>50K   expected loss=0.018  P(node) =0.0165777\n",
      "    class counts:     9   491\n",
      "   probabilities: 0.018 0.982 \n",
      "\n"
     ]
    }
   ],
   "source": [
    "model.sum <- summary(model)"
   ]
  },
  {
   "cell_type": "code",
   "execution_count": 5,
   "metadata": {},
   "outputs": [
    {
     "data": {
      "text/html": [
       "<strong>$variable.importance</strong> = <dl class=dl-horizontal>\n",
       "\t<dt>relationship</dt>\n",
       "\t\t<dd>2277.16381647986</dd>\n",
       "\t<dt>marital_status</dt>\n",
       "\t\t<dd>2241.53438766913</dd>\n",
       "\t<dt>capital_gain</dt>\n",
       "\t\t<dd>972.699263756659</dd>\n",
       "\t<dt>education</dt>\n",
       "\t\t<dd>900.057529440627</dd>\n",
       "\t<dt>education_num</dt>\n",
       "\t\t<dd>900.057529440627</dd>\n",
       "\t<dt>sex</dt>\n",
       "\t\t<dd>746.411904947542</dd>\n",
       "\t<dt>occupation</dt>\n",
       "\t\t<dd>672.945500210263</dd>\n",
       "\t<dt>age</dt>\n",
       "\t\t<dd>520.485204285902</dd>\n",
       "\t<dt>hours_per_week</dt>\n",
       "\t\t<dd>313.933031733326</dd>\n",
       "\t<dt>native_country</dt>\n",
       "\t\t<dd>24.2907092282771</dd>\n",
       "\t<dt>capital_loss</dt>\n",
       "\t\t<dd>16.0492185972543</dd>\n",
       "</dl>\n"
      ],
      "text/latex": [
       "\\textbf{\\$variable.importance} = \\begin{description*}\n",
       "\\item[relationship] 2277.16381647986\n",
       "\\item[marital\\textbackslash{}\\_status] 2241.53438766913\n",
       "\\item[capital\\textbackslash{}\\_gain] 972.699263756659\n",
       "\\item[education] 900.057529440627\n",
       "\\item[education\\textbackslash{}\\_num] 900.057529440627\n",
       "\\item[sex] 746.411904947542\n",
       "\\item[occupation] 672.945500210263\n",
       "\\item[age] 520.485204285902\n",
       "\\item[hours\\textbackslash{}\\_per\\textbackslash{}\\_week] 313.933031733326\n",
       "\\item[native\\textbackslash{}\\_country] 24.2907092282771\n",
       "\\item[capital\\textbackslash{}\\_loss] 16.0492185972543\n",
       "\\end{description*}\n"
      ],
      "text/markdown": [
       "**$variable.importance** = relationship\n",
       ":   2277.16381647986marital_status\n",
       ":   2241.53438766913capital_gain\n",
       ":   972.699263756659education\n",
       ":   900.057529440627education_num\n",
       ":   900.057529440627sex\n",
       ":   746.411904947542occupation\n",
       ":   672.945500210263age\n",
       ":   520.485204285902hours_per_week\n",
       ":   313.933031733326native_country\n",
       ":   24.2907092282771capital_loss\n",
       ":   16.0492185972543\n",
       "\n"
      ],
      "text/plain": [
       "$variable.importance\n",
       "  relationship marital_status   capital_gain      education  education_num \n",
       "    2277.16382     2241.53439      972.69926      900.05753      900.05753 \n",
       "           sex     occupation            age hours_per_week native_country \n",
       "     746.41190      672.94550      520.48520      313.93303       24.29071 \n",
       "  capital_loss \n",
       "      16.04922 \n"
      ]
     },
     "metadata": {},
     "output_type": "display_data"
    }
   ],
   "source": [
    "model.sum['variable.importance']"
   ]
  },
  {
   "cell_type": "markdown",
   "metadata": {},
   "source": [
    "The three most important predictors are Relationship, Marital Status and Capital Gain"
   ]
  },
  {
   "cell_type": "markdown",
   "metadata": {},
   "source": [
    "#### Part 2.1-B-II"
   ]
  },
  {
   "cell_type": "code",
   "execution_count": 6,
   "metadata": {},
   "outputs": [
    {
     "data": {
      "image/png": "[encoded data removed]",
      "text/plain": [
       "Plot with title \"Rpart on Income data (Full Tree)\""
      ]
     },
     "metadata": {},
     "output_type": "display_data"
    }
   ],
   "source": [
    "rpart.plot(model, extra=104, fallen.leaves = T, type=4, main=\"Rpart on Income data (Full Tree)\")"
   ]
  },
  {
   "cell_type": "markdown",
   "metadata": {},
   "source": [
    "The first split is on Relationship"
   ]
  },
  {
   "cell_type": "markdown",
   "metadata": {},
   "source": [
    "According to the summary, node 1's predicted class is <= 50k"
   ]
  },
  {
   "cell_type": "markdown",
   "metadata": {},
   "source": [
    "The distribution of observations between the <=50K and >50K classes at first node are:\n",
    "\n",
    "    Class          <= 50K       >50K\n",
    "               \n",
    "    Class Counts    22653       7508\n",
    "\n",
    "    Probabilities   0.751       0.249\n",
    "\n",
    "    Distribution     75%         25%"
   ]
  },
  {
   "cell_type": "markdown",
   "metadata": {},
   "source": [
    "### Part 2.1-C"
   ]
  },
  {
   "cell_type": "code",
   "execution_count": 7,
   "metadata": {},
   "outputs": [
    {
     "data": {
      "text/plain": [
       "Confusion Matrix and Statistics\n",
       "\n",
       "          Reference\n",
       "Prediction <=50K  >50K\n",
       "     <=50K 10772  1837\n",
       "     >50K    588  1863\n",
       "                                         \n",
       "               Accuracy : 0.839          \n",
       "                 95% CI : (0.833, 0.8448)\n",
       "    No Information Rate : 0.7543         \n",
       "    P-Value [Acc > NIR] : < 2.2e-16      \n",
       "                                         \n",
       "                  Kappa : 0.5098         \n",
       " Mcnemar's Test P-Value : < 2.2e-16      \n",
       "                                         \n",
       "            Sensitivity : 0.9482         \n",
       "            Specificity : 0.5035         \n",
       "         Pos Pred Value : 0.8543         \n",
       "         Neg Pred Value : 0.7601         \n",
       "             Prevalence : 0.7543         \n",
       "         Detection Rate : 0.7153         \n",
       "   Detection Prevalence : 0.8373         \n",
       "      Balanced Accuracy : 0.7259         \n",
       "                                         \n",
       "       'Positive' Class : <=50K          \n",
       "                                         "
      ]
     },
     "metadata": {},
     "output_type": "display_data"
    }
   ],
   "source": [
    "pred <- predict(model, adult_test.df, type=\"class\")\n",
    "conf <- confusionMatrix(pred, as.factor(adult_test.df[, ncol(adult_test.df)]))\n",
    "conf"
   ]
  },
  {
   "cell_type": "markdown",
   "metadata": {},
   "source": [
    "#### Part 2.1-C-I"
   ]
  },
  {
   "cell_type": "code",
   "execution_count": 8,
   "metadata": {},
   "outputs": [
    {
     "name": "stdout",
     "output_type": "stream",
     "text": [
      "List of 6\n",
      " $ positive: chr \"<=50K\"\n",
      " $ table   : 'table' int [1:2, 1:2] 10772 588 1837 1863\n",
      "  ..- attr(*, \"dimnames\")=List of 2\n",
      "  .. ..$ Prediction: chr [1:2] \"<=50K\" \">50K\"\n",
      "  .. ..$ Reference : chr [1:2] \"<=50K\" \">50K\"\n",
      " $ overall : Named num [1:7] 0.839 0.51 0.833 0.845 0.754 ...\n",
      "  ..- attr(*, \"names\")= chr [1:7] \"Accuracy\" \"Kappa\" \"AccuracyLower\" \"AccuracyUpper\" ...\n",
      " $ byClass : Named num [1:11] 0.948 0.504 0.854 0.76 0.854 ...\n",
      "  ..- attr(*, \"names\")= chr [1:11] \"Sensitivity\" \"Specificity\" \"Pos Pred Value\" \"Neg Pred Value\" ...\n",
      " $ mode    : chr \"sens_spec\"\n",
      " $ dots    : list()\n",
      " - attr(*, \"class\")= chr \"confusionMatrix\"\n"
     ]
    }
   ],
   "source": [
    "str(conf)"
   ]
  },
  {
   "cell_type": "code",
   "execution_count": 9,
   "metadata": {},
   "outputs": [
    {
     "data": {
      "text/html": [
       "<span style=white-space:pre-wrap>'Balanced Accuracy:  0.726'</span>"
      ],
      "text/latex": [
       "'Balanced Accuracy:  0.726'"
      ],
      "text/markdown": [
       "<span style=white-space:pre-wrap>'Balanced Accuracy:  0.726'</span>"
      ],
      "text/plain": [
       "[1] \"Balanced Accuracy:  0.726\""
      ]
     },
     "metadata": {},
     "output_type": "display_data"
    }
   ],
   "source": [
    "balanced_accuracy <- round(mean(c(conf$byClass[['Sensitivity']],conf$byClass[['Specificity']])), 3)\n",
    "paste(\"Balanced Accuracy: \",balanced_accuracy)"
   ]
  },
  {
   "cell_type": "markdown",
   "metadata": {},
   "source": [
    "#### Part 2.1-C-II"
   ]
  },
  {
   "cell_type": "code",
   "execution_count": 10,
   "metadata": {},
   "outputs": [
    {
     "data": {
      "text/html": [
       "<span style=white-space:pre-wrap>'Balanced Error Rate:  0.274'</span>"
      ],
      "text/latex": [
       "'Balanced Error Rate:  0.274'"
      ],
      "text/markdown": [
       "<span style=white-space:pre-wrap>'Balanced Error Rate:  0.274'</span>"
      ],
      "text/plain": [
       "[1] \"Balanced Error Rate:  0.274\""
      ]
     },
     "metadata": {},
     "output_type": "display_data"
    }
   ],
   "source": [
    "balanced_error_rate = 1 - balanced_accuracy\n",
    "paste(\"Balanced Error Rate: \",balanced_error_rate)"
   ]
  },
  {
   "cell_type": "markdown",
   "metadata": {},
   "source": [
    "#### Part 2.1-C-III"
   ]
  },
  {
   "cell_type": "code",
   "execution_count": 11,
   "metadata": {},
   "outputs": [
    {
     "data": {
      "text/html": [
       "<span style=white-space:pre-wrap>'Sensitivity:  0.948239436619718'</span>"
      ],
      "text/latex": [
       "'Sensitivity:  0.948239436619718'"
      ],
      "text/markdown": [
       "<span style=white-space:pre-wrap>'Sensitivity:  0.948239436619718'</span>"
      ],
      "text/plain": [
       "[1] \"Sensitivity:  0.948239436619718\""
      ]
     },
     "metadata": {},
     "output_type": "display_data"
    },
    {
     "data": {
      "text/html": [
       "<span style=white-space:pre-wrap>'Specificity:  0.503513513513513'</span>"
      ],
      "text/latex": [
       "'Specificity:  0.503513513513513'"
      ],
      "text/markdown": [
       "<span style=white-space:pre-wrap>'Specificity:  0.503513513513513'</span>"
      ],
      "text/plain": [
       "[1] \"Specificity:  0.503513513513513\""
      ]
     },
     "metadata": {},
     "output_type": "display_data"
    }
   ],
   "source": [
    "paste(\"Sensitivity: \",conf$byClass[['Sensitivity']])\n",
    "paste(\"Specificity: \",conf$byClass[['Specificity']])"
   ]
  },
  {
   "cell_type": "markdown",
   "metadata": {},
   "source": [
    "#### Part 2.1-C-IV"
   ]
  },
  {
   "cell_type": "code",
   "execution_count": 12,
   "metadata": {},
   "outputs": [
    {
     "name": "stdout",
     "output_type": "stream",
     "text": [
      "The area under curve (AUC) for this model is  0.843"
     ]
    },
    {
     "data": {
      "image/png": "[encoded data removed]",
      "text/plain": [
       "plot without title"
      ]
     },
     "metadata": {},
     "output_type": "display_data"
    }
   ],
   "source": [
    "pred.rocr <- predict(model, adult_test.df, type=\"prob\")[, 2]\n",
    "f.pred <- prediction(pred.rocr, adult_test.df$income)\n",
    "f.perf <- performance(f.pred, \"tpr\", \"fpr\")\n",
    "plot(f.perf, colorize=T, lwd=3)\n",
    "abline(0,1)\n",
    "auc <- performance(f.pred, measure = \"auc\")\n",
    "cat(paste(\"The area under curve (AUC) for this model is \", round(auc@y.values[[1]], 3)))"
   ]
  },
  {
   "cell_type": "markdown",
   "metadata": {},
   "source": [
    "### Part 2.1-D"
   ]
  },
  {
   "cell_type": "code",
   "execution_count": 13,
   "metadata": {},
   "outputs": [
    {
     "name": "stdout",
     "output_type": "stream",
     "text": [
      "\n",
      "Classification tree:\n",
      "rpart(formula = income ~ ., data = adult_train.df, method = \"class\")\n",
      "\n",
      "Variables actually used in tree construction:\n",
      "[1] capital_gain education    relationship\n",
      "\n",
      "Root node error: 7508/30161 = 0.24893\n",
      "\n",
      "n= 30161 \n",
      "\n",
      "        CP nsplit rel error  xerror      xstd\n",
      "1 0.129995      0   1.00000 1.00000 0.0100018\n",
      "2 0.064198      2   0.74001 0.74001 0.0089670\n",
      "3 0.037294      3   0.67581 0.67581 0.0086527\n",
      "4 0.010000      4   0.63852 0.63852 0.0084574\n"
     ]
    }
   ],
   "source": [
    "printcp(model)"
   ]
  },
  {
   "cell_type": "markdown",
   "metadata": {},
   "source": [
    "Looking at the xerror column, the value keeps droping till the the last split so there is no need to prune the tree. Thus, the tree does not benefit from pruning."
   ]
  },
  {
   "cell_type": "markdown",
   "metadata": {},
   "source": [
    "### Part 2.1-E"
   ]
  },
  {
   "cell_type": "code",
   "execution_count": 14,
   "metadata": {},
   "outputs": [],
   "source": [
    "train_less50k <- filter(adult_train.df, income == \">50K\")\n",
    "train_more50k <- filter(adult_train.df, income == \"<=50K\")"
   ]
  },
  {
   "cell_type": "markdown",
   "metadata": {},
   "source": [
    "#### Part 2.1-E-I"
   ]
  },
  {
   "cell_type": "code",
   "execution_count": 15,
   "metadata": {},
   "outputs": [
    {
     "data": {
      "text/html": [
       "<span style=white-space:pre-wrap>'There are  22653  observations in the class &lt;=50K'</span>"
      ],
      "text/latex": [
       "'There are  22653  observations in the class <=50K'"
      ],
      "text/markdown": [
       "<span style=white-space:pre-wrap>'There are  22653  observations in the class &lt;=50K'</span>"
      ],
      "text/plain": [
       "[1] \"There are  22653  observations in the class <=50K\""
      ]
     },
     "metadata": {},
     "output_type": "display_data"
    },
    {
     "data": {
      "text/html": [
       "<span style=white-space:pre-wrap>'There are  7508  observations in the class &gt;50K'</span>"
      ],
      "text/latex": [
       "'There are  7508  observations in the class >50K'"
      ],
      "text/markdown": [
       "<span style=white-space:pre-wrap>'There are  7508  observations in the class &gt;50K'</span>"
      ],
      "text/plain": [
       "[1] \"There are  7508  observations in the class >50K\""
      ]
     },
     "metadata": {},
     "output_type": "display_data"
    }
   ],
   "source": [
    "paste(\"There are \",nrow(train_more50k),\" observations in the class <=50K\")\n",
    "paste(\"There are \",nrow(train_less50k),\" observations in the class >50K\")"
   ]
  },
  {
   "cell_type": "markdown",
   "metadata": {},
   "source": [
    "#### Part 2.1-E-II"
   ]
  },
  {
   "cell_type": "code",
   "execution_count": 16,
   "metadata": {},
   "outputs": [],
   "source": [
    "indicies <- sample(1:nrow(train_more50k), nrow(train_less50k))\n",
    "train_more50k <- train_more50k[indicies, ]\n",
    "new_training_dataset <- rbind (train_more50k, train_less50k)"
   ]
  },
  {
   "cell_type": "markdown",
   "metadata": {},
   "source": [
    "#### Part 2.1-E-III"
   ]
  },
  {
   "cell_type": "code",
   "execution_count": 17,
   "metadata": {},
   "outputs": [],
   "source": [
    "model = rpart(income ~ ., method=\"class\", data = new_training_dataset)\n",
    "pred <- predict(model, adult_test.df, type=\"class\")\n",
    "conf <- confusionMatrix(pred, as.factor(adult_test.df[, ncol(adult_test.df)]))"
   ]
  },
  {
   "cell_type": "markdown",
   "metadata": {},
   "source": [
    "##### Part 2.1-E-III-I"
   ]
  },
  {
   "cell_type": "code",
   "execution_count": 18,
   "metadata": {},
   "outputs": [
    {
     "data": {
      "text/html": [
       "<span style=white-space:pre-wrap>'Balanced Accuracy:  0.805'</span>"
      ],
      "text/latex": [
       "'Balanced Accuracy:  0.805'"
      ],
      "text/markdown": [
       "<span style=white-space:pre-wrap>'Balanced Accuracy:  0.805'</span>"
      ],
      "text/plain": [
       "[1] \"Balanced Accuracy:  0.805\""
      ]
     },
     "metadata": {},
     "output_type": "display_data"
    }
   ],
   "source": [
    "balanced_accuracy <- round(mean(c(conf$byClass[['Sensitivity']],conf$byClass[['Specificity']])), 3)\n",
    "paste(\"Balanced Accuracy: \",balanced_accuracy)"
   ]
  },
  {
   "cell_type": "markdown",
   "metadata": {},
   "source": [
    "##### Part 2.1-E-III-II"
   ]
  },
  {
   "cell_type": "code",
   "execution_count": 19,
   "metadata": {},
   "outputs": [
    {
     "data": {
      "text/html": [
       "<span style=white-space:pre-wrap>'Balanced Error Rate:  0.195'</span>"
      ],
      "text/latex": [
       "'Balanced Error Rate:  0.195'"
      ],
      "text/markdown": [
       "<span style=white-space:pre-wrap>'Balanced Error Rate:  0.195'</span>"
      ],
      "text/plain": [
       "[1] \"Balanced Error Rate:  0.195\""
      ]
     },
     "metadata": {},
     "output_type": "display_data"
    }
   ],
   "source": [
    "balanced_error_rate = 1 - balanced_accuracy\n",
    "paste(\"Balanced Error Rate: \",balanced_error_rate)"
   ]
  },
  {
   "cell_type": "markdown",
   "metadata": {},
   "source": [
    "##### Part 2.1-E-III-III"
   ]
  },
  {
   "cell_type": "code",
   "execution_count": 20,
   "metadata": {},
   "outputs": [
    {
     "data": {
      "text/html": [
       "<span style=white-space:pre-wrap>'Sensitivity:  0.762676056338028'</span>"
      ],
      "text/latex": [
       "'Sensitivity:  0.762676056338028'"
      ],
      "text/markdown": [
       "<span style=white-space:pre-wrap>'Sensitivity:  0.762676056338028'</span>"
      ],
      "text/plain": [
       "[1] \"Sensitivity:  0.762676056338028\""
      ]
     },
     "metadata": {},
     "output_type": "display_data"
    },
    {
     "data": {
      "text/html": [
       "<span style=white-space:pre-wrap>'Specificity:  0.847297297297297'</span>"
      ],
      "text/latex": [
       "'Specificity:  0.847297297297297'"
      ],
      "text/markdown": [
       "<span style=white-space:pre-wrap>'Specificity:  0.847297297297297'</span>"
      ],
      "text/plain": [
       "[1] \"Specificity:  0.847297297297297\""
      ]
     },
     "metadata": {},
     "output_type": "display_data"
    }
   ],
   "source": [
    "paste(\"Sensitivity: \",conf$byClass[['Sensitivity']])\n",
    "paste(\"Specificity: \",conf$byClass[['Specificity']])"
   ]
  },
  {
   "cell_type": "markdown",
   "metadata": {},
   "source": [
    "##### Part 2.1-E-III-IV"
   ]
  },
  {
   "cell_type": "code",
   "execution_count": 21,
   "metadata": {
    "scrolled": false
   },
   "outputs": [
    {
     "name": "stdout",
     "output_type": "stream",
     "text": [
      "The area under curve (AUC) for this model is  0.845"
     ]
    },
    {
     "data": {
      "image/png": "[encoded data removed]",
      "text/plain": [
       "plot without title"
      ]
     },
     "metadata": {},
     "output_type": "display_data"
    }
   ],
   "source": [
    "pred.rocr <- predict(model, adult_test.df, type=\"prob\")[, 2]\n",
    "f.pred <- prediction(pred.rocr, adult_test.df$income)\n",
    "f.perf <- performance(f.pred, \"tpr\", \"fpr\")\n",
    "plot(f.perf, colorize=T, lwd=3)\n",
    "abline(0,1)\n",
    "auc <- performance(f.pred, measure = \"auc\")\n",
    "cat(paste(\"The area under curve (AUC) for this model is \", round(auc@y.values[[1]], 3)))"
   ]
  },
  {
   "cell_type": "markdown",
   "metadata": {},
   "source": [
    "### Part 2.1-F"
   ]
  },
  {
   "cell_type": "code",
   "execution_count": 22,
   "metadata": {},
   "outputs": [],
   "source": [
    "# COMMENT"
   ]
  },
  {
   "cell_type": "markdown",
   "metadata": {},
   "source": [
    "## Part 2.2"
   ]
  },
  {
   "cell_type": "markdown",
   "metadata": {},
   "source": [
    "### Part 2.2-A"
   ]
  },
  {
   "cell_type": "code",
   "execution_count": 23,
   "metadata": {},
   "outputs": [],
   "source": [
    "tr_1k = read.transactions(\"tr-1k-canonical.csv\", sep = \",\")\n",
    "tr_5k = read.transactions(\"tr-5k-canonical.csv\", sep = \",\")\n",
    "tr_20k = read.transactions(\"tr-20k-canonical.csv\", sep = \",\")\n",
    "tr_75k = read.transactions(\"tr-75k-canonical.csv\", sep = \",\")"
   ]
  },
  {
   "cell_type": "markdown",
   "metadata": {},
   "source": [
    "### Part 2.2-B"
   ]
  },
  {
   "cell_type": "code",
   "execution_count": 24,
   "metadata": {
    "scrolled": false
   },
   "outputs": [
    {
     "data": {
      "text/plain": [
       "transactions as itemMatrix in sparse format with\n",
       " 1000 rows (elements/itemsets/transactions) and\n",
       " 50 columns (items) and a density of 0.07076 \n",
       "\n",
       "most frequent items:\n",
       "Gongolais Cookie     Truffle Cake     Tuile Cookie       Berry Tart \n",
       "             108              103              102               95 \n",
       "      Hot Coffee          (Other) \n",
       "              94             3036 \n",
       "\n",
       "element (itemset/transaction) length distribution:\n",
       "sizes\n",
       "  1   2   3   4   5   6   7   8 \n",
       " 60 162 338 216 132  44  32  16 \n",
       "\n",
       "   Min. 1st Qu.  Median    Mean 3rd Qu.    Max. \n",
       "  1.000   3.000   3.000   3.538   4.000   8.000 \n",
       "\n",
       "includes extended item information - examples:\n",
       "            labels\n",
       "1 Almond Bear Claw\n",
       "2 Almond Croissant\n",
       "3      Almond Tart"
      ]
     },
     "metadata": {},
     "output_type": "display_data"
    }
   ],
   "source": [
    "summary(tr_1k)"
   ]
  },
  {
   "cell_type": "code",
   "execution_count": 50,
   "metadata": {
    "scrolled": true
   },
   "outputs": [
    {
     "name": "stdout",
     "output_type": "stream",
     "text": [
      "Apriori\n",
      "\n",
      "Parameter specification:\n",
      " confidence minval smax arem  aval originalSupport maxtime support minlen\n",
      "         NA    0.1    1 none FALSE            TRUE       5    0.04      1\n",
      " maxlen            target   ext\n",
      "     10 frequent itemsets FALSE\n",
      "\n",
      "Algorithmic control:\n",
      " filter tree heap memopt load sort verbose\n",
      "    0.1 TRUE TRUE  FALSE TRUE    2    TRUE\n",
      "\n",
      "Absolute minimum support count: 40 \n",
      "\n",
      "set item appearances ...[0 item(s)] done [0.00s].\n",
      "set transactions ...[50 item(s), 1000 transaction(s)] done [0.00s].\n",
      "sorting and recoding items ... [46 item(s)] done [0.00s].\n",
      "creating transaction tree ... done [0.00s].\n",
      "checking subsets of size 1 2 3 done [0.00s].\n",
      "writing ... [59 set(s)] done [0.00s].\n",
      "creating S4 object  ... done [0.00s].\n",
      "     items                                     support count\n",
      "[1]  {Gongolais Cookie}                        0.108   108  \n",
      "[2]  {Truffle Cake}                            0.103   103  \n",
      "[3]  {Tuile Cookie}                            0.102   102  \n",
      "[4]  {Berry Tart}                              0.095    95  \n",
      "[5]  {Hot Coffee}                              0.094    94  \n",
      "[6]  {Coffee Eclair}                           0.093    93  \n",
      "[7]  {Strawberry Cake}                         0.091    91  \n",
      "[8]  {Apple Croissant}                         0.091    91  \n",
      "[9]  {Marzipan Cookie}                         0.090    90  \n",
      "[10] {Napoleon Cake}                           0.090    90  \n",
      "[11] {Lemon Cake}                              0.085    85  \n",
      "[12] {Chocolate Coffee}                        0.085    85  \n",
      "[13] {Chocolate Cake}                          0.084    84  \n",
      "[14] {Cherry Tart}                             0.084    84  \n",
      "[15] {Apple Danish}                            0.084    84  \n",
      "[16] {Orange Juice}                            0.082    82  \n",
      "[17] {Raspberry Cookie}                        0.082    82  \n",
      "[18] {Blueberry Tart}                          0.081    81  \n",
      "[19] {Apple Tart}                              0.079    79  \n",
      "[20] {Opera Cake}                              0.078    78  \n",
      "[21] {Cheese Croissant}                        0.078    78  \n",
      "[22] {Bottled Water}                           0.077    77  \n",
      "[23] {Cherry Soda}                             0.077    77  \n",
      "[24] {Lemon Tart}                              0.076    76  \n",
      "[25] {Apricot Croissant}                       0.076    76  \n",
      "[26] {Apricot Danish}                          0.075    75  \n",
      "[27] {Vanilla Frappuccino}                     0.074    74  \n",
      "[28] {Blackberry Tart}                         0.073    73  \n",
      "[29] {Casino Cake}                             0.072    72  \n",
      "[30] {Raspberry Lemonade}                      0.072    72  \n",
      "[31] {Apple Pie}                               0.068    68  \n",
      "[32] {Lemon Lemonade}                          0.066    66  \n",
      "[33] {Lemon Cookie}                            0.066    66  \n",
      "[34] {Almond Twist}                            0.065    65  \n",
      "[35] {Green Tea}                               0.062    62  \n",
      "[36] {Walnut Cookie}                           0.061    61  \n",
      "[37] {Single Espresso}                         0.059    59  \n",
      "[38] {Gongolais Cookie,Truffle Cake}           0.058    58  \n",
      "[39] {Apricot Tart}                            0.056    56  \n",
      "[40] {Blueberry Danish}                        0.055    55  \n",
      "[41] {Marzipan Cookie,Tuile Cookie}            0.053    53  \n",
      "[42] {Chocolate Tart}                          0.051    51  \n",
      "[43] {Almond Croissant}                        0.049    49  \n",
      "[44] {Napoleon Cake,Strawberry Cake}           0.049    49  \n",
      "[45] {Vanilla Meringue}                        0.047    47  \n",
      "[46] {Chocolate Cake,Chocolate Coffee}         0.047    47  \n",
      "[47] {Apricot Danish,Cherry Tart}              0.046    46  \n",
      "[48] {Ganache Cookie}                          0.044    44  \n",
      "[49] {Apple Croissant,Apple Tart}              0.044    44  \n",
      "[50] {Chocolate Croissant}                     0.042    42  \n",
      "[51] {Apple Croissant,Apple Danish}            0.042    42  \n",
      "[52] {Almond Tart}                             0.041    41  \n",
      "[53] {Cherry Tart,Opera Cake}                  0.041    41  \n",
      "[54] {Apple Danish,Apple Tart}                 0.041    41  \n",
      "[55] {Pecan Tart}                              0.040    40  \n",
      "[56] {Lemon Cake,Lemon Tart}                   0.040    40  \n",
      "[57] {Casino Cake,Chocolate Cake}              0.040    40  \n",
      "[58] {Apricot Croissant,Blueberry Tart}        0.040    40  \n",
      "[59] {Apple Croissant,Apple Danish,Apple Tart} 0.040    40  \n"
     ]
    }
   ],
   "source": [
    "f_is <- apriori(tr_1k, parameter=list(support=.04, target=\"frequent itemsets\"))\n",
    "inspect(sort(f_is, decreasing = T, by=\"count\"))\n",
    "rm(f_is)"
   ]
  },
  {
   "cell_type": "code",
   "execution_count": 28,
   "metadata": {
    "scrolled": true
   },
   "outputs": [
    {
     "name": "stdout",
     "output_type": "stream",
     "text": [
      "Apriori\n",
      "\n",
      "Parameter specification:\n",
      " confidence minval smax arem  aval originalSupport maxtime support minlen\n",
      "          1    0.1    1 none FALSE            TRUE       5    0.03      1\n",
      " maxlen target   ext\n",
      "     10  rules FALSE\n",
      "\n",
      "Algorithmic control:\n",
      " filter tree heap memopt load sort verbose\n",
      "    0.1 TRUE TRUE  FALSE TRUE    2    TRUE\n",
      "\n",
      "Absolute minimum support count: 30 \n",
      "\n",
      "set item appearances ...[0 item(s)] done [0.00s].\n",
      "set transactions ...[50 item(s), 1000 transaction(s)] done [0.00s].\n",
      "sorting and recoding items ... [49 item(s)] done [0.00s].\n",
      "creating transaction tree ... done [0.00s].\n",
      "checking subsets of size 1 2 3 4 done [0.00s].\n",
      "writing ... [4 rule(s)] done [0.00s].\n",
      "creating S4 object  ... done [0.00s].\n",
      "    lhs                    rhs               support confidence     lift count\n",
      "[1] {Apricot Croissant,                                                       \n",
      "     Hot Coffee}        => {Blueberry Tart}    0.032          1 12.34568    32\n",
      "[2] {Apple Danish,                                                            \n",
      "     Apple Tart,                                                              \n",
      "     Cherry Soda}       => {Apple Croissant}   0.031          1 10.98901    31\n",
      "[3] {Apple Croissant,                                                         \n",
      "     Apple Tart,                                                              \n",
      "     Cherry Soda}       => {Apple Danish}      0.031          1 11.90476    31\n",
      "[4] {Apple Croissant,                                                         \n",
      "     Apple Danish,                                                            \n",
      "     Cherry Soda}       => {Apple Tart}        0.031          1 12.65823    31\n"
     ]
    }
   ],
   "source": [
    "rules <- apriori(tr_1k, parameter = list(sup = 0.03, conf = 1, target = \"rules\"))\n",
    "inspect(sort(rules, by=\"count\", decreasing=T))"
   ]
  },
  {
   "cell_type": "markdown",
   "metadata": {},
   "source": [
    "After trying different min sup values from .1 to .01, .03 was reached since rules are created when the minsup is droped to this value with respect to confidence = 1"
   ]
  },
  {
   "cell_type": "markdown",
   "metadata": {},
   "source": [
    "lhs is antecedent\n",
    "\n",
    "rhs is  consequent\n",
    "\n",
    "support is support of the rule\n",
    "\n",
    "confidence is confidence of the rule"
   ]
  },
  {
   "cell_type": "code",
   "execution_count": 29,
   "metadata": {
    "scrolled": true
   },
   "outputs": [
    {
     "data": {
      "text/plain": [
       "transactions as itemMatrix in sparse format with\n",
       " 5000 rows (elements/itemsets/transactions) and\n",
       " 50 columns (items) and a density of 0.07094 \n",
       "\n",
       "most frequent items:\n",
       "   Coffee Eclair       Hot Coffee     Tuile Cookie  Strawberry Cake \n",
       "             554              513              499              480 \n",
       "Gongolais Cookie          (Other) \n",
       "             477            15212 \n",
       "\n",
       "element (itemset/transaction) length distribution:\n",
       "sizes\n",
       "   1    2    3    4    5    6    7    8 \n",
       " 248  923 1601 1144  596  237  148  103 \n",
       "\n",
       "   Min. 1st Qu.  Median    Mean 3rd Qu.    Max. \n",
       "  1.000   3.000   3.000   3.547   4.000   8.000 \n",
       "\n",
       "includes extended item information - examples:\n",
       "            labels\n",
       "1 Almond Bear Claw\n",
       "2 Almond Croissant\n",
       "3      Almond Tart"
      ]
     },
     "metadata": {},
     "output_type": "display_data"
    }
   ],
   "source": [
    "summary(tr_5k)"
   ]
  },
  {
   "cell_type": "code",
   "execution_count": 30,
   "metadata": {
    "scrolled": true
   },
   "outputs": [
    {
     "name": "stdout",
     "output_type": "stream",
     "text": [
      "Apriori\n",
      "\n",
      "Parameter specification:\n",
      " confidence minval smax arem  aval originalSupport maxtime support minlen\n",
      "         NA    0.1    1 none FALSE            TRUE       5    0.09      1\n",
      " maxlen            target   ext\n",
      "     10 frequent itemsets FALSE\n",
      "\n",
      "Algorithmic control:\n",
      " filter tree heap memopt load sort verbose\n",
      "    0.1 TRUE TRUE  FALSE TRUE    2    TRUE\n",
      "\n",
      "Absolute minimum support count: 450 \n",
      "\n",
      "set item appearances ...[0 item(s)] done [0.00s].\n",
      "set transactions ...[50 item(s), 5000 transaction(s)] done [0.00s].\n",
      "sorting and recoding items ... [7 item(s)] done [0.00s].\n",
      "creating transaction tree ... done [0.00s].\n",
      "checking subsets of size 1 2 done [0.00s].\n",
      "writing ... [7 set(s)] done [0.00s].\n",
      "creating S4 object  ... done [0.00s].\n",
      "    items              support count\n",
      "[1] {Coffee Eclair}    0.1108  554  \n",
      "[2] {Hot Coffee}       0.1026  513  \n",
      "[3] {Tuile Cookie}     0.0998  499  \n",
      "[4] {Strawberry Cake}  0.0960  480  \n",
      "[5] {Gongolais Cookie} 0.0954  477  \n",
      "[6] {Orange Juice}     0.0922  461  \n",
      "[7] {Cherry Tart}      0.0920  460  \n"
     ]
    }
   ],
   "source": [
    "f_is <- apriori(tr_5k, parameter=list(support=.09, target=\"frequent itemsets\"))\n",
    "inspect(sort(f_is, decreasing = T, by=\"count\"))\n",
    "rm(f_is)"
   ]
  },
  {
   "cell_type": "code",
   "execution_count": 33,
   "metadata": {
    "scrolled": true
   },
   "outputs": [
    {
     "name": "stdout",
     "output_type": "stream",
     "text": [
      "Apriori\n",
      "\n",
      "Parameter specification:\n",
      " confidence minval smax arem  aval originalSupport maxtime support minlen\n",
      "          1    0.1    1 none FALSE            TRUE       5    0.03      1\n",
      " maxlen target   ext\n",
      "     10  rules FALSE\n",
      "\n",
      "Algorithmic control:\n",
      " filter tree heap memopt load sort verbose\n",
      "    0.1 TRUE TRUE  FALSE TRUE    2    TRUE\n",
      "\n",
      "Absolute minimum support count: 150 \n",
      "\n",
      "set item appearances ...[0 item(s)] done [0.00s].\n",
      "set transactions ...[50 item(s), 5000 transaction(s)] done [0.00s].\n",
      "sorting and recoding items ... [50 item(s)] done [0.00s].\n",
      "creating transaction tree ... done [0.00s].\n",
      "checking subsets of size 1 2 3 4 done [0.00s].\n",
      "writing ... [3 rule(s)] done [0.00s].\n",
      "creating S4 object  ... done [0.00s].\n",
      "    lhs                                        rhs             support\n",
      "[1] {Almond Twist,Apple Pie,Hot Coffee}     => {Coffee Eclair} 0.0308 \n",
      "[2] {Apple Pie,Coffee Eclair,Hot Coffee}    => {Almond Twist}  0.0308 \n",
      "[3] {Almond Twist,Coffee Eclair,Hot Coffee} => {Apple Pie}     0.0308 \n",
      "    confidence lift      count\n",
      "[1] 1           9.025271 154  \n",
      "[2] 1          12.285012 154  \n",
      "[3] 1          12.787724 154  \n"
     ]
    }
   ],
   "source": [
    "rules <- apriori(tr_5k, parameter = list(sup = 0.03\n",
    "                                         , conf = 1, target = \"rules\"))\n",
    "inspect(sort(rules, by=\"count\"))\n",
    "rm(rules)"
   ]
  },
  {
   "cell_type": "markdown",
   "metadata": {},
   "source": [
    "After trying different min sup values from .1 to .01, .03 was reached since rules are created when the minsup is droped to this value with respect to confidence = 1"
   ]
  },
  {
   "cell_type": "markdown",
   "metadata": {},
   "source": [
    "summary(tr_20k)"
   ]
  },
  {
   "cell_type": "code",
   "execution_count": 34,
   "metadata": {},
   "outputs": [
    {
     "name": "stdout",
     "output_type": "stream",
     "text": [
      "Apriori\n",
      "\n",
      "Parameter specification:\n",
      " confidence minval smax arem  aval originalSupport maxtime support minlen\n",
      "         NA    0.1    1 none FALSE            TRUE       5    0.09      1\n",
      " maxlen            target   ext\n",
      "     10 frequent itemsets FALSE\n",
      "\n",
      "Algorithmic control:\n",
      " filter tree heap memopt load sort verbose\n",
      "    0.1 TRUE TRUE  FALSE TRUE    2    TRUE\n",
      "\n",
      "Absolute minimum support count: 1800 \n",
      "\n",
      "set item appearances ...[0 item(s)] done [0.00s].\n",
      "set transactions ...[50 item(s), 20000 transaction(s)] done [0.01s].\n",
      "sorting and recoding items ... [8 item(s)] done [0.00s].\n",
      "creating transaction tree ... done [0.00s].\n",
      "checking subsets of size 1 2 done [0.00s].\n",
      "writing ... [8 set(s)] done [0.00s].\n",
      "creating S4 object  ... done [0.00s].\n",
      "    items              support count\n",
      "[1] {Coffee Eclair}    0.10985 2197 \n",
      "[2] {Hot Coffee}       0.10360 2072 \n",
      "[3] {Tuile Cookie}     0.09865 1973 \n",
      "[4] {Apricot Danish}   0.09270 1854 \n",
      "[5] {Orange Juice}     0.09240 1848 \n",
      "[6] {Strawberry Cake}  0.09200 1840 \n",
      "[7] {Gongolais Cookie} 0.09185 1837 \n",
      "[8] {Cherry Tart}      0.09125 1825 \n"
     ]
    }
   ],
   "source": [
    "f_is <- apriori(tr_20k, parameter=list(support=.09, target=\"frequent itemsets\"))\n",
    "inspect(sort(f_is, decreasing = T, by=\"count\"))\n",
    "rm(f_is)"
   ]
  },
  {
   "cell_type": "code",
   "execution_count": 37,
   "metadata": {
    "scrolled": true
   },
   "outputs": [
    {
     "name": "stdout",
     "output_type": "stream",
     "text": [
      "Apriori\n",
      "\n",
      "Parameter specification:\n",
      " confidence minval smax arem  aval originalSupport maxtime support minlen\n",
      "          1    0.1    1 none FALSE            TRUE       5    0.02      1\n",
      " maxlen target   ext\n",
      "     10  rules FALSE\n",
      "\n",
      "Algorithmic control:\n",
      " filter tree heap memopt load sort verbose\n",
      "    0.1 TRUE TRUE  FALSE TRUE    2    TRUE\n",
      "\n",
      "Absolute minimum support count: 400 \n",
      "\n",
      "set item appearances ...[0 item(s)] done [0.00s].\n",
      "set transactions ...[50 item(s), 20000 transaction(s)] done [0.00s].\n",
      "sorting and recoding items ... [50 item(s)] done [0.00s].\n",
      "creating transaction tree ... done [0.01s].\n",
      "checking subsets of size 1 2 3 4 5 done [0.00s].\n",
      "writing ... [2 rule(s)] done [0.00s].\n",
      "creating S4 object  ... done [0.00s].\n",
      "    lhs                     rhs                  support confidence    lift count\n",
      "[1] {Green Tea,                                                                  \n",
      "     Lemon Cookie,                                                               \n",
      "     Lemon Lemonade,                                                             \n",
      "     Raspberry Cookie}   => {Raspberry Lemonade}  0.0204          1 14.6092   408\n",
      "[2] {Green Tea,                                                                  \n",
      "     Lemon Cookie,                                                               \n",
      "     Raspberry Cookie,                                                           \n",
      "     Raspberry Lemonade} => {Lemon Lemonade}      0.0204          1 15.0263   408\n"
     ]
    }
   ],
   "source": [
    "rules <- apriori(tr_20k, parameter = list(sup = 0.02\n",
    "                                         , conf = 1, target = \"rules\"))\n",
    "inspect(sort(rules, by=\"count\"))\n",
    "rm(rules)"
   ]
  },
  {
   "cell_type": "markdown",
   "metadata": {},
   "source": [
    "After trying different min sup values from .1 to .01, .02 was reached since rules are created when the minsup is droped to this value. By default the min conf is .8. Droping min sup to .02 creates rules with the frequent item sets such as Cherry Tart and Coffee Eclair without it only being 2 rules at .03. Thus, .8 is decided as min conf and .02 is decided as min sup."
   ]
  },
  {
   "cell_type": "code",
   "execution_count": 90,
   "metadata": {},
   "outputs": [
    {
     "data": {
      "text/plain": [
       "transactions as itemMatrix in sparse format with\n",
       " 75000 rows (elements/itemsets/transactions) and\n",
       " 50 columns (items) and a density of 0.07098907 \n",
       "\n",
       "most frequent items:\n",
       "  Coffee Eclair      Hot Coffee    Tuile Cookie     Cherry Tart Strawberry Cake \n",
       "           8193            7700            7556            6987            6948 \n",
       "        (Other) \n",
       "         228825 \n",
       "\n",
       "element (itemset/transaction) length distribution:\n",
       "sizes\n",
       "    1     2     3     4     5     6     7     8 \n",
       " 3592 13579 24674 17003  8640  3840  2191  1481 \n",
       "\n",
       "   Min. 1st Qu.  Median    Mean 3rd Qu.    Max. \n",
       "  1.000   3.000   3.000   3.549   4.000   8.000 \n",
       "\n",
       "includes extended item information - examples:\n",
       "            labels\n",
       "1 Almond Bear Claw\n",
       "2 Almond Croissant\n",
       "3      Almond Tart"
      ]
     },
     "metadata": {},
     "output_type": "display_data"
    }
   ],
   "source": [
    "summary(tr_75k)"
   ]
  },
  {
   "cell_type": "code",
   "execution_count": 92,
   "metadata": {},
   "outputs": [
    {
     "name": "stdout",
     "output_type": "stream",
     "text": [
      "Apriori\n",
      "\n",
      "Parameter specification:\n",
      " confidence minval smax arem  aval originalSupport maxtime support minlen\n",
      "         NA    0.1    1 none FALSE            TRUE       5    0.09      1\n",
      " maxlen            target   ext\n",
      "     10 frequent itemsets FALSE\n",
      "\n",
      "Algorithmic control:\n",
      " filter tree heap memopt load sort verbose\n",
      "    0.1 TRUE TRUE  FALSE TRUE    2    TRUE\n",
      "\n",
      "Absolute minimum support count: 6750 \n",
      "\n",
      "set item appearances ...[0 item(s)] done [0.00s].\n",
      "set transactions ...[50 item(s), 75000 transaction(s)] done [0.02s].\n",
      "sorting and recoding items ... [8 item(s)] done [0.00s].\n",
      "creating transaction tree ... done [0.02s].\n",
      "checking subsets of size 1 2 done [0.00s].\n",
      "writing ... [8 set(s)] done [0.00s].\n",
      "creating S4 object  ... done [0.00s].\n",
      "    items              support    count\n",
      "[1] {Coffee Eclair}    0.10924000 8193 \n",
      "[2] {Hot Coffee}       0.10266667 7700 \n",
      "[3] {Tuile Cookie}     0.10074667 7556 \n",
      "[4] {Cherry Tart}      0.09316000 6987 \n",
      "[5] {Strawberry Cake}  0.09264000 6948 \n",
      "[6] {Apricot Danish}   0.09257333 6943 \n",
      "[7] {Orange Juice}     0.09161333 6871 \n",
      "[8] {Gongolais Cookie} 0.09044000 6783 \n"
     ]
    }
   ],
   "source": [
    "f_is <- apriori(tr_75k, parameter=list(support=.09, target=\"frequent itemsets\"))\n",
    "inspect(sort(f_is, decreasing = T, by=\"count\"))\n",
    "rm(f_is)"
   ]
  },
  {
   "cell_type": "code",
   "execution_count": 104,
   "metadata": {},
   "outputs": [
    {
     "name": "stdout",
     "output_type": "stream",
     "text": [
      "Apriori\n",
      "\n",
      "Parameter specification:\n",
      " confidence minval smax arem  aval originalSupport maxtime support minlen\n",
      "        0.8    0.1    1 none FALSE            TRUE       5    0.02      1\n",
      " maxlen target   ext\n",
      "     10  rules FALSE\n",
      "\n",
      "Algorithmic control:\n",
      " filter tree heap memopt load sort verbose\n",
      "    0.1 TRUE TRUE  FALSE TRUE    2    TRUE\n",
      "\n",
      "Absolute minimum support count: 1500 \n",
      "\n",
      "set item appearances ...[0 item(s)] done [0.00s].\n",
      "set transactions ...[50 item(s), 75000 transaction(s)] done [0.02s].\n",
      "sorting and recoding items ... [50 item(s)] done [0.00s].\n",
      "creating transaction tree ... done [0.02s].\n",
      "checking subsets of size 1 2 3 4 5 done [0.00s].\n",
      "writing ... [85 rule(s)] done [0.00s].\n",
      "creating S4 object  ... done [0.01s].\n",
      "     lhs                      rhs                      support confidence      lift count\n",
      "[1]  {Apricot Danish,                                                                    \n",
      "      Opera Cake}          => {Cherry Tart}         0.04110667  0.9553765 10.255222  3083\n",
      "[2]  {Cherry Tart,                                                                       \n",
      "      Opera Cake}          => {Apricot Danish}      0.04110667  0.9477405 10.237727  3083\n",
      "[3]  {Almond Twist,                                                                      \n",
      "      Apple Pie}           => {Coffee Eclair}       0.03432000  0.9356598  8.565175  2574\n",
      "[4]  {Apple Pie,                                                                         \n",
      "      Coffee Eclair}       => {Almond Twist}        0.03432000  0.9209302 11.929148  2574\n",
      "[5]  {Almond Twist,                                                                      \n",
      "      Coffee Eclair}       => {Apple Pie}           0.03432000  0.9245690 11.988705  2574\n",
      "[6]  {Casino Cake,                                                                       \n",
      "      Chocolate Coffee}    => {Chocolate Cake}      0.03338667  0.9474082 11.341679  2504\n",
      "[7]  {Casino Cake,                                                                       \n",
      "      Chocolate Cake}      => {Chocolate Coffee}    0.03338667  0.9395872 11.300360  2504\n",
      "[8]  {Blueberry Tart,                                                                    \n",
      "      Hot Coffee}          => {Apricot Croissant}   0.03282667  0.9368341 11.154557  2462\n",
      "[9]  {Apricot Croissant,                                                                 \n",
      "      Hot Coffee}          => {Blueberry Tart}      0.03282667  0.9280060 11.187985  2462\n",
      "[10] {Almond Twist,                                                                      \n",
      "      Hot Coffee}          => {Coffee Eclair}       0.02812000  0.9094437  8.325190  2109\n",
      "[11] {Coffee Eclair,                                                                     \n",
      "      Hot Coffee}          => {Almond Twist}        0.02812000  0.8910013 11.541467  2109\n",
      "[12] {Apple Pie,                                                                         \n",
      "      Hot Coffee}          => {Coffee Eclair}       0.02809333  0.9054577  8.288701  2107\n",
      "[13] {Coffee Eclair,                                                                     \n",
      "      Hot Coffee}          => {Apple Pie}           0.02809333  0.8901563 11.542483  2107\n",
      "[14] {Apple Pie,                                                                         \n",
      "      Hot Coffee}          => {Almond Twist}        0.02805333  0.9041685 11.712027  2104\n",
      "[15] {Almond Twist,                                                                      \n",
      "      Hot Coffee}          => {Apple Pie}           0.02805333  0.9072876 11.764622  2104\n",
      "[16] {Almond Twist,                                                                      \n",
      "      Apple Pie,                                                                         \n",
      "      Hot Coffee}          => {Coffee Eclair}       0.02792000  0.9952471  9.110648  2094\n",
      "[17] {Almond Twist,                                                                      \n",
      "      Apple Pie,                                                                         \n",
      "      Coffee Eclair}       => {Hot Coffee}          0.02792000  0.8135198  7.923894  2094\n",
      "[18] {Apple Pie,                                                                         \n",
      "      Coffee Eclair,                                                                     \n",
      "      Hot Coffee}          => {Almond Twist}        0.02792000  0.9938301 12.873447  2094\n",
      "[19] {Almond Twist,                                                                      \n",
      "      Coffee Eclair,                                                                     \n",
      "      Hot Coffee}          => {Apple Pie}           0.02792000  0.9928876 12.874580  2094\n",
      "[20] {Blackberry Tart,                                                                   \n",
      "      Single Espresso}     => {Coffee Eclair}       0.02720000  0.9230769  8.449990  2040\n",
      "[21] {Coffee Eclair,                                                                     \n",
      "      Single Espresso}     => {Blackberry Tart}     0.02720000  0.9222423 12.156094  2040\n",
      "[22] {Chocolate Tart,                                                                    \n",
      "      Walnut Cookie}       => {Vanilla Frappuccino} 0.02676000  0.9369748 12.095200  2007\n",
      "[23] {Vanilla Frappuccino,                                                               \n",
      "      Walnut Cookie}       => {Chocolate Tart}      0.02676000  0.9396067 12.745615  2007\n",
      "[24] {Lemon Cookie,                                                                      \n",
      "      Raspberry Cookie}    => {Lemon Lemonade}      0.02576000  0.9257307 13.565808  1932\n",
      "[25] {Lemon Cookie,                                                                      \n",
      "      Lemon Lemonade}      => {Raspberry Cookie}    0.02576000  0.9261745 13.692704  1932\n",
      "[26] {Lemon Lemonade,                                                                    \n",
      "      Raspberry Cookie}    => {Lemon Cookie}        0.02576000  0.9195621 13.520321  1932\n",
      "[27] {Raspberry Cookie,                                                                  \n",
      "      Raspberry Lemonade}  => {Lemon Lemonade}      0.02574667  0.9288119 13.610960  1931\n",
      "[28] {Lemon Lemonade,                                                                    \n",
      "      Raspberry Cookie}    => {Raspberry Lemonade}  0.02574667  0.9190861 13.566515  1931\n",
      "[29] {Lemon Lemonade,                                                                    \n",
      "      Raspberry Lemonade}  => {Raspberry Cookie}    0.02574667  0.9248084 13.672508  1931\n",
      "[30] {Lemon Cookie,                                                                      \n",
      "      Raspberry Cookie}    => {Raspberry Lemonade}  0.02568000  0.9228558 13.622158  1926\n",
      "[31] {Lemon Cookie,                                                                      \n",
      "      Raspberry Lemonade}  => {Raspberry Cookie}    0.02568000  0.9228558 13.643639  1926\n",
      "[32] {Raspberry Cookie,                                                                  \n",
      "      Raspberry Lemonade}  => {Lemon Cookie}        0.02568000  0.9264069 13.620960  1926\n",
      "[33] {Lemon Cookie,                                                                      \n",
      "      Raspberry Lemonade}  => {Lemon Lemonade}      0.02562667  0.9209391 13.495591  1922\n",
      "[34] {Lemon Cookie,                                                                      \n",
      "      Lemon Lemonade}      => {Raspberry Lemonade}  0.02562667  0.9213806 13.600383  1922\n",
      "[35] {Lemon Lemonade,                                                                    \n",
      "      Raspberry Lemonade}  => {Lemon Cookie}        0.02562667  0.9204981 13.534083  1922\n",
      "[36] {Lemon Cookie,                                                                      \n",
      "      Raspberry Cookie,                                                                  \n",
      "      Raspberry Lemonade}  => {Lemon Lemonade}      0.02556000  0.9953271 14.585684  1917\n",
      "[37] {Lemon Cookie,                                                                      \n",
      "      Lemon Lemonade,                                                                    \n",
      "      Raspberry Cookie}    => {Raspberry Lemonade}  0.02556000  0.9922360 14.646271  1917\n",
      "[38] {Lemon Cookie,                                                                      \n",
      "      Lemon Lemonade,                                                                    \n",
      "      Raspberry Lemonade}  => {Raspberry Cookie}    0.02556000  0.9973985 14.745691  1917\n",
      "[39] {Lemon Lemonade,                                                                    \n",
      "      Raspberry Cookie,                                                                  \n",
      "      Raspberry Lemonade}  => {Lemon Cookie}        0.02556000  0.9927499 14.596401  1917\n",
      "[40] {Apple Croissant,                                                                   \n",
      "      Apple Danish}        => {Apple Tart}          0.02550667  0.9144359 13.402911  1913\n",
      "[41] {Apple Croissant,                                                                   \n",
      "      Apple Tart}          => {Apple Danish}        0.02550667  0.9161877 13.534387  1913\n",
      "[42] {Apple Danish,                                                                      \n",
      "      Apple Tart}          => {Apple Croissant}     0.02550667  0.9157492 13.608319  1913\n",
      "[43] {Green Tea,                                                                         \n",
      "      Lemon Cookie}        => {Raspberry Lemonade}  0.02093333  0.9069902 13.387968  1570\n",
      "[44] {Green Tea,                                                                         \n",
      "      Raspberry Lemonade}  => {Lemon Cookie}        0.02093333  0.9133217 13.428568  1570\n",
      "[45] {Green Tea,                                                                         \n",
      "      Raspberry Cookie}    => {Lemon Lemonade}      0.02086667  0.9014977 13.210693  1565\n",
      "[46] {Green Tea,                                                                         \n",
      "      Lemon Lemonade}      => {Raspberry Cookie}    0.02086667  0.9061957 13.397335  1565\n",
      "[47] {Green Tea,                                                                         \n",
      "      Lemon Cookie}        => {Lemon Lemonade}      0.02085333  0.9035240 13.240386  1564\n",
      "[48] {Green Tea,                                                                         \n",
      "      Lemon Lemonade}      => {Lemon Cookie}        0.02085333  0.9056167 13.315281  1564\n",
      "[49] {Green Tea,                                                                         \n",
      "      Raspberry Cookie}    => {Raspberry Lemonade}  0.02085333  0.9009217 13.298391  1564\n",
      "[50] {Green Tea,                                                                         \n",
      "      Raspberry Lemonade}  => {Raspberry Cookie}    0.02085333  0.9098313 13.451084  1564\n",
      "[51] {Apple Croissant,                                                                   \n",
      "      Cherry Soda}         => {Apple Danish}        0.02080000  0.9085614 13.421727  1560\n",
      "[52] {Apple Danish,                                                                      \n",
      "      Cherry Soda}         => {Apple Croissant}     0.02080000  0.8991354 13.361434  1560\n",
      "[53] {Green Tea,                                                                         \n",
      "      Raspberry Lemonade}  => {Lemon Lemonade}      0.02080000  0.9075044 13.298716  1560\n",
      "[54] {Green Tea,                                                                         \n",
      "      Lemon Lemonade}      => {Raspberry Lemonade}  0.02080000  0.9033005 13.333505  1560\n",
      "[55] {Apple Croissant,                                                                   \n",
      "      Cherry Soda}         => {Apple Tart}          0.02077333  0.9073966 13.299736  1558\n",
      "[56] {Apple Tart,                                                                        \n",
      "      Cherry Soda}         => {Apple Croissant}     0.02077333  0.9116442 13.547319  1558\n",
      "[57] {Green Tea,                                                                         \n",
      "      Lemon Cookie}        => {Raspberry Cookie}    0.02077333  0.9000578 13.306590  1558\n",
      "[58] {Green Tea,                                                                         \n",
      "      Raspberry Cookie}    => {Lemon Cookie}        0.02077333  0.8974654 13.195434  1558\n",
      "[59] {Green Tea,                                                                         \n",
      "      Raspberry Cookie,                                                                  \n",
      "      Raspberry Lemonade}  => {Lemon Lemonade}      0.02074667  0.9948849 14.579204  1556\n",
      "[60] {Green Tea,                                                                         \n",
      "      Lemon Lemonade,                                                                    \n",
      "      Raspberry Cookie}    => {Raspberry Lemonade}  0.02074667  0.9942492 14.675987  1556\n",
      "[61] {Green Tea,                                                                         \n",
      "      Lemon Lemonade,                                                                    \n",
      "      Raspberry Lemonade}  => {Raspberry Cookie}    0.02074667  0.9974359 14.746243  1556\n",
      "[62] {Lemon Lemonade,                                                                    \n",
      "      Raspberry Cookie,                                                                  \n",
      "      Raspberry Lemonade}  => {Green Tea}           0.02074667  0.8058001 12.899681  1556\n",
      "[63] {Apple Danish,                                                                      \n",
      "      Cherry Soda}         => {Apple Tart}          0.02073333  0.8962536 13.136412  1555\n",
      "[64] {Apple Tart,                                                                        \n",
      "      Cherry Soda}         => {Apple Danish}        0.02073333  0.9098888 13.441336  1555\n",
      "[65] {Green Tea,                                                                         \n",
      "      Lemon Cookie,                                                                      \n",
      "      Raspberry Cookie}    => {Raspberry Lemonade}  0.02073333  0.9980745 14.732451  1555\n",
      "[66] {Green Tea,                                                                         \n",
      "      Lemon Cookie,                                                                      \n",
      "      Raspberry Lemonade}  => {Raspberry Cookie}    0.02073333  0.9904459 14.642902  1555\n",
      "[67] {Green Tea,                                                                         \n",
      "      Raspberry Cookie,                                                                  \n",
      "      Raspberry Lemonade}  => {Lemon Cookie}        0.02073333  0.9942455 14.618391  1555\n",
      "[68] {Lemon Cookie,                                                                      \n",
      "      Raspberry Cookie,                                                                  \n",
      "      Raspberry Lemonade}  => {Green Tea}           0.02073333  0.8073728 12.924858  1555\n",
      "[69] {Green Tea,                                                                         \n",
      "      Lemon Cookie,                                                                      \n",
      "      Raspberry Cookie}    => {Lemon Lemonade}      0.02073333  0.9980745 14.625945  1555\n",
      "[70] {Green Tea,                                                                         \n",
      "      Lemon Cookie,                                                                      \n",
      "      Lemon Lemonade}      => {Raspberry Cookie}    0.02073333  0.9942455 14.699076  1555\n",
      "[71] {Green Tea,                                                                         \n",
      "      Lemon Lemonade,                                                                    \n",
      "      Raspberry Cookie}    => {Lemon Cookie}        0.02073333  0.9936102 14.609051  1555\n",
      "[72] {Lemon Cookie,                                                                      \n",
      "      Lemon Lemonade,                                                                    \n",
      "      Raspberry Cookie}    => {Green Tea}           0.02073333  0.8048654 12.884719  1555\n",
      "[73] {Green Tea,                                                                         \n",
      "      Lemon Cookie,                                                                      \n",
      "      Raspberry Lemonade}  => {Lemon Lemonade}      0.02073333  0.9904459 14.514154  1555\n",
      "[74] {Green Tea,                                                                         \n",
      "      Lemon Cookie,                                                                      \n",
      "      Lemon Lemonade}      => {Raspberry Lemonade}  0.02073333  0.9942455 14.675933  1555\n",
      "[75] {Green Tea,                                                                         \n",
      "      Lemon Lemonade,                                                                    \n",
      "      Raspberry Lemonade}  => {Lemon Cookie}        0.02073333  0.9967949 14.655874  1555\n",
      "[76] {Lemon Cookie,                                                                      \n",
      "      Lemon Lemonade,                                                                    \n",
      "      Raspberry Lemonade}  => {Green Tea}           0.02073333  0.8090531 12.951757  1555\n",
      "[77] {Green Tea,                                                                         \n",
      "      Lemon Cookie,                                                                      \n",
      "      Raspberry Cookie,                                                                  \n",
      "      Raspberry Lemonade}  => {Lemon Lemonade}      0.02073333  1.0000000 14.654162  1555\n",
      "[78] {Green Tea,                                                                         \n",
      "      Lemon Cookie,                                                                      \n",
      "      Lemon Lemonade,                                                                    \n",
      "      Raspberry Cookie}    => {Raspberry Lemonade}  0.02073333  1.0000000 14.760874  1555\n",
      "[79] {Green Tea,                                                                         \n",
      "      Lemon Cookie,                                                                      \n",
      "      Lemon Lemonade,                                                                    \n",
      "      Raspberry Lemonade}  => {Raspberry Cookie}    0.02073333  1.0000000 14.784151  1555\n",
      "[80] {Green Tea,                                                                         \n",
      "      Lemon Lemonade,                                                                    \n",
      "      Raspberry Cookie,                                                                  \n",
      "      Raspberry Lemonade}  => {Lemon Cookie}        0.02073333  0.9993573 14.693550  1555\n",
      "[81] {Lemon Cookie,                                                                      \n",
      "      Lemon Lemonade,                                                                    \n",
      "      Raspberry Cookie,                                                                  \n",
      "      Raspberry Lemonade}  => {Green Tea}           0.02073333  0.8111633 12.985538  1555\n",
      "[82] {Apple Croissant,                                                                   \n",
      "      Apple Danish,                                                                      \n",
      "      Cherry Soda}         => {Apple Tart}          0.02058667  0.9897436 14.506697  1544\n",
      "[83] {Apple Croissant,                                                                   \n",
      "      Apple Tart,                                                                        \n",
      "      Cherry Soda}         => {Apple Danish}        0.02058667  0.9910141 14.639760  1544\n",
      "[84] {Apple Danish,                                                                      \n",
      "      Apple Tart,                                                                        \n",
      "      Cherry Soda}         => {Apple Croissant}     0.02058667  0.9929260 14.755192  1544\n",
      "[85] {Apple Croissant,                                                                   \n",
      "      Apple Danish,                                                                      \n",
      "      Apple Tart}          => {Cherry Soda}         0.02058667  0.8071093 13.020691  1544\n"
     ]
    }
   ],
   "source": [
    "rules <- apriori(tr_75k, parameter = list(sup = 0.02\n",
    "                                         , conf = .8, target = \"rules\"))\n",
    "inspect(sort(rules, by=\"count\"))\n",
    "rm(rules)"
   ]
  },
  {
   "cell_type": "markdown",
   "metadata": {},
   "source": [
    "After trying different min sup values from .1 to .01, .02 was reached since rules are created when the minsup is droped to this value. By default the min conf is .8. Droping min sup to .02 creates rules with the frequent item sets such as Cherry Tart and Coffee Eclair without it only being 10 rules at .03. Thus, .8 is decided as min conf and .02 is decided as min sup."
   ]
  },
  {
   "cell_type": "markdown",
   "metadata": {},
   "source": [
    "### Part 2.2-C"
   ]
  },
  {
   "cell_type": "markdown",
   "metadata": {},
   "source": [
    "It was interesting to see how the min sup had to be droped as the amount of transactions increased. The only outlier was 1k data sheet since droping min sup to even .01 was not able to create rules with the most frequent items (thus conf was droped there).\n",
    "\n",
    "But as the number of transactions increased the confidence level was not droped at all to find rules with frequent items (only min sup was moved)"
   ]
  },
  {
   "cell_type": "markdown",
   "metadata": {},
   "source": [
    "### Part 2.2-D"
   ]
  },
  {
   "cell_type": "code",
   "execution_count": 105,
   "metadata": {},
   "outputs": [
    {
     "name": "stdout",
     "output_type": "stream",
     "text": [
      "Apriori\n",
      "\n",
      "Parameter specification:\n",
      " confidence minval smax arem  aval originalSupport maxtime support minlen\n",
      "         NA    0.1    1 none FALSE            TRUE       5    0.02      1\n",
      " maxlen            target   ext\n",
      "     10 frequent itemsets FALSE\n",
      "\n",
      "Algorithmic control:\n",
      " filter tree heap memopt load sort verbose\n",
      "    0.1 TRUE TRUE  FALSE TRUE    2    TRUE\n",
      "\n",
      "Absolute minimum support count: 1500 \n",
      "\n",
      "set item appearances ...[0 item(s)] done [0.00s].\n",
      "set transactions ...[50 item(s), 75000 transaction(s)] done [0.01s].\n",
      "sorting and recoding items ... [50 item(s)] done [0.00s].\n",
      "creating transaction tree ... done [0.02s].\n",
      "checking subsets of size 1 2 3 4 5 done [0.00s].\n",
      "writing ... [124 set(s)] done [0.00s].\n",
      "creating S4 object  ... done [0.00s].\n",
      "      items                    support count\n",
      "[1]   {Coffee Eclair}       0.10924000  8193\n",
      "[2]   {Hot Coffee}          0.10266667  7700\n",
      "[3]   {Tuile Cookie}        0.10074667  7556\n",
      "[4]   {Cherry Tart}         0.09316000  6987\n",
      "[5]   {Strawberry Cake}     0.09264000  6948\n",
      "[6]   {Apricot Danish}      0.09257333  6943\n",
      "[7]   {Orange Juice}        0.09161333  6871\n",
      "[8]   {Gongolais Cookie}    0.09044000  6783\n",
      "[9]   {Marzipan Cookie}     0.08977333  6733\n",
      "[10]  {Berry Tart}          0.08482667  6362\n",
      "[11]  {Apricot Croissant}   0.08398667  6299\n",
      "[12]  {Lemon Cake}          0.08361333  6271\n",
      "[13]  {Chocolate Cake}      0.08353333  6265\n",
      "[14]  {Chocolate Coffee}    0.08314667  6236\n",
      "[15]  {Blueberry Tart}      0.08294667  6221\n",
      "[16]  {Napoleon Cake}       0.08274667  6206\n",
      "[17]  {Truffle Cake}        0.08224000  6168\n",
      "[18]  {Cheese Croissant}    0.08221333  6166\n",
      "[19]  {Opera Cake}          0.08209333  6157\n",
      "[20]  {Vanilla Frappuccino} 0.07746667  5810\n",
      "[21]  {Almond Twist}        0.07720000  5790\n",
      "[22]  {Apple Pie}           0.07712000  5784\n",
      "[23]  {Blackberry Tart}     0.07586667  5690\n",
      "[24]  {Lemon Tart}          0.07580000  5685\n",
      "[25]  {Bottled Water}       0.07520000  5640\n",
      "[26]  {Casino Cake}         0.07501333  5626\n",
      "[27]  {Chocolate Tart}      0.07372000  5529\n",
      "[28]  {Lemon Lemonade}      0.06824000  5118\n",
      "[29]  {Apple Tart}          0.06822667  5117\n",
      "[30]  {Lemon Cookie}        0.06801333  5101\n",
      "[31]  {Single Espresso}     0.06797333  5098\n",
      "[32]  {Walnut Cookie}       0.06785333  5089\n",
      "[33]  {Raspberry Lemonade}  0.06774667  5081\n",
      "[34]  {Apple Danish}        0.06769333  5077\n",
      "[35]  {Raspberry Cookie}    0.06764000  5073\n",
      "[36]  {Apple Croissant}     0.06729333  5047\n",
      "[37]  {Green Tea}           0.06246667  4685\n",
      "[38]  {Cherry Soda}         0.06198667  4649\n",
      "[39]  {Apricot Danish,                      \n",
      "       Cherry Tart}         0.05309333  3982\n",
      "[40]  {Marzipan Cookie,                     \n",
      "       Tuile Cookie}        0.05092000  3819\n",
      "[41]  {Blueberry Danish}    0.04409333  3307\n",
      "[42]  {Chocolate Cake,                      \n",
      "       Chocolate Coffee}    0.04404000  3303\n",
      "[43]  {Gongolais Cookie,                    \n",
      "       Truffle Cake}        0.04392000  3294\n",
      "[44]  {Apricot Croissant,                   \n",
      "       Blueberry Tart}      0.04350667  3263\n",
      "[45]  {Pecan Tart}          0.04337333  3253\n",
      "[46]  {Cherry Tart,                         \n",
      "       Opera Cake}          0.04337333  3253\n",
      "[47]  {Chocolate Croissant} 0.04324000  3243\n",
      "[48]  {Ganache Cookie}      0.04324000  3243\n",
      "[49]  {Napoleon Cake,                       \n",
      "       Strawberry Cake}     0.04314667  3236\n",
      "[50]  {Cheese Croissant,                    \n",
      "       Orange Juice}        0.04306667  3230\n",
      "[51]  {Apricot Danish,                      \n",
      "       Opera Cake}          0.04302667  3227\n",
      "[52]  {Almond Croissant}    0.04273333  3205\n",
      "[53]  {Vanilla Eclair}      0.04252000  3189\n",
      "[54]  {Almond Bear Claw}    0.04244000  3183\n",
      "[55]  {Vanilla Meringue}    0.04238667  3179\n",
      "[56]  {Chocolate Eclair}    0.04237333  3178\n",
      "[57]  {Apricot Tart}        0.04236000  3177\n",
      "[58]  {Almond Tart}         0.04204000  3153\n",
      "[59]  {Chocolate Meringue}  0.04193333  3145\n",
      "[60]  {Apricot Danish,                      \n",
      "       Cherry Tart,                         \n",
      "       Opera Cake}          0.04110667  3083\n",
      "[61]  {Berry Tart,                          \n",
      "       Bottled Water}       0.03780000  2835\n",
      "[62]  {Apple Pie,                           \n",
      "       Coffee Eclair}       0.03726667  2795\n",
      "[63]  {Almond Twist,                        \n",
      "       Coffee Eclair}       0.03712000  2784\n",
      "[64]  {Lemon Cake,                          \n",
      "       Lemon Tart}          0.03685333  2764\n",
      "[65]  {Almond Twist,                        \n",
      "       Apple Pie}           0.03668000  2751\n",
      "[66]  {Blackberry Tart,                     \n",
      "       Coffee Eclair}       0.03641333  2731\n",
      "[67]  {Chocolate Tart,                      \n",
      "       Vanilla Frappuccino} 0.03596000  2697\n",
      "[68]  {Casino Cake,                         \n",
      "       Chocolate Cake}      0.03553333  2665\n",
      "[69]  {Apricot Croissant,                   \n",
      "       Hot Coffee}          0.03537333  2653\n",
      "[70]  {Casino Cake,                         \n",
      "       Chocolate Coffee}    0.03524000  2643\n",
      "[71]  {Blueberry Tart,                      \n",
      "       Hot Coffee}          0.03504000  2628\n",
      "[72]  {Almond Twist,                        \n",
      "       Apple Pie,                           \n",
      "       Coffee Eclair}       0.03432000  2574\n",
      "[73]  {Casino Cake,                         \n",
      "       Chocolate Cake,                      \n",
      "       Chocolate Coffee}    0.03338667  2504\n",
      "[74]  {Apricot Croissant,                   \n",
      "       Blueberry Tart,                      \n",
      "       Hot Coffee}          0.03282667  2462\n",
      "[75]  {Coffee Eclair,                       \n",
      "       Hot Coffee}          0.03156000  2367\n",
      "[76]  {Apple Pie,                           \n",
      "       Hot Coffee}          0.03102667  2327\n",
      "[77]  {Almond Twist,                        \n",
      "       Hot Coffee}          0.03092000  2319\n",
      "[78]  {Coffee Eclair,                       \n",
      "       Single Espresso}     0.02949333  2212\n",
      "[79]  {Blackberry Tart,                     \n",
      "       Single Espresso}     0.02946667  2210\n",
      "[80]  {Chocolate Tart,                      \n",
      "       Walnut Cookie}       0.02856000  2142\n",
      "[81]  {Vanilla Frappuccino,                 \n",
      "       Walnut Cookie}       0.02848000  2136\n",
      "[82]  {Almond Twist,                        \n",
      "       Coffee Eclair,                       \n",
      "       Hot Coffee}          0.02812000  2109\n",
      "[83]  {Apple Pie,                           \n",
      "       Coffee Eclair,                       \n",
      "       Hot Coffee}          0.02809333  2107\n",
      "[84]  {Almond Twist,                        \n",
      "       Apple Pie,                           \n",
      "       Hot Coffee}          0.02805333  2104\n",
      "[85]  {Lemon Lemonade,                      \n",
      "       Raspberry Cookie}    0.02801333  2101\n",
      "[86]  {Almond Twist,                        \n",
      "       Apple Pie,                           \n",
      "       Coffee Eclair,                       \n",
      "       Hot Coffee}          0.02792000  2094\n",
      "[87]  {Apple Croissant,                     \n",
      "       Apple Danish}        0.02789333  2092\n",
      "[88]  {Apple Danish,                        \n",
      "       Apple Tart}          0.02785333  2089\n",
      "[89]  {Apple Croissant,                     \n",
      "       Apple Tart}          0.02784000  2088\n",
      "[90]  {Lemon Lemonade,                      \n",
      "       Raspberry Lemonade}  0.02784000  2088\n",
      "[91]  {Lemon Cookie,                        \n",
      "       Raspberry Cookie}    0.02782667  2087\n",
      "[92]  {Lemon Cookie,                        \n",
      "       Raspberry Lemonade}  0.02782667  2087\n",
      "[93]  {Lemon Cookie,                        \n",
      "       Lemon Lemonade}      0.02781333  2086\n",
      "[94]  {Raspberry Cookie,                    \n",
      "       Raspberry Lemonade}  0.02772000  2079\n",
      "[95]  {Blackberry Tart,                     \n",
      "       Coffee Eclair,                       \n",
      "       Single Espresso}     0.02720000  2040\n",
      "[96]  {Chocolate Tart,                      \n",
      "       Vanilla Frappuccino,                 \n",
      "       Walnut Cookie}       0.02676000  2007\n",
      "[97]  {Lemon Cookie,                        \n",
      "       Lemon Lemonade,                      \n",
      "       Raspberry Cookie}    0.02576000  1932\n",
      "[98]  {Lemon Lemonade,                      \n",
      "       Raspberry Cookie,                    \n",
      "       Raspberry Lemonade}  0.02574667  1931\n",
      "[99]  {Lemon Cookie,                        \n",
      "       Raspberry Cookie,                    \n",
      "       Raspberry Lemonade}  0.02568000  1926\n",
      "[100] {Lemon Cookie,                        \n",
      "       Lemon Lemonade,                      \n",
      "       Raspberry Lemonade}  0.02562667  1922\n",
      "[101] {Lemon Cookie,                        \n",
      "       Lemon Lemonade,                      \n",
      "       Raspberry Cookie,                    \n",
      "       Raspberry Lemonade}  0.02556000  1917\n",
      "[102] {Apple Croissant,                     \n",
      "       Apple Danish,                        \n",
      "       Apple Tart}          0.02550667  1913\n",
      "[103] {Green Tea,                           \n",
      "       Raspberry Cookie}    0.02314667  1736\n",
      "[104] {Apple Danish,                        \n",
      "       Cherry Soda}         0.02313333  1735\n",
      "[105] {Green Tea,                           \n",
      "       Lemon Cookie}        0.02308000  1731\n",
      "[106] {Green Tea,                           \n",
      "       Lemon Lemonade}      0.02302667  1727\n",
      "[107] {Green Tea,                           \n",
      "       Raspberry Lemonade}  0.02292000  1719\n",
      "[108] {Apple Croissant,                     \n",
      "       Cherry Soda}         0.02289333  1717\n",
      "[109] {Apple Tart,                          \n",
      "       Cherry Soda}         0.02278667  1709\n",
      "[110] {Green Tea,                           \n",
      "       Lemon Cookie,                        \n",
      "       Raspberry Lemonade}  0.02093333  1570\n",
      "[111] {Green Tea,                           \n",
      "       Lemon Lemonade,                      \n",
      "       Raspberry Cookie}    0.02086667  1565\n",
      "[112] {Green Tea,                           \n",
      "       Lemon Cookie,                        \n",
      "       Lemon Lemonade}      0.02085333  1564\n",
      "[113] {Green Tea,                           \n",
      "       Raspberry Cookie,                    \n",
      "       Raspberry Lemonade}  0.02085333  1564\n",
      "[114] {Apple Croissant,                     \n",
      "       Apple Danish,                        \n",
      "       Cherry Soda}         0.02080000  1560\n",
      "[115] {Green Tea,                           \n",
      "       Lemon Lemonade,                      \n",
      "       Raspberry Lemonade}  0.02080000  1560\n",
      "[116] {Apple Croissant,                     \n",
      "       Apple Tart,                          \n",
      "       Cherry Soda}         0.02077333  1558\n",
      "[117] {Green Tea,                           \n",
      "       Lemon Cookie,                        \n",
      "       Raspberry Cookie}    0.02077333  1558\n",
      "[118] {Green Tea,                           \n",
      "       Lemon Lemonade,                      \n",
      "       Raspberry Cookie,                    \n",
      "       Raspberry Lemonade}  0.02074667  1556\n",
      "[119] {Apple Danish,                        \n",
      "       Apple Tart,                          \n",
      "       Cherry Soda}         0.02073333  1555\n",
      "[120] {Green Tea,                           \n",
      "       Lemon Cookie,                        \n",
      "       Raspberry Cookie,                    \n",
      "       Raspberry Lemonade}  0.02073333  1555\n",
      "[121] {Green Tea,                           \n",
      "       Lemon Cookie,                        \n",
      "       Lemon Lemonade,                      \n",
      "       Raspberry Cookie}    0.02073333  1555\n",
      "[122] {Green Tea,                           \n",
      "       Lemon Cookie,                        \n",
      "       Lemon Lemonade,                      \n",
      "       Raspberry Lemonade}  0.02073333  1555\n",
      "[123] {Green Tea,                           \n",
      "       Lemon Cookie,                        \n",
      "       Lemon Lemonade,                      \n",
      "       Raspberry Cookie,                    \n",
      "       Raspberry Lemonade}  0.02073333  1555\n",
      "[124] {Apple Croissant,                     \n",
      "       Apple Danish,                        \n",
      "       Apple Tart,                          \n",
      "       Cherry Soda}         0.02058667  1544\n"
     ]
    }
   ],
   "source": [
    "f_is <- apriori(tr_75k, parameter=list(support=.02, target=\"frequent itemsets\"))\n",
    "inspect(sort(f_is, decreasing = T, by=\"count\"))\n",
    "rm(f_is)"
   ]
  },
  {
   "cell_type": "markdown",
   "metadata": {},
   "source": [
    "The most frequent item [1] with count 8193 is Coffee Eclair\n",
    "\n",
    "The least frequent item [59] with count 3145 is Chocolate Meringue"
   ]
  }
 ],
 "metadata": {
  "kernelspec": {
   "display_name": "R",
   "language": "R",
   "name": "ir"
  },
  "language_info": {
   "codemirror_mode": "r",
   "file_extension": ".r",
   "mimetype": "text/x-r-source",
   "name": "R",
   "pygments_lexer": "r",
   "version": "3.5.2"
  },
  "toc": {
   "base_numbering": 1,
   "nav_menu": {},
   "number_sections": false,
   "sideBar": true,
   "skip_h1_title": true,
   "title_cell": "Table of Contents",
   "title_sidebar": "Contents",
   "toc_cell": false,
   "toc_position": {},
   "toc_section_display": true,
   "toc_window_display": false
  }
 },
 "nbformat": 4,
 "nbformat_minor": 2
}
