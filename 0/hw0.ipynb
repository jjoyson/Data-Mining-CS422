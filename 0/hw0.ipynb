{
 "cells": [
  {
   "cell_type": "markdown",
   "metadata": {},
   "source": [
    "# CS 422 Section 01\n",
    "<p>Department of Computer Science</p>\n",
    "<p>Illinois Institute of Technology</p>\n",
    "<p>Jithin Joyson</p>\n",
    "<p>Spring 2019: Homework 0</p>"
   ]
  },
  {
   "cell_type": "markdown",
   "metadata": {},
   "source": [
    "## 2 Practicum problems"
   ]
  },
  {
   "cell_type": "markdown",
   "metadata": {},
   "source": [
    "### 2.1 Problem 1"
   ]
  },
  {
   "cell_type": "markdown",
   "metadata": {},
   "source": [
    "#### 1-A"
   ]
  },
  {
   "cell_type": "code",
   "execution_count": 1,
   "metadata": {},
   "outputs": [
    {
     "name": "stdout",
     "output_type": "stream",
     "text": [
      "   speed dist\n",
      "1      4    2\n",
      "2      4   10\n",
      "3      7    4\n",
      "4      7   22\n",
      "5      8   16\n",
      "6      9   10\n",
      "7     10   18\n",
      "8     10   26\n",
      "9     10   34\n",
      "10    11   17\n",
      "11    11   28\n",
      "12    12   14\n",
      "13    12   20\n",
      "14    12   24\n",
      "15    12   28\n",
      "16    13   26\n",
      "17    13   34\n",
      "18    13   34\n",
      "19    13   46\n",
      "20    14   26\n",
      "21    14   36\n",
      "22    14   60\n",
      "23    14   80\n",
      "24    15   20\n",
      "25    15   26\n",
      "26    15   54\n",
      "27    16   32\n",
      "28    16   40\n",
      "29    17   32\n",
      "30    17   40\n",
      "31    17   50\n",
      "32    18   42\n",
      "33    18   56\n",
      "34    18   76\n",
      "35    18   84\n",
      "36    19   36\n",
      "37    19   46\n",
      "38    19   68\n",
      "39    20   32\n",
      "40    20   48\n",
      "41    20   52\n",
      "42    20   56\n",
      "43    20   64\n",
      "44    22   66\n",
      "45    23   54\n",
      "46    24   70\n",
      "47    24   92\n",
      "48    24   93\n",
      "49    24  120\n",
      "50    25   85\n"
     ]
    }
   ],
   "source": [
    "attach(cars)\n",
    "print(cars)"
   ]
  },
  {
   "cell_type": "markdown",
   "metadata": {},
   "source": [
    "#### 1-B"
   ]
  },
  {
   "cell_type": "code",
   "execution_count": 2,
   "metadata": {},
   "outputs": [
    {
     "data": {
      "image/png": "[encoded data removed]",
      "text/plain": [
       "Plot with title \"The Cars Dataset\""
      ]
     },
     "metadata": {},
     "output_type": "display_data"
    }
   ],
   "source": [
    "plot(cars, main = \"The Cars Dataset\")"
   ]
  },
  {
   "cell_type": "markdown",
   "metadata": {},
   "source": [
    "#### 1-C"
   ]
  },
  {
   "cell_type": "code",
   "execution_count": 3,
   "metadata": {},
   "outputs": [
    {
     "data": {
      "text/plain": [
       "     speed           dist       \n",
       " Min.   : 4.0   Min.   :  2.00  \n",
       " 1st Qu.:12.0   1st Qu.: 26.00  \n",
       " Median :15.0   Median : 36.00  \n",
       " Mean   :15.4   Mean   : 42.98  \n",
       " 3rd Qu.:19.0   3rd Qu.: 56.00  \n",
       " Max.   :25.0   Max.   :120.00  "
      ]
     },
     "metadata": {},
     "output_type": "display_data"
    }
   ],
   "source": [
    "summary(cars)"
   ]
  },
  {
   "cell_type": "markdown",
   "metadata": {},
   "source": [
    "#### 1-D"
   ]
  },
  {
   "cell_type": "code",
   "execution_count": 4,
   "metadata": {},
   "outputs": [
    {
     "name": "stdout",
     "output_type": "stream",
     "text": [
      "[1] \"The maximum speed is 25.0\"\n",
      "[1] \"The minimum distance is 2.00\"\n"
     ]
    }
   ],
   "source": [
    "print('The maximum speed is 25.0')\n",
    "print('The minimum distance is 2.00')"
   ]
  },
  {
   "cell_type": "markdown",
   "metadata": {},
   "source": [
    "### 2.2 Problem 2"
   ]
  },
  {
   "cell_type": "markdown",
   "metadata": {},
   "source": [
    "#### 2-A"
   ]
  },
  {
   "cell_type": "code",
   "execution_count": 5,
   "metadata": {},
   "outputs": [
    {
     "data": {
      "text/html": [
       "<table>\n",
       "<thead><tr><th scope=col>name</th><th scope=col>id</th><th scope=col>gpa</th><th scope=col>grade</th></tr></thead>\n",
       "<tbody>\n",
       "\t<tr><td>Robert DeNiro    </td><td> 9711            </td><td>3.44             </td><td>B                </td></tr>\n",
       "\t<tr><td>Robert Downey, Jr</td><td>33771            </td><td>2.00             </td><td>C                </td></tr>\n",
       "\t<tr><td>Samantha Bee     </td><td>61094            </td><td>4.00             </td><td>A                </td></tr>\n",
       "\t<tr><td>Jason Bateman    </td><td>45003            </td><td>1.00             </td><td>E                </td></tr>\n",
       "\t<tr><td>Alicia Keyes     </td><td>55101            </td><td>3.92             </td><td>B                </td></tr>\n",
       "\t<tr><td>Denzel Washington</td><td>71005            </td><td>4.00             </td><td>A                </td></tr>\n",
       "\t<tr><td>Joaquin Phoenix  </td><td>41180            </td><td>2.89             </td><td>C                </td></tr>\n",
       "</tbody>\n",
       "</table>\n"
      ],
      "text/latex": [
       "\\begin{tabular}{r|llll}\n",
       " name & id & gpa & grade\\\\\n",
       "\\hline\n",
       "\t Robert DeNiro     &  9711             & 3.44              & B                \\\\\n",
       "\t Robert Downey, Jr & 33771             & 2.00              & C                \\\\\n",
       "\t Samantha Bee      & 61094             & 4.00              & A                \\\\\n",
       "\t Jason Bateman     & 45003             & 1.00              & E                \\\\\n",
       "\t Alicia Keyes      & 55101             & 3.92              & B                \\\\\n",
       "\t Denzel Washington & 71005             & 4.00              & A                \\\\\n",
       "\t Joaquin Phoenix   & 41180             & 2.89              & C                \\\\\n",
       "\\end{tabular}\n"
      ],
      "text/markdown": [
       "\n",
       "| name | id | gpa | grade |\n",
       "|---|---|---|---|\n",
       "| Robert DeNiro     |  9711             | 3.44              | B                 |\n",
       "| Robert Downey, Jr | 33771             | 2.00              | C                 |\n",
       "| Samantha Bee      | 61094             | 4.00              | A                 |\n",
       "| Jason Bateman     | 45003             | 1.00              | E                 |\n",
       "| Alicia Keyes      | 55101             | 3.92              | B                 |\n",
       "| Denzel Washington | 71005             | 4.00              | A                 |\n",
       "| Joaquin Phoenix   | 41180             | 2.89              | C                 |\n",
       "\n"
      ],
      "text/plain": [
       "  name              id    gpa  grade\n",
       "1 Robert DeNiro      9711 3.44 B    \n",
       "2 Robert Downey, Jr 33771 2.00 C    \n",
       "3 Samantha Bee      61094 4.00 A    \n",
       "4 Jason Bateman     45003 1.00 E    \n",
       "5 Alicia Keyes      55101 3.92 B    \n",
       "6 Denzel Washington 71005 4.00 A    \n",
       "7 Joaquin Phoenix   41180 2.89 C    "
      ]
     },
     "metadata": {},
     "output_type": "display_data"
    }
   ],
   "source": [
    "df <- read.csv(\"student.csv\", sep=\";\", header=T)\n",
    "df"
   ]
  },
  {
   "cell_type": "code",
   "execution_count": 6,
   "metadata": {},
   "outputs": [
    {
     "data": {
      "text/html": [
       "<table>\n",
       "<thead><tr><th scope=col>name</th><th scope=col>id</th><th scope=col>gpa</th><th scope=col>grade</th></tr></thead>\n",
       "<tbody>\n",
       "\t<tr><td>Robert DeNiro    </td><td> 9711            </td><td>3.44             </td><td>B                </td></tr>\n",
       "\t<tr><td>Robert Downey, Jr</td><td>33771            </td><td>2.00             </td><td>C                </td></tr>\n",
       "\t<tr><td>Samantha Bee     </td><td>61094            </td><td>4.00             </td><td>A                </td></tr>\n",
       "\t<tr><td>Jason Bateman    </td><td>45003            </td><td>1.00             </td><td>E                </td></tr>\n",
       "\t<tr><td>Alicia Keyes     </td><td>55101            </td><td>3.92             </td><td>B                </td></tr>\n",
       "\t<tr><td>Denzel Washington</td><td>71005            </td><td>4.00             </td><td>A                </td></tr>\n",
       "\t<tr><td>Joaquin Phoenix  </td><td>41180            </td><td>2.89             </td><td>C                </td></tr>\n",
       "\t<tr><td>Brad Pitt        </td><td>40051            </td><td>2.21             </td><td>C                </td></tr>\n",
       "</tbody>\n",
       "</table>\n"
      ],
      "text/latex": [
       "\\begin{tabular}{r|llll}\n",
       " name & id & gpa & grade\\\\\n",
       "\\hline\n",
       "\t Robert DeNiro     &  9711             & 3.44              & B                \\\\\n",
       "\t Robert Downey, Jr & 33771             & 2.00              & C                \\\\\n",
       "\t Samantha Bee      & 61094             & 4.00              & A                \\\\\n",
       "\t Jason Bateman     & 45003             & 1.00              & E                \\\\\n",
       "\t Alicia Keyes      & 55101             & 3.92              & B                \\\\\n",
       "\t Denzel Washington & 71005             & 4.00              & A                \\\\\n",
       "\t Joaquin Phoenix   & 41180             & 2.89              & C                \\\\\n",
       "\t Brad Pitt         & 40051             & 2.21              & C                \\\\\n",
       "\\end{tabular}\n"
      ],
      "text/markdown": [
       "\n",
       "| name | id | gpa | grade |\n",
       "|---|---|---|---|\n",
       "| Robert DeNiro     |  9711             | 3.44              | B                 |\n",
       "| Robert Downey, Jr | 33771             | 2.00              | C                 |\n",
       "| Samantha Bee      | 61094             | 4.00              | A                 |\n",
       "| Jason Bateman     | 45003             | 1.00              | E                 |\n",
       "| Alicia Keyes      | 55101             | 3.92              | B                 |\n",
       "| Denzel Washington | 71005             | 4.00              | A                 |\n",
       "| Joaquin Phoenix   | 41180             | 2.89              | C                 |\n",
       "| Brad Pitt         | 40051             | 2.21              | C                 |\n",
       "\n"
      ],
      "text/plain": [
       "  name              id    gpa  grade\n",
       "1 Robert DeNiro      9711 3.44 B    \n",
       "2 Robert Downey, Jr 33771 2.00 C    \n",
       "3 Samantha Bee      61094 4.00 A    \n",
       "4 Jason Bateman     45003 1.00 E    \n",
       "5 Alicia Keyes      55101 3.92 B    \n",
       "6 Denzel Washington 71005 4.00 A    \n",
       "7 Joaquin Phoenix   41180 2.89 C    \n",
       "8 Brad Pitt         40051 2.21 C    "
      ]
     },
     "metadata": {},
     "output_type": "display_data"
    }
   ],
   "source": [
    "temp <- data.frame(name = 'Brad Pitt', id = 40051, gpa = 2.21, grade = 'C')\n",
    "df <- rbind(df,temp)\n",
    "df"
   ]
  }
 ],
 "metadata": {
  "kernelspec": {
   "display_name": "R",
   "language": "R",
   "name": "ir"
  },
  "language_info": {
   "codemirror_mode": "r",
   "file_extension": ".r",
   "mimetype": "text/x-r-source",
   "name": "R",
   "pygments_lexer": "r",
   "version": "3.5.2"
  },
  "toc": {
   "base_numbering": 1,
   "nav_menu": {
    "height": "224px",
    "width": "268px"
   },
   "number_sections": false,
   "sideBar": true,
   "skip_h1_title": false,
   "title_cell": "Table of Contents",
   "title_sidebar": "Table of Contents",
   "toc_cell": false,
   "toc_position": {
    "height": "543.2px",
    "left": "304px",
    "top": "180px",
    "width": "247.6px"
   },
   "toc_section_display": true,
   "toc_window_display": true
  }
 },
 "nbformat": 4,
 "nbformat_minor": 2
}
